{
 "cells": [
  {
   "cell_type": "markdown",
   "metadata": {},
   "source": [
    "# Lista: Interpolação e Integração Numérica"
   ]
  },
  {
   "cell_type": "markdown",
   "metadata": {},
   "source": [
    "### 1. Interpolação com funções de uma variável"
   ]
  },
  {
   "cell_type": "markdown",
   "metadata": {},
   "source": [
    "####   (a) Implemente um função em Julia tal que\n",
    "      i. Entrada: os pontos (x0, y0),(x1, y1), (x2, y2) e (x3, y3).\n",
    "      ii. Saída: os 4 coeficientes do polinômio P(x) de grau 3 tal que P(xi) = yi"
   ]
  },
  {
   "cell_type": "code",
   "execution_count": 118,
   "metadata": {},
   "outputs": [
    {
     "data": {
      "text/plain": [
       "interpolação_grau3 (generic function with 1 method)"
      ]
     },
     "execution_count": 118,
     "metadata": {},
     "output_type": "execute_result"
    }
   ],
   "source": [
    "using LinearAlgebra\n",
    "\n",
    "function interpolação_grau3(pontos)\n",
    "    # cria a matriz de vandermonde, que contem as constantes que multiplicam as variáveis que queremos achar\n",
    "    vandermonde =   [1 pontos[1,1] pontos[1,1]^2 pontos[1,1]^3;\n",
    "                     1 pontos[2,1] pontos[2,1]^2 pontos[2,1]^3;\n",
    "                     1 pontos[3,1] pontos[3,1]^2 pontos[3,1]^3;\n",
    "                     1 pontos[4,1] pontos[4,1]^2 pontos[4,1]^3;]\n",
    "    \n",
    "    # cria um vetor com os valores de y em cada x\n",
    "    y = [pontos[1,2]; pontos[2,2]; pontos[3,2]; pontos[4,2]]\n",
    "    \n",
    "    # retorna a solução do sistema Vc = y\n",
    "    # que é um vetor em que cada posição corresponde a um coeficiente do polinômio\n",
    "    return vandermonde \\ y\n",
    "end"
   ]
  },
  {
   "cell_type": "markdown",
   "metadata": {},
   "source": [
    "Testando a solução"
   ]
  },
  {
   "cell_type": "code",
   "execution_count": 119,
   "metadata": {},
   "outputs": [
    {
     "data": {
      "text/plain": [
       "checka_interpolação (generic function with 1 method)"
      ]
     },
     "execution_count": 119,
     "metadata": {},
     "output_type": "execute_result"
    }
   ],
   "source": [
    "function checka_interpolação(coeficientes, pontos)\n",
    "    resultado = true\n",
    "    m, n = size(pontos)\n",
    "    \n",
    "    # percorre todas as equações\n",
    "    for j=1:m\n",
    "        yi = 0\n",
    "        xi = pontos[j,1]\n",
    "        \n",
    "        # calcula o valor do polinômio em xi\n",
    "        for i=1:m\n",
    "            yi += coeficientes[i] * xi^(i-1)\n",
    "        end\n",
    "        \n",
    "        # se algum yi diferir do valor, resultado vai pra false\n",
    "        resultado = resultado && (yi - pontos[j,2] < 1e-8)\n",
    "    end\n",
    "    \n",
    "    return resultado ? :correto : :errado\n",
    "end"
   ]
  },
  {
   "cell_type": "code",
   "execution_count": 120,
   "metadata": {},
   "outputs": [
    {
     "name": "stdout",
     "output_type": "stream",
     "text": [
      "[-15.0, 23.0, -9.0, 1.0]\n"
     ]
    },
    {
     "data": {
      "text/plain": [
       ":correto"
      ]
     },
     "execution_count": 120,
     "metadata": {},
     "output_type": "execute_result"
    }
   ],
   "source": [
    "pontos = [1.0 0; 5 0; 3 0; 0 -15]\n",
    "\n",
    "coeficientes = interpolação_grau3(pontos)\n",
    "println(coeficientes)\n",
    "checka_interpolação(coeficientes, pontos)"
   ]
  },
  {
   "cell_type": "code",
   "execution_count": 121,
   "metadata": {},
   "outputs": [
    {
     "name": "stdout",
     "output_type": "stream",
     "text": [
      "[-15.0, 23.0, -9.0, 1.0]\n"
     ]
    },
    {
     "data": {
      "text/plain": [
       ":correto"
      ]
     },
     "execution_count": 121,
     "metadata": {},
     "output_type": "execute_result"
    }
   ],
   "source": [
    "pontos = [-1.0 0; 0 0; 1 0; 2 6]\n",
    "\n",
    "interpolação_grau3(pontos)\n",
    "println(coeficientes)\n",
    "checka_interpolação(coeficientes, pontos)"
   ]
  },
  {
   "cell_type": "markdown",
   "metadata": {},
   "source": [
    "#### (b) (Bônus) Generalize o item anterior para a função poder receber n pontos."
   ]
  },
  {
   "cell_type": "code",
   "execution_count": 122,
   "metadata": {},
   "outputs": [
    {
     "data": {
      "text/plain": [
       "interpolação (generic function with 1 method)"
      ]
     },
     "execution_count": 122,
     "metadata": {},
     "output_type": "execute_result"
    }
   ],
   "source": [
    "function interpolação(pontos)\n",
    "    m, n = size(pontos)\n",
    "    vandermonde = zeros(m, m)\n",
    "    y = zeros(m)\n",
    "    \n",
    "    # cria a matriz de vandermonde para um polinômio de grau m-1\n",
    "    for i = 1:m\n",
    "        y[i] = pontos[i,2]\n",
    "\n",
    "        for j = 1:m\n",
    "            vandermonde[i, j] = pontos[i,1]^(j-1)\n",
    "        end\n",
    "    end\n",
    "    \n",
    "    return vandermonde \\ y\n",
    "end"
   ]
  },
  {
   "cell_type": "markdown",
   "metadata": {},
   "source": [
    "Testando a solução"
   ]
  },
  {
   "cell_type": "code",
   "execution_count": 123,
   "metadata": {},
   "outputs": [
    {
     "name": "stdout",
     "output_type": "stream",
     "text": [
      "[-31.0, 47.5, -21.5, 3.0]\n"
     ]
    },
    {
     "data": {
      "text/plain": [
       ":correto"
      ]
     },
     "execution_count": 123,
     "metadata": {},
     "output_type": "execute_result"
    }
   ],
   "source": [
    "pontos = [1.0 -2; 2 2; 3 -1; 4 7;]\n",
    "\n",
    "coeficientes = interpolação_grau3(pontos)\n",
    "println(coeficientes)\n",
    "checka_interpolação(coeficientes, pontos)"
   ]
  },
  {
   "cell_type": "code",
   "execution_count": 124,
   "metadata": {},
   "outputs": [
    {
     "name": "stdout",
     "output_type": "stream",
     "text": [
      "[-144717.42857145894, 353924.98333338427, -324991.99166668655, 146559.20833332953, -34726.79166666282, 4141.808333332555, -195.78809523804517]\n"
     ]
    },
    {
     "data": {
      "text/plain": [
       ":correto"
      ]
     },
     "execution_count": 124,
     "metadata": {},
     "output_type": "execute_result"
    }
   ],
   "source": [
    "pontos = [1.0 -6; 2 17; 3 88; 4 105; 5 -274; 6 2000; 5.5 3000]\n",
    "\n",
    "coeficientes = interpolação(pontos)\n",
    "println(coeficientes)\n",
    "checka_interpolação(coeficientes, pontos)"
   ]
  },
  {
   "cell_type": "markdown",
   "metadata": {},
   "source": [
    "#### (c) Implemente um função em Julia tal que\n",
    "i. Entrada: os pontos (x0, y0),(x1, y1), (x2, y2) e (x3, y3).\n",
    "\n",
    "ii. Saída: os 3 coeficientes c0, c1, c2 de $G(x) = c_0sen(x) + c_1x^2 + c_2x^{10}$\n",
    "\n",
    "tal que $G(x_i) = y_i$"
   ]
  },
  {
   "cell_type": "code",
   "execution_count": 125,
   "metadata": {},
   "outputs": [
    {
     "data": {
      "text/plain": [
       "interpolação_c (generic function with 1 method)"
      ]
     },
     "execution_count": 125,
     "metadata": {},
     "output_type": "execute_result"
    }
   ],
   "source": [
    "function interpolação_c(pontos)\n",
    "    # cria a matriz de vandermonde, que contem as constantes que multiplicam as variáveis que queremos achar\n",
    "    vandermonde = [sin(pontos[1,1]) pontos[1,1]^2 pontos[1,1]^10;\n",
    "                   sin(pontos[2,1]) pontos[2,1]^2 pontos[2,1]^10;\n",
    "                   sin(pontos[3,1]) pontos[3,1]^2 pontos[3,1]^10;\n",
    "                   sin(pontos[4,1]) pontos[4,1]^2 pontos[4,1]^10;]\n",
    "\n",
    "    # cria um vetor com os valores de y em cada x\n",
    "    y = [pontos[1,2]; pontos[2,2]; pontos[3,2]; pontos[4,2]]\n",
    "    \n",
    "    # retorna a solução do sistema Vc = y\n",
    "    # que é um vetor em que cada posição corresponde a um coeficiente do polinômio\n",
    "    return vandermonde \\ y\n",
    "end"
   ]
  },
  {
   "cell_type": "markdown",
   "metadata": {},
   "source": [
    "#### iii. Dá para verificar se deu tudo certo?\n",
    "A função abaixo checa se todos os valores fornecidos pela função $G(x)$ estão de acordo com os valores passados inicialmente\n",
    "\n",
    "Como a entrada é com quatro pontos, é possível que alguma das equações torne o sistema sem solução. Entretanto, esse resultado não aparece aqui no notebook, em alguns casos o operador \"\\\" retorna uma solução mesmo que o sistema não tenha nenhuma. Em outros casos, o operador retorna uma \"Singular Exception\". Dessa forma, o único teste possível seria verificar se a função final interpola de fato todos os pontos passados. Não entendi porque isso acontece em Julia, infelizmente não consegui achar com detalhes o funcionamento do operador. Apesar disso, teoricamente ficaria bem claro quando o conjunto de pontos passados na entrada não pode ser representado como combinação linear das funções, pois o sistema não terá solução."
   ]
  },
  {
   "cell_type": "code",
   "execution_count": 126,
   "metadata": {},
   "outputs": [
    {
     "data": {
      "text/plain": [
       "checka_interpolação_c (generic function with 1 method)"
      ]
     },
     "execution_count": 126,
     "metadata": {},
     "output_type": "execute_result"
    }
   ],
   "source": [
    "function checka_interpolação_c(coeficientes, pontos)\n",
    "    resultado = true\n",
    "    m, n = size(pontos)\n",
    "    \n",
    "    # percorre todas as equações\n",
    "    for j=1:m\n",
    "        xi = pontos[j,1]\n",
    "        \n",
    "        # calcula o valor do polinômio em xi\n",
    "        yi = coeficientes[1] * sin(xi) + coeficientes[2] * xi^2 + coeficientes[3] * xi^10\n",
    "        \n",
    "        # se algum yi diferir do valor, resultado vai pra false\n",
    "        resultado = resultado && (yi - pontos[j,2] < 1e-10)\n",
    "    end\n",
    "\n",
    "    return resultado ? :correto : :errado\n",
    "end"
   ]
  },
  {
   "cell_type": "markdown",
   "metadata": {},
   "source": [
    "Testando a solução"
   ]
  },
  {
   "cell_type": "code",
   "execution_count": 130,
   "metadata": {},
   "outputs": [
    {
     "data": {
      "text/plain": [
       "(-0.27950024994548445, -0.938325443937609, -0.7474146508874503, -0.1999670154965787)"
      ]
     },
     "execution_count": 130,
     "metadata": {},
     "output_type": "execute_result"
    }
   ],
   "source": [
    "f(x) = -3*sin(x) + 2*x^2 - 0.05*x^10\n",
    "\n",
    "f(0.1), f(0.5), f(0.9), f(1.3)"
   ]
  },
  {
   "cell_type": "code",
   "execution_count": 131,
   "metadata": {},
   "outputs": [
    {
     "name": "stdout",
     "output_type": "stream",
     "text": [
      "[-3.0000000000000013, 2.0000000000000018, -0.0500000000000002]\n"
     ]
    },
    {
     "data": {
      "text/plain": [
       ":correto"
      ]
     },
     "execution_count": 131,
     "metadata": {},
     "output_type": "execute_result"
    }
   ],
   "source": [
    "pontos = [0.1 -0.27950024994548445; 0.5 -0.938325443937609; 0.9 -0.7474146508874503; 1.3 -0.1999670154965787]\n",
    "\n",
    "coeficientes = interpolação_c(pontos)\n",
    "println(coeficientes)\n",
    "checka_interpolação_c(coeficientes, pontos)"
   ]
  },
  {
   "cell_type": "code",
   "execution_count": 127,
   "metadata": {},
   "outputs": [
    {
     "name": "stdout",
     "output_type": "stream",
     "text": [
      "[0.8882021306834879, 0.08890899570066767, 2.411672428014811e-7]\n"
     ]
    },
    {
     "data": {
      "text/plain": [
       ":errado"
      ]
     },
     "execution_count": 127,
     "metadata": {},
     "output_type": "execute_result"
    }
   ],
   "source": [
    "pontos = [1.0 1; 2 1; 3 1; 4 1]\n",
    "\n",
    "coeficientes = interpolação_c(pontos)\n",
    "println(coeficientes)\n",
    "checka_interpolação_c(coeficientes, pontos)"
   ]
  },
  {
   "cell_type": "markdown",
   "metadata": {},
   "source": [
    "### 2. Integração numérica - Regra do Trapézio"
   ]
  },
  {
   "cell_type": "markdown",
   "metadata": {},
   "source": [
    "(a) Implemente uma função em Julia tal que\n",
    "\n",
    "• Entrada: uma função f, um número positivo n, um número real a, e um número real b.\n",
    "\n",
    "• Saída: uma aproximação de $\\int_{a}^{b} f(x) \\,dx$ com n trapézios."
   ]
  },
  {
   "cell_type": "code",
   "execution_count": 2,
   "metadata": {},
   "outputs": [
    {
     "data": {
      "text/plain": [
       "integração_trapézios (generic function with 1 method)"
      ]
     },
     "execution_count": 2,
     "metadata": {},
     "output_type": "execute_result"
    }
   ],
   "source": [
    "function integração_trapézios(f, a, b, n)\n",
    "    h = abs(b - a) / n # calcula o tamanho da partição\n",
    "    \n",
    "    # usando a regra composta, a linha abaixo calcula a parte do somatório que não tem coeficiente 2\n",
    "    # primeiro faço a soma das bases de cada trapézio para no final multiplicar tudo pela altura\n",
    "    soma_bases = f(a) + f(b) \n",
    "    \n",
    "    # calcula as parcelas restantes do método\n",
    "    for i = 1:n-1\n",
    "        soma_bases += 2*f(a + i*h)\n",
    "    end\n",
    "    \n",
    "    # a área final sera multiplicada pelo valor da base do trapézio\n",
    "    area = soma_bases * h / 2\n",
    "    \n",
    "    return area\n",
    "end"
   ]
  },
  {
   "cell_type": "markdown",
   "metadata": {},
   "source": [
    "Testando a solução. O resultado deve ser próximo de 0.333..."
   ]
  },
  {
   "cell_type": "code",
   "execution_count": 3,
   "metadata": {},
   "outputs": [
    {
     "data": {
      "text/plain": [
       "0.33335000000000004"
      ]
     },
     "execution_count": 3,
     "metadata": {},
     "output_type": "execute_result"
    }
   ],
   "source": [
    "f(x) = x^2\n",
    "\n",
    "integração_trapézios(f, 0, 1, 100)"
   ]
  },
  {
   "cell_type": "markdown",
   "metadata": {},
   "source": [
    "#### (b) Determine uma função f não-linear, a, b, e n > 4 tal que o erro da aproximação é 0 na questão anterior.\n",
    "\n",
    "Um exemplo é a função f(x)=x^3, para a = -1 e b = 1, a integral dará 0 e pela regra do trapézio, para qualquer n par dará 0 também\n",
    "\n",
    "Isso acontece porque x^3 é uma função ímpar, então os valores da função num intervalo simétrico irão se cancelar.\n"
   ]
  },
  {
   "cell_type": "markdown",
   "metadata": {},
   "source": [
    "#### (c) Use a sua criatividade para criar uma função em Julia para aproximar uma integral dupla $\\int_{a}^{b}\\int_{c}^{d} f(x) \\,dx$ numéricamente (não tem resposta certa, mas você precisa justificar o que você fez).\n",
    "\n",
    "A solução abaixo generaliza a regra para qualquer função contínua R^2 -> R\n",
    "\n",
    "Ele utiliza o mesmo princípio da regra dos trapézios para uma variável.\n",
    "\n",
    "Primeiro ele particiona o intervalo [c,d] e, em cada partição, calcula a área em baixo da função, considerando y constante.\n",
    "\n",
    "Depois disso, multiplica a área pelo tamanho da partição em y.\n",
    "\n",
    "A geometricamente, o método funciona, não particionando o sólido em em paralelepípedos, mas sim em primas trapezoidais."
   ]
  },
  {
   "cell_type": "code",
   "execution_count": 77,
   "metadata": {},
   "outputs": [
    {
     "data": {
      "text/plain": [
       "integração_trapézios_integral_dupla (generic function with 1 method)"
      ]
     },
     "execution_count": 77,
     "metadata": {},
     "output_type": "execute_result"
    }
   ],
   "source": [
    "function integração_trapézios_integral_dupla(f, a, b, c, d, n, m)\n",
    "    # calcula o tamanho das partições\n",
    "    hx = abs(b - a) / n\n",
    "    hy = abs(d - c) / m\n",
    "    \n",
    "    volume = 0\n",
    "    area_parcial = 0\n",
    "    \n",
    "    for i = 0:m\n",
    "        # torna y contante e calcula a área embaixo da função\n",
    "        yi = c + i*hy\n",
    "        \n",
    "        # usando a regra composta, a linha abaixo calcula a parte do somatório que não tem coeficiente 2\n",
    "        # primeiro faço a soma das bases de cada trapézio para no final multiplicar tudo pela altura\n",
    "        soma_bases = f(a, yi) + f(b, yi) # calcula a\n",
    "        \n",
    "        # calcula as parcelas restantes do método\n",
    "        for j = 1:n-1\n",
    "            xi = a + j*hx\n",
    "            \n",
    "            soma_bases += 2*f(xi, yi)\n",
    "        end\n",
    "        \n",
    "        # a área embaixo da função será a soma das bases vezes a altura do trapézio sobre 2\n",
    "        area_parcial = soma_bases * hx / 2\n",
    "        \n",
    "        # o volume será a área parcial de cada partição de y vezes o tamanho da partição\n",
    "\n",
    "        volume += area_parcial * hy\n",
    "    end\n",
    "    \n",
    "    return volume\n",
    "end"
   ]
  },
  {
   "cell_type": "markdown",
   "metadata": {},
   "source": [
    "Testando a solução, o resultado deve ser próximo de 1.16"
   ]
  },
  {
   "cell_type": "code",
   "execution_count": 78,
   "metadata": {},
   "outputs": [
    {
     "data": {
      "text/plain": [
       "1.167291687500001"
      ]
     },
     "execution_count": 78,
     "metadata": {},
     "output_type": "execute_result"
    }
   ],
   "source": [
    "f(x,y) = x*y^2\n",
    "\n",
    "integração_trapézios_integral_dupla(f, 0, 1, 1, 2, 2000, 2000)"
   ]
  },
  {
   "cell_type": "markdown",
   "metadata": {},
   "source": [
    "### 3. Interpolação para funções de duas variáveis."
   ]
  },
  {
   "cell_type": "code",
   "execution_count": 79,
   "metadata": {},
   "outputs": [
    {
     "data": {
      "text/plain": [
       "checka_interpolação (generic function with 1 method)"
      ]
     },
     "execution_count": 79,
     "metadata": {},
     "output_type": "execute_result"
    }
   ],
   "source": [
    "function checka_interpolação(coeficientes, pontos)\n",
    "    resultado = true\n",
    "    m, n = size(pontos)\n",
    "    \n",
    "    # percorre todas as equações\n",
    "    for j=1:m\n",
    "        xi = pontos[j,1]\n",
    "        yi = pontos[j,2]\n",
    "        \n",
    "        # calcula o valor do polinômio em xi\n",
    "        zi = coeficientes[1] * xi*yi + coeficientes[2] * xi + coeficientes[3] * yi + coeficientes[4]\n",
    "\n",
    "        # se algum yi diferir do valor, resultado vai pra false\n",
    "        resultado = resultado && (zi - pontos[j,3] < 1e-10)\n",
    "    end\n",
    "\n",
    "    return resultado ? :correto : :errado\n",
    "end"
   ]
  },
  {
   "cell_type": "code",
   "execution_count": 80,
   "metadata": {},
   "outputs": [
    {
     "ename": "UndefVarError",
     "evalue": "UndefVarError: interpolação_montanha not defined",
     "output_type": "error",
     "traceback": [
      "UndefVarError: interpolação_montanha not defined",
      "",
      "Stacktrace:",
      " [1] top-level scope at In[80]:2"
     ]
    }
   ],
   "source": [
    "pontos = [1.0 2 700; 1 4 500; 3 2 500; 3 4 600]\n",
    "\n",
    "coeficientes = interpolação_montanha(pontos)\n",
    "println(coeficientes)\n",
    "checka_interpolação(coeficientes, pontos)"
   ]
  },
  {
   "cell_type": "markdown",
   "metadata": {},
   "source": [
    "#### (a) Dada algumas medições da tabela da função altura A(x, y) de uma montanha em posições diferentes (x0, y0),(x0, y1),(x1, y0),e (x1, y1) determine a melhor aproximação possível para a posição e altura do pico ou vale (máximo e mínimos locais) se existir da montanha usando a interpolação quadrática para funções de duas variáveis que vimos na aula."
   ]
  },
  {
   "cell_type": "markdown",
   "metadata": {},
   "source": [
    "Podemos fazer essa interpolação usando o polinômio de Lagrange\n",
    "\n",
    "$$P(x,y) = A(x_0,y_0) \\cdot \\frac{(x - x_1)(y - y_1)}{(x_0 - x_1)(y_0 - y_1)} + A(x_0,y_1) \\cdot \\frac{(x - x_1)(y - y_0)}{(x_0 - x_1)(y_1 - y_0)} + A(x_1,y_0) \\cdot \\frac{(x - x_0)(y - y_1)}{(x_1 - x_0)(y_0 - y_1)} + A(x_1,y_1) \\cdot \\frac{(x - x_0)(y - y_0)}{(x_1 - x_0)(y_1 - y_0)}$$\n",
    "\n",
    "Substituindo os pontos fornecidos na tabela temos\n",
    "\n",
    "\n",
    "\n",
    "$$P(x,y) = A(1,2) \\cdot \\frac{(x - 3)(y - 4)}{(1 - 3)(2 - 4)} + A(1,4) \\cdot \\frac{(x - 3)(y - 2)}{(1 - 3)(4 - 2)} + A(3,2) \\cdot \\frac{(x - 1)(y - 4)}{(3 - 1)(2 - 4)} + A(3,4) \\cdot \\frac{(x - 1)(y - 2)}{(3 - 1)(4 - 2)}$$\n",
    "\n",
    "\n",
    "\n",
    "$$P(x,y) = 700 \\cdot \\frac{(x - 3)(y - 4)}{(1 - 3)(2 - 4)} + 500 \\cdot \\frac{(x - 3)(y - 2)}{(1 - 3)(4 - 2)} + 500 \\cdot \\frac{(x - 1)(y - 4)}{(3 - 1)(2 - 4)} + 600 \\cdot \\frac{(x - 1)(y - 2)}{(3 - 1)(4 - 2)}$$\n",
    "\n",
    "\n",
    "\n",
    "$$P(x, y) = 75 \\cdot xy - 250 \\cdot x - 175 \\cdot y + 1150$$\n",
    "\n",
    "\n",
    "\n",
    "Os máximos e mínimos da superfície estarão nos pontos críticos ou na borda do retangulo formado pelos intervalos $[1,3] \\times [2,4]$\n",
    "\n",
    "\n",
    "Para achar os pontos críticos, precisamos das derivadas parciais:\n",
    "\n",
    "$$\\frac{\\partial}{\\partial x}P(x,y) = 75 \\cdot y - 250$$\n",
    "\n",
    "$$\\frac{\\partial}{\\partial y}P(x,y) = 75 \\cdot x - 175$$\n",
    "\n",
    "O único ponto crítico, quando a derivada é zero, é em $(\\frac{7}{3}, \\frac{10}{3})$. Nesse ponto $P(\\frac{7}{3}, \\frac{10}{3}) = 5100/9 = 566,6...$\n",
    "\n",
    "Os valores nas bordas do intervalo são\n",
    "\n",
    "Fixando y = 2\n",
    "$$f_1(x) = P(x, 2) = -100 \\cdot x + 800$$\n",
    "\n",
    "O máximo da função, para $1 \\leq x \\leq 3$, é $f_1(1) = P(1,2) = 700$, quando $x = 1$. O mínimo é $f_1(3) = P(3,2) = 500$\n",
    "\n",
    "Fixando y = 4\n",
    "$$f_2(x) = P(x, 4) = 50 \\cdot x + 450$$\n",
    "\n",
    "O máximo da função, para $1 \\leq x \\leq 3$, é $f_2(3) = P(3,4) = 600$, quando $x = 1$. O mínimo é $f_2(1) = P(1,4) = 500$\n",
    "\n",
    "Fixando x = 1\n",
    "$$f_3(y) = P(1, y) = -100 \\cdot y + 900$$\n",
    "\n",
    "O máximo da função, para $2 \\leq y \\leq 4$, é $f_3(2) = P(1,2) = 700$, quando $y = 2$. O mínimo é $f_3(4) = P(1,4) = 500$\n",
    "\n",
    "Fixando x = 3\n",
    "$$f_4(y) = P(3, y) = 50 \\cdot y + 400$$\n",
    "\n",
    "O máximo da função, para $2 \\leq y \\leq 4$, é $f_4(4) = P(3,4) = 600$, quando $y = 2$. O mínimo é $f_4(2) = P(3,2) = 500$\n",
    "\n",
    "\n",
    "Dessa forma podemos afirmar que os vales da montanha são em $(3,2)$ e $(1,4)$\n",
    "E o pico é em $(1,2)$"
   ]
  }
 ],
 "metadata": {
  "kernelspec": {
   "display_name": "Julia 1.4.1",
   "language": "julia",
   "name": "julia-1.4"
  },
  "language_info": {
   "file_extension": ".jl",
   "mimetype": "application/julia",
   "name": "julia",
   "version": "1.4.1"
  }
 },
 "nbformat": 4,
 "nbformat_minor": 4
}
