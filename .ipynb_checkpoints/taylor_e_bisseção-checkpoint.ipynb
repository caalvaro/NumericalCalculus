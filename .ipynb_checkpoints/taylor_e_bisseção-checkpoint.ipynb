{
 "cells": [
  {
   "cell_type": "markdown",
   "metadata": {},
   "source": [
    "# Polinômios de Taylor"
   ]
  },
  {
   "cell_type": "code",
   "execution_count": 113,
   "metadata": {},
   "outputs": [
    {
     "data": {
      "text/plain": [
       "ℯ = 2.7182818284590..."
      ]
     },
     "execution_count": 113,
     "metadata": {},
     "output_type": "execute_result"
    }
   ],
   "source": [
    "MathConstants.e"
   ]
  },
  {
   "cell_type": "code",
   "execution_count": 114,
   "metadata": {},
   "outputs": [
    {
     "data": {
      "text/plain": [
       "2.718281828459045"
      ]
     },
     "execution_count": 114,
     "metadata": {},
     "output_type": "execute_result"
    }
   ],
   "source": [
    "exp(1) # função do julia para calcular a exponencial"
   ]
  },
  {
   "cell_type": "code",
   "execution_count": 115,
   "metadata": {},
   "outputs": [
    {
     "data": {
      "text/plain": [
       "exp1 (generic function with 1 method)"
      ]
     },
     "execution_count": 115,
     "metadata": {},
     "output_type": "execute_result"
    }
   ],
   "source": [
    "# primeira tentativa de aproximar a função usando a definição ingenua do polinômio de taylor\n",
    "\n",
    "function exp1(x, n)\n",
    "    s = 1.0 # começa com o valor da funçao em 0, pois o polinômio está centrado em 0\n",
    "    \n",
    "    for k = 1:n\n",
    "        s += x^k / factorial(k) # vai somando as próximas parcelas\n",
    "    end\n",
    "    \n",
    "    return s\n",
    "end"
   ]
  },
  {
   "cell_type": "code",
   "execution_count": 116,
   "metadata": {},
   "outputs": [
    {
     "data": {
      "text/plain": [
       "2.7182818011463845"
      ]
     },
     "execution_count": 116,
     "metadata": {},
     "output_type": "execute_result"
    }
   ],
   "source": [
    "exp1(1.0, 10) #aproximou até a sétima casa"
   ]
  },
  {
   "cell_type": "code",
   "execution_count": 117,
   "metadata": {},
   "outputs": [
    {
     "data": {
      "text/plain": [
       "-1.2035194799864257e-5"
      ]
     },
     "execution_count": 117,
     "metadata": {},
     "output_type": "execute_result"
    }
   ],
   "source": [
    "exp1(5.0, 20) - exp(5.0) # causa um overflow por que a função fatorial cresce muito rápido e já não é possível de representar usando 64 bits"
   ]
  },
  {
   "cell_type": "markdown",
   "metadata": {},
   "source": [
    "Como calcular para outros valores de x sem que a função fatorial exploda e dê overflow?\n",
    "\n",
    "$$ a_n = \\frac{x}{n} \\cdot \\frac{x^{n-1}}{(n-1)!} = \\frac{x}{n} \\cdot a_{n-1} $$\n",
    "\n",
    "Dessa forma, não precisamos calcular o fatorial antes e os números grandes no numerador e no denominador vão sendo neutralizados\n",
    "\n",
    "OBS: Isso só vale pra funcões em que todas as derivadas serão 1 no ponto"
   ]
  },
  {
   "cell_type": "code",
   "execution_count": 118,
   "metadata": {},
   "outputs": [
    {
     "data": {
      "text/plain": [
       "exp_sem_overflow (generic function with 1 method)"
      ]
     },
     "execution_count": 118,
     "metadata": {},
     "output_type": "execute_result"
    }
   ],
   "source": [
    "# adaptando a função\n",
    "\n",
    "function exp_sem_overflow(x, n)\n",
    "    s = 1.0\n",
    "    a = 1.0 # salva o valor da última parcela\n",
    "    \n",
    "    for k = 1:n\n",
    "        a = a * x / k # a parcela atual será o valor da última multiplicada por\n",
    "        s += a\n",
    "    end\n",
    "    \n",
    "    return s\n",
    "end\n"
   ]
  },
  {
   "cell_type": "code",
   "execution_count": 119,
   "metadata": {},
   "outputs": [
    {
     "data": {
      "text/plain": [
       "148.4131591025759"
      ]
     },
     "execution_count": 119,
     "metadata": {},
     "output_type": "execute_result"
    }
   ],
   "source": [
    "exp_sem_overflow(5.0, 30) # dessa forma conseguimos calcular, mesmo aumentando a quantidade de iterações"
   ]
  },
  {
   "cell_type": "code",
   "execution_count": 120,
   "metadata": {},
   "outputs": [
    {
     "data": {
      "text/plain": [
       "Inf"
      ]
     },
     "execution_count": 120,
     "metadata": {},
     "output_type": "execute_result"
    }
   ],
   "source": [
    " # para valores de x grandes, a função ainda explodiria. Mas é só por causa do limite do float mesmo\n",
    "\n",
    "exp_sem_overflow(1e12, 30) # só explode para infinito em 1e12"
   ]
  },
  {
   "cell_type": "code",
   "execution_count": 121,
   "metadata": {},
   "outputs": [
    {
     "data": {
      "image/svg+xml": [
       "<?xml version=\"1.0\" encoding=\"utf-8\"?>\n",
       "<svg xmlns=\"http://www.w3.org/2000/svg\" xmlns:xlink=\"http://www.w3.org/1999/xlink\" width=\"600\" height=\"400\" viewBox=\"0 0 2400 1600\">\n",
       "<defs>\n",
       "  <clipPath id=\"clip890\">\n",
       "    <rect x=\"0\" y=\"0\" width=\"2400\" height=\"1600\"/>\n",
       "  </clipPath>\n",
       "</defs>\n",
       "<path clip-path=\"url(#clip890)\" d=\"\n",
       "M0 1600 L2400 1600 L2400 0 L0 0  Z\n",
       "  \" fill=\"#ffffff\" fill-rule=\"evenodd\" fill-opacity=\"1\"/>\n",
       "<defs>\n",
       "  <clipPath id=\"clip891\">\n",
       "    <rect x=\"480\" y=\"0\" width=\"1681\" height=\"1600\"/>\n",
       "  </clipPath>\n",
       "</defs>\n",
       "<path clip-path=\"url(#clip890)\" d=\"\n",
       "M200.788 1423.18 L2352.76 1423.18 L2352.76 123.472 L200.788 123.472  Z\n",
       "  \" fill=\"#ffffff\" fill-rule=\"evenodd\" fill-opacity=\"1\"/>\n",
       "<defs>\n",
       "  <clipPath id=\"clip892\">\n",
       "    <rect x=\"200\" y=\"123\" width=\"2153\" height=\"1301\"/>\n",
       "  </clipPath>\n",
       "</defs>\n",
       "<polyline clip-path=\"url(#clip892)\" style=\"stroke:#000000; stroke-width:2; stroke-opacity:0.1; fill:none\" points=\"\n",
       "  689.094,1423.18 689.094,123.472 \n",
       "  \"/>\n",
       "<polyline clip-path=\"url(#clip892)\" style=\"stroke:#000000; stroke-width:2; stroke-opacity:0.1; fill:none\" points=\"\n",
       "  1223.35,1423.18 1223.35,123.472 \n",
       "  \"/>\n",
       "<polyline clip-path=\"url(#clip892)\" style=\"stroke:#000000; stroke-width:2; stroke-opacity:0.1; fill:none\" points=\"\n",
       "  1757.6,1423.18 1757.6,123.472 \n",
       "  \"/>\n",
       "<polyline clip-path=\"url(#clip892)\" style=\"stroke:#000000; stroke-width:2; stroke-opacity:0.1; fill:none\" points=\"\n",
       "  2291.85,1423.18 2291.85,123.472 \n",
       "  \"/>\n",
       "<polyline clip-path=\"url(#clip890)\" style=\"stroke:#000000; stroke-width:4; stroke-opacity:1; fill:none\" points=\"\n",
       "  200.788,1423.18 2352.76,1423.18 \n",
       "  \"/>\n",
       "<polyline clip-path=\"url(#clip890)\" style=\"stroke:#000000; stroke-width:4; stroke-opacity:1; fill:none\" points=\"\n",
       "  689.094,1423.18 689.094,1407.58 \n",
       "  \"/>\n",
       "<polyline clip-path=\"url(#clip890)\" style=\"stroke:#000000; stroke-width:4; stroke-opacity:1; fill:none\" points=\"\n",
       "  1223.35,1423.18 1223.35,1407.58 \n",
       "  \"/>\n",
       "<polyline clip-path=\"url(#clip890)\" style=\"stroke:#000000; stroke-width:4; stroke-opacity:1; fill:none\" points=\"\n",
       "  1757.6,1423.18 1757.6,1407.58 \n",
       "  \"/>\n",
       "<polyline clip-path=\"url(#clip890)\" style=\"stroke:#000000; stroke-width:4; stroke-opacity:1; fill:none\" points=\"\n",
       "  2291.85,1423.18 2291.85,1407.58 \n",
       "  \"/>\n",
       "<path clip-path=\"url(#clip890)\" d=\"M 0 0 M679.372 1449.29 L697.729 1449.29 L697.729 1453.23 L683.655 1453.23 L683.655 1461.7 Q684.673 1461.35 685.692 1461.19 Q686.71 1461 687.729 1461 Q693.516 1461 696.895 1464.18 Q700.275 1467.35 700.275 1472.76 Q700.275 1478.34 696.803 1481.44 Q693.33 1484.52 687.011 1484.52 Q684.835 1484.52 682.567 1484.15 Q680.321 1483.78 677.914 1483.04 L677.914 1478.34 Q679.997 1479.48 682.219 1480.03 Q684.442 1480.59 686.918 1480.59 Q690.923 1480.59 693.261 1478.48 Q695.599 1476.38 695.599 1472.76 Q695.599 1469.15 693.261 1467.05 Q690.923 1464.94 686.918 1464.94 Q685.043 1464.94 683.168 1465.36 Q681.317 1465.77 679.372 1466.65 L679.372 1449.29 Z\" fill=\"#000000\" fill-rule=\"evenodd\" fill-opacity=\"1\" /><path clip-path=\"url(#clip890)\" d=\"M 0 0 M1200.22 1479.92 L1207.86 1479.92 L1207.86 1453.55 L1199.55 1455.22 L1199.55 1450.96 L1207.81 1449.29 L1212.49 1449.29 L1212.49 1479.92 L1220.13 1479.92 L1220.13 1483.85 L1200.22 1483.85 L1200.22 1479.92 Z\" fill=\"#000000\" fill-rule=\"evenodd\" fill-opacity=\"1\" /><path clip-path=\"url(#clip890)\" d=\"M 0 0 M1235.2 1452.37 Q1231.59 1452.37 1229.76 1455.94 Q1227.95 1459.48 1227.95 1466.61 Q1227.95 1473.71 1229.76 1477.28 Q1231.59 1480.82 1235.2 1480.82 Q1238.83 1480.82 1240.64 1477.28 Q1242.47 1473.71 1242.47 1466.61 Q1242.47 1459.48 1240.64 1455.94 Q1238.83 1452.37 1235.2 1452.37 M1235.2 1448.67 Q1241.01 1448.67 1244.06 1453.27 Q1247.14 1457.86 1247.14 1466.61 Q1247.14 1475.33 1244.06 1479.94 Q1241.01 1484.52 1235.2 1484.52 Q1229.39 1484.52 1226.31 1479.94 Q1223.25 1475.33 1223.25 1466.61 Q1223.25 1457.86 1226.31 1453.27 Q1229.39 1448.67 1235.2 1448.67 Z\" fill=\"#000000\" fill-rule=\"evenodd\" fill-opacity=\"1\" /><path clip-path=\"url(#clip890)\" d=\"M 0 0 M1734.97 1479.92 L1742.61 1479.92 L1742.61 1453.55 L1734.3 1455.22 L1734.3 1450.96 L1742.56 1449.29 L1747.24 1449.29 L1747.24 1479.92 L1754.88 1479.92 L1754.88 1483.85 L1734.97 1483.85 L1734.97 1479.92 Z\" fill=\"#000000\" fill-rule=\"evenodd\" fill-opacity=\"1\" /><path clip-path=\"url(#clip890)\" d=\"M 0 0 M1759.99 1449.29 L1778.35 1449.29 L1778.35 1453.23 L1764.28 1453.23 L1764.28 1461.7 Q1765.3 1461.35 1766.31 1461.19 Q1767.33 1461 1768.35 1461 Q1774.14 1461 1777.52 1464.18 Q1780.9 1467.35 1780.9 1472.76 Q1780.9 1478.34 1777.43 1481.44 Q1773.95 1484.52 1767.63 1484.52 Q1765.46 1484.52 1763.19 1484.15 Q1760.94 1483.78 1758.54 1483.04 L1758.54 1478.34 Q1760.62 1479.48 1762.84 1480.03 Q1765.06 1480.59 1767.54 1480.59 Q1771.55 1480.59 1773.88 1478.48 Q1776.22 1476.38 1776.22 1472.76 Q1776.22 1469.15 1773.88 1467.05 Q1771.55 1464.94 1767.54 1464.94 Q1765.67 1464.94 1763.79 1465.36 Q1761.94 1465.77 1759.99 1466.65 L1759.99 1449.29 Z\" fill=\"#000000\" fill-rule=\"evenodd\" fill-opacity=\"1\" /><path clip-path=\"url(#clip890)\" d=\"M 0 0 M2273 1479.92 L2289.32 1479.92 L2289.32 1483.85 L2267.37 1483.85 L2267.37 1479.92 Q2270.03 1477.16 2274.62 1472.53 Q2279.22 1467.88 2280.4 1466.54 Q2282.65 1464.01 2283.53 1462.28 Q2284.43 1460.52 2284.43 1458.83 Q2284.43 1456.07 2282.49 1454.34 Q2280.57 1452.6 2277.46 1452.6 Q2275.27 1452.6 2272.81 1453.37 Q2270.38 1454.13 2267.6 1455.68 L2267.6 1450.96 Q2270.43 1449.82 2272.88 1449.25 Q2275.34 1448.67 2277.37 1448.67 Q2282.74 1448.67 2285.94 1451.35 Q2289.13 1454.04 2289.13 1458.53 Q2289.13 1460.66 2288.32 1462.58 Q2287.53 1464.48 2285.43 1467.07 Q2284.85 1467.74 2281.75 1470.96 Q2278.65 1474.15 2273 1479.92 Z\" fill=\"#000000\" fill-rule=\"evenodd\" fill-opacity=\"1\" /><path clip-path=\"url(#clip890)\" d=\"M 0 0 M2304.39 1452.37 Q2300.77 1452.37 2298.95 1455.94 Q2297.14 1459.48 2297.14 1466.61 Q2297.14 1473.71 2298.95 1477.28 Q2300.77 1480.82 2304.39 1480.82 Q2308.02 1480.82 2309.83 1477.28 Q2311.65 1473.71 2311.65 1466.61 Q2311.65 1459.48 2309.83 1455.94 Q2308.02 1452.37 2304.39 1452.37 M2304.39 1448.67 Q2310.2 1448.67 2313.25 1453.27 Q2316.33 1457.86 2316.33 1466.61 Q2316.33 1475.33 2313.25 1479.94 Q2310.2 1484.52 2304.39 1484.52 Q2298.58 1484.52 2295.5 1479.94 Q2292.44 1475.33 2292.44 1466.61 Q2292.44 1457.86 2295.5 1453.27 Q2298.58 1448.67 2304.39 1448.67 Z\" fill=\"#000000\" fill-rule=\"evenodd\" fill-opacity=\"1\" /><path clip-path=\"url(#clip890)\" d=\"M 0 0 M1291.7 1534.53 L1291.7 1556.04 L1285.84 1556.04 L1285.84 1534.72 Q1285.84 1529.66 1283.87 1527.14 Q1281.9 1524.63 1277.95 1524.63 Q1273.21 1524.63 1270.47 1527.65 Q1267.73 1530.68 1267.73 1535.9 L1267.73 1556.04 L1261.84 1556.04 L1261.84 1520.4 L1267.73 1520.4 L1267.73 1525.93 Q1269.83 1522.72 1272.67 1521.13 Q1275.53 1519.54 1279.25 1519.54 Q1285.4 1519.54 1288.55 1523.36 Q1291.7 1527.14 1291.7 1534.53 Z\" fill=\"#000000\" fill-rule=\"evenodd\" fill-opacity=\"1\" /><polyline clip-path=\"url(#clip892)\" style=\"stroke:#000000; stroke-width:2; stroke-opacity:0.1; fill:none\" points=\"\n",
       "  200.788,1322.96 2352.76,1322.96 \n",
       "  \"/>\n",
       "<polyline clip-path=\"url(#clip892)\" style=\"stroke:#000000; stroke-width:2; stroke-opacity:0.1; fill:none\" points=\"\n",
       "  200.788,1081.1 2352.76,1081.1 \n",
       "  \"/>\n",
       "<polyline clip-path=\"url(#clip892)\" style=\"stroke:#000000; stroke-width:2; stroke-opacity:0.1; fill:none\" points=\"\n",
       "  200.788,839.24 2352.76,839.24 \n",
       "  \"/>\n",
       "<polyline clip-path=\"url(#clip892)\" style=\"stroke:#000000; stroke-width:2; stroke-opacity:0.1; fill:none\" points=\"\n",
       "  200.788,597.379 2352.76,597.379 \n",
       "  \"/>\n",
       "<polyline clip-path=\"url(#clip892)\" style=\"stroke:#000000; stroke-width:2; stroke-opacity:0.1; fill:none\" points=\"\n",
       "  200.788,355.519 2352.76,355.519 \n",
       "  \"/>\n",
       "<polyline clip-path=\"url(#clip890)\" style=\"stroke:#000000; stroke-width:4; stroke-opacity:1; fill:none\" points=\"\n",
       "  200.788,1423.18 200.788,123.472 \n",
       "  \"/>\n",
       "<polyline clip-path=\"url(#clip890)\" style=\"stroke:#000000; stroke-width:4; stroke-opacity:1; fill:none\" points=\"\n",
       "  200.788,1322.96 226.611,1322.96 \n",
       "  \"/>\n",
       "<polyline clip-path=\"url(#clip890)\" style=\"stroke:#000000; stroke-width:4; stroke-opacity:1; fill:none\" points=\"\n",
       "  200.788,1081.1 226.611,1081.1 \n",
       "  \"/>\n",
       "<polyline clip-path=\"url(#clip890)\" style=\"stroke:#000000; stroke-width:4; stroke-opacity:1; fill:none\" points=\"\n",
       "  200.788,839.24 226.611,839.24 \n",
       "  \"/>\n",
       "<polyline clip-path=\"url(#clip890)\" style=\"stroke:#000000; stroke-width:4; stroke-opacity:1; fill:none\" points=\"\n",
       "  200.788,597.379 226.611,597.379 \n",
       "  \"/>\n",
       "<polyline clip-path=\"url(#clip890)\" style=\"stroke:#000000; stroke-width:4; stroke-opacity:1; fill:none\" points=\"\n",
       "  200.788,355.519 226.611,355.519 \n",
       "  \"/>\n",
       "<path clip-path=\"url(#clip890)\" d=\"M 0 0 M51.6634 1342.75 L59.3023 1342.75 L59.3023 1316.39 L50.9921 1318.06 L50.9921 1313.8 L59.256 1312.13 L63.9319 1312.13 L63.9319 1342.75 L71.5707 1342.75 L71.5707 1346.69 L51.6634 1346.69 L51.6634 1342.75 Z\" fill=\"#000000\" fill-rule=\"evenodd\" fill-opacity=\"1\" /><path clip-path=\"url(#clip890)\" d=\"M 0 0 M86.6401 1315.21 Q83.029 1315.21 81.2003 1318.77 Q79.3948 1322.31 79.3948 1329.44 Q79.3948 1336.55 81.2003 1340.12 Q83.029 1343.66 86.6401 1343.66 Q90.2743 1343.66 92.0799 1340.12 Q93.9086 1336.55 93.9086 1329.44 Q93.9086 1322.31 92.0799 1318.77 Q90.2743 1315.21 86.6401 1315.21 M86.6401 1311.5 Q92.4502 1311.5 95.5058 1316.11 Q98.5845 1320.69 98.5845 1329.44 Q98.5845 1338.17 95.5058 1342.78 Q92.4502 1347.36 86.6401 1347.36 Q80.8299 1347.36 77.7512 1342.78 Q74.6957 1338.17 74.6957 1329.44 Q74.6957 1320.69 77.7512 1316.11 Q80.8299 1311.5 86.6401 1311.5 Z\" fill=\"#000000\" fill-rule=\"evenodd\" fill-opacity=\"1\" /><path clip-path=\"url(#clip890)\" d=\"M 0 0 M98.5845 1305.61 L122.696 1305.61 L122.696 1308.8 L98.5845 1308.8 L98.5845 1305.61 Z\" fill=\"#000000\" fill-rule=\"evenodd\" fill-opacity=\"1\" /><path clip-path=\"url(#clip890)\" d=\"M 0 0 M127.473 1316.08 L133.68 1316.08 L133.68 1294.66 L126.928 1296.01 L126.928 1292.55 L133.642 1291.2 L137.441 1291.2 L137.441 1316.08 L143.648 1316.08 L143.648 1319.28 L127.473 1319.28 L127.473 1316.08 Z\" fill=\"#000000\" fill-rule=\"evenodd\" fill-opacity=\"1\" /><path clip-path=\"url(#clip890)\" d=\"M 0 0 M147.804 1291.2 L162.719 1291.2 L162.719 1294.4 L151.284 1294.4 L151.284 1301.28 Q152.111 1301 152.939 1300.87 Q153.766 1300.72 154.594 1300.72 Q159.296 1300.72 162.042 1303.29 Q164.788 1305.87 164.788 1310.27 Q164.788 1314.8 161.967 1317.32 Q159.145 1319.82 154.011 1319.82 Q152.243 1319.82 150.4 1319.52 Q148.576 1319.22 146.62 1318.62 L146.62 1314.8 Q148.312 1315.72 150.118 1316.18 Q151.923 1316.63 153.936 1316.63 Q157.189 1316.63 159.089 1314.92 Q160.989 1313.2 160.989 1310.27 Q160.989 1307.34 159.089 1305.62 Q157.189 1303.91 153.936 1303.91 Q152.412 1303.91 150.889 1304.25 Q149.384 1304.59 147.804 1305.3 L147.804 1291.2 Z\" fill=\"#000000\" fill-rule=\"evenodd\" fill-opacity=\"1\" /><path clip-path=\"url(#clip890)\" d=\"M 0 0 M52.1524 1100.89 L59.7913 1100.89 L59.7913 1074.53 L51.4811 1076.19 L51.4811 1071.94 L59.745 1070.27 L64.4209 1070.27 L64.4209 1100.89 L72.0597 1100.89 L72.0597 1104.83 L52.1524 1104.83 L52.1524 1100.89 Z\" fill=\"#000000\" fill-rule=\"evenodd\" fill-opacity=\"1\" /><path clip-path=\"url(#clip890)\" d=\"M 0 0 M87.1291 1073.35 Q83.518 1073.35 81.6893 1076.91 Q79.8838 1080.45 79.8838 1087.58 Q79.8838 1094.69 81.6893 1098.25 Q83.518 1101.8 87.1291 1101.8 Q90.7633 1101.8 92.5689 1098.25 Q94.3976 1094.69 94.3976 1087.58 Q94.3976 1080.45 92.5689 1076.91 Q90.7633 1073.35 87.1291 1073.35 M87.1291 1069.64 Q92.9392 1069.64 95.9948 1074.25 Q99.0735 1078.83 99.0735 1087.58 Q99.0735 1096.31 95.9948 1100.92 Q92.9392 1105.5 87.1291 1105.5 Q81.3189 1105.5 78.2402 1100.92 Q75.1847 1096.31 75.1847 1087.58 Q75.1847 1078.83 78.2402 1074.25 Q81.3189 1069.64 87.1291 1069.64 Z\" fill=\"#000000\" fill-rule=\"evenodd\" fill-opacity=\"1\" /><path clip-path=\"url(#clip890)\" d=\"M 0 0 M99.0735 1063.74 L123.185 1063.74 L123.185 1066.94 L99.0735 1066.94 L99.0735 1063.74 Z\" fill=\"#000000\" fill-rule=\"evenodd\" fill-opacity=\"1\" /><path clip-path=\"url(#clip890)\" d=\"M 0 0 M127.962 1074.22 L134.169 1074.22 L134.169 1052.8 L127.417 1054.15 L127.417 1050.69 L134.131 1049.34 L137.93 1049.34 L137.93 1074.22 L144.137 1074.22 L144.137 1077.42 L127.962 1077.42 L127.962 1074.22 Z\" fill=\"#000000\" fill-rule=\"evenodd\" fill-opacity=\"1\" /><path clip-path=\"url(#clip890)\" d=\"M 0 0 M151.528 1074.22 L164.788 1074.22 L164.788 1077.42 L146.958 1077.42 L146.958 1074.22 Q149.121 1071.98 152.845 1068.22 Q156.588 1064.44 157.547 1063.35 Q159.371 1061.3 160.086 1059.89 Q160.819 1058.46 160.819 1057.09 Q160.819 1054.85 159.24 1053.44 Q157.678 1052.03 155.158 1052.03 Q153.371 1052.03 151.378 1052.65 Q149.403 1053.27 147.146 1054.53 L147.146 1050.69 Q149.441 1049.77 151.434 1049.3 Q153.428 1048.83 155.083 1048.83 Q159.446 1048.83 162.042 1051.01 Q164.637 1053.19 164.637 1056.84 Q164.637 1058.57 163.979 1060.13 Q163.34 1061.68 161.628 1063.78 Q161.158 1064.33 158.638 1066.94 Q156.117 1069.54 151.528 1074.22 Z\" fill=\"#000000\" fill-rule=\"evenodd\" fill-opacity=\"1\" /><path clip-path=\"url(#clip890)\" d=\"M 0 0 M71.957 859.033 L79.5959 859.033 L79.5959 832.667 L71.2857 834.334 L71.2857 830.074 L79.5496 828.408 L84.2255 828.408 L84.2255 859.033 L91.8643 859.033 L91.8643 862.968 L71.957 862.968 L71.957 859.033 Z\" fill=\"#000000\" fill-rule=\"evenodd\" fill-opacity=\"1\" /><path clip-path=\"url(#clip890)\" d=\"M 0 0 M106.934 831.486 Q103.323 831.486 101.494 835.051 Q99.6883 838.593 99.6883 845.722 Q99.6883 852.829 101.494 856.394 Q103.323 859.935 106.934 859.935 Q110.568 859.935 112.373 856.394 Q114.202 852.829 114.202 845.722 Q114.202 838.593 112.373 835.051 Q110.568 831.486 106.934 831.486 M106.934 827.783 Q112.744 827.783 115.799 832.389 Q118.878 836.973 118.878 845.722 Q118.878 854.449 115.799 859.056 Q112.744 863.639 106.934 863.639 Q101.124 863.639 98.0448 859.056 Q94.9893 854.449 94.9893 845.722 Q94.9893 836.973 98.0448 832.389 Q101.124 827.783 106.934 827.783 Z\" fill=\"#000000\" fill-rule=\"evenodd\" fill-opacity=\"1\" /><path clip-path=\"url(#clip890)\" d=\"M 0 0 M118.878 821.884 L142.99 821.884 L142.99 825.081 L118.878 825.081 L118.878 821.884 Z\" fill=\"#000000\" fill-rule=\"evenodd\" fill-opacity=\"1\" /><path clip-path=\"url(#clip890)\" d=\"M 0 0 M147.221 834.974 L147.221 831.514 Q148.651 832.191 150.118 832.548 Q151.585 832.905 152.995 832.905 Q156.757 832.905 158.732 830.385 Q160.725 827.846 161.007 822.693 Q159.917 824.31 158.243 825.175 Q156.569 826.041 154.538 826.041 Q150.325 826.041 147.861 823.502 Q145.416 820.944 145.416 816.524 Q145.416 812.198 147.974 809.584 Q150.532 806.97 154.782 806.97 Q159.653 806.97 162.211 810.712 Q164.788 814.436 164.788 821.546 Q164.788 828.185 161.628 832.153 Q158.487 836.103 153.165 836.103 Q151.735 836.103 150.268 835.821 Q148.801 835.539 147.221 834.974 M154.782 823.069 Q157.34 823.069 158.826 821.32 Q160.33 819.571 160.33 816.524 Q160.33 813.496 158.826 811.747 Q157.34 809.979 154.782 809.979 Q152.224 809.979 150.72 811.747 Q149.234 813.496 149.234 816.524 Q149.234 819.571 150.72 821.32 Q152.224 823.069 154.782 823.069 Z\" fill=\"#000000\" fill-rule=\"evenodd\" fill-opacity=\"1\" /><path clip-path=\"url(#clip890)\" d=\"M 0 0 M71.6749 617.172 L79.3137 617.172 L79.3137 590.806 L71.0036 592.473 L71.0036 588.214 L79.2674 586.547 L83.9433 586.547 L83.9433 617.172 L91.5822 617.172 L91.5822 621.107 L71.6749 621.107 L71.6749 617.172 Z\" fill=\"#000000\" fill-rule=\"evenodd\" fill-opacity=\"1\" /><path clip-path=\"url(#clip890)\" d=\"M 0 0 M106.652 589.626 Q103.04 589.626 101.212 593.19 Q99.4062 596.732 99.4062 603.862 Q99.4062 610.968 101.212 614.533 Q103.04 618.075 106.652 618.075 Q110.286 618.075 112.091 614.533 Q113.92 610.968 113.92 603.862 Q113.92 596.732 112.091 593.19 Q110.286 589.626 106.652 589.626 M106.652 585.922 Q112.462 585.922 115.517 590.528 Q118.596 595.112 118.596 603.862 Q118.596 612.589 115.517 617.195 Q112.462 621.778 106.652 621.778 Q100.841 621.778 97.7627 617.195 Q94.7072 612.589 94.7072 603.862 Q94.7072 595.112 97.7627 590.528 Q100.841 585.922 106.652 585.922 Z\" fill=\"#000000\" fill-rule=\"evenodd\" fill-opacity=\"1\" /><path clip-path=\"url(#clip890)\" d=\"M 0 0 M118.596 580.023 L142.707 580.023 L142.707 583.221 L118.596 583.221 L118.596 580.023 Z\" fill=\"#000000\" fill-rule=\"evenodd\" fill-opacity=\"1\" /><path clip-path=\"url(#clip890)\" d=\"M 0 0 M155.422 578.143 Q152.864 578.143 151.359 579.892 Q149.873 581.641 149.873 584.688 Q149.873 587.716 151.359 589.484 Q152.864 591.233 155.422 591.233 Q157.979 591.233 159.465 589.484 Q160.97 587.716 160.97 584.688 Q160.97 581.641 159.465 579.892 Q157.979 578.143 155.422 578.143 M162.963 566.237 L162.963 569.698 Q161.534 569.021 160.067 568.663 Q158.619 568.306 157.189 568.306 Q153.428 568.306 151.434 570.845 Q149.459 573.384 149.177 578.519 Q150.287 576.882 151.961 576.017 Q153.635 575.133 155.647 575.133 Q159.879 575.133 162.324 577.71 Q164.788 580.268 164.788 584.688 Q164.788 589.013 162.23 591.628 Q159.672 594.242 155.422 594.242 Q150.55 594.242 147.974 590.518 Q145.397 586.775 145.397 579.685 Q145.397 573.027 148.557 569.077 Q151.716 565.109 157.039 565.109 Q158.468 565.109 159.917 565.391 Q161.384 565.673 162.963 566.237 Z\" fill=\"#000000\" fill-rule=\"evenodd\" fill-opacity=\"1\" /><path clip-path=\"url(#clip890)\" d=\"M 0 0 M72.3332 375.311 L79.972 375.311 L79.972 348.945 L71.6619 350.612 L71.6619 346.353 L79.9257 344.686 L84.6016 344.686 L84.6016 375.311 L92.2405 375.311 L92.2405 379.246 L72.3332 379.246 L72.3332 375.311 Z\" fill=\"#000000\" fill-rule=\"evenodd\" fill-opacity=\"1\" /><path clip-path=\"url(#clip890)\" d=\"M 0 0 M107.31 347.765 Q103.699 347.765 101.87 351.33 Q100.064 354.871 100.064 362.001 Q100.064 369.107 101.87 372.672 Q103.699 376.214 107.31 376.214 Q110.944 376.214 112.75 372.672 Q114.578 369.107 114.578 362.001 Q114.578 354.871 112.75 351.33 Q110.944 347.765 107.31 347.765 M107.31 344.061 Q113.12 344.061 116.176 348.668 Q119.254 353.251 119.254 362.001 Q119.254 370.728 116.176 375.334 Q113.12 379.917 107.31 379.917 Q101.5 379.917 98.421 375.334 Q95.3654 370.728 95.3654 362.001 Q95.3654 353.251 98.421 348.668 Q101.5 344.061 107.31 344.061 Z\" fill=\"#000000\" fill-rule=\"evenodd\" fill-opacity=\"1\" /><path clip-path=\"url(#clip890)\" d=\"M 0 0 M119.254 338.163 L143.366 338.163 L143.366 341.36 L119.254 341.36 L119.254 338.163 Z\" fill=\"#000000\" fill-rule=\"evenodd\" fill-opacity=\"1\" /><path clip-path=\"url(#clip890)\" d=\"M 0 0 M158.995 336.696 Q161.722 337.279 163.246 339.122 Q164.788 340.965 164.788 343.673 Q164.788 347.83 161.929 350.105 Q159.07 352.381 153.804 352.381 Q152.036 352.381 150.155 352.024 Q148.293 351.685 146.3 350.989 L146.3 347.322 Q147.88 348.244 149.76 348.714 Q151.641 349.184 153.691 349.184 Q157.265 349.184 159.127 347.773 Q161.007 346.363 161.007 343.673 Q161.007 341.191 159.258 339.799 Q157.528 338.388 154.425 338.388 L151.152 338.388 L151.152 335.266 L154.575 335.266 Q157.378 335.266 158.863 334.156 Q160.349 333.028 160.349 330.922 Q160.349 328.759 158.807 327.611 Q157.284 326.445 154.425 326.445 Q152.864 326.445 151.077 326.784 Q149.29 327.122 147.146 327.837 L147.146 324.452 Q149.309 323.85 151.19 323.549 Q153.089 323.248 154.763 323.248 Q159.089 323.248 161.609 325.223 Q164.13 327.179 164.13 330.527 Q164.13 332.859 162.794 334.476 Q161.459 336.075 158.995 336.696 Z\" fill=\"#000000\" fill-rule=\"evenodd\" fill-opacity=\"1\" /><path clip-path=\"url(#clip890)\" d=\"M 0 0 M1040.83 12.096 L1079.07 12.096 L1079.07 18.9825 L1049.01 18.9825 L1049.01 36.8875 L1077.81 36.8875 L1077.81 43.7741 L1049.01 43.7741 L1049.01 65.6895 L1079.8 65.6895 L1079.8 72.576 L1040.83 72.576 L1040.83 12.096 Z\" fill=\"#000000\" fill-rule=\"evenodd\" fill-opacity=\"1\" /><path clip-path=\"url(#clip890)\" d=\"M 0 0 M1113.91 34.1734 Q1112.65 33.4443 1111.15 33.1202 Q1109.69 32.7556 1107.91 32.7556 Q1101.59 32.7556 1098.19 36.8875 Q1094.83 40.9789 1094.83 48.6757 L1094.83 72.576 L1087.33 72.576 L1087.33 27.2059 L1094.83 27.2059 L1094.83 34.2544 Q1097.18 30.1225 1100.94 28.1376 Q1104.71 26.1121 1110.1 26.1121 Q1110.87 26.1121 1111.8 26.2337 Q1112.73 26.3147 1113.86 26.5172 L1113.91 34.1734 Z\" fill=\"#000000\" fill-rule=\"evenodd\" fill-opacity=\"1\" /><path clip-path=\"url(#clip890)\" d=\"M 0 0 M1146.56 34.1734 Q1145.3 33.4443 1143.8 33.1202 Q1142.34 32.7556 1140.56 32.7556 Q1134.24 32.7556 1130.84 36.8875 Q1127.48 40.9789 1127.48 48.6757 L1127.48 72.576 L1119.98 72.576 L1119.98 27.2059 L1127.48 27.2059 L1127.48 34.2544 Q1129.83 30.1225 1133.59 28.1376 Q1137.36 26.1121 1142.75 26.1121 Q1143.52 26.1121 1144.45 26.2337 Q1145.38 26.3147 1146.52 26.5172 L1146.56 34.1734 Z\" fill=\"#000000\" fill-rule=\"evenodd\" fill-opacity=\"1\" /><path clip-path=\"url(#clip890)\" d=\"M 0 0 M1170.13 32.4315 Q1164.14 32.4315 1160.65 37.1306 Q1157.17 41.7891 1157.17 49.9314 Q1157.17 58.0738 1160.61 62.7728 Q1164.1 67.4314 1170.13 67.4314 Q1176.09 67.4314 1179.57 62.7323 Q1183.05 58.0333 1183.05 49.9314 Q1183.05 41.8701 1179.57 37.1711 Q1176.09 32.4315 1170.13 32.4315 M1170.13 26.1121 Q1179.85 26.1121 1185.4 32.4315 Q1190.95 38.7509 1190.95 49.9314 Q1190.95 61.0714 1185.4 67.4314 Q1179.85 73.7508 1170.13 73.7508 Q1160.37 73.7508 1154.82 67.4314 Q1149.31 61.0714 1149.31 49.9314 Q1149.31 38.7509 1154.82 32.4315 Q1160.37 26.1121 1170.13 26.1121 Z\" fill=\"#000000\" fill-rule=\"evenodd\" fill-opacity=\"1\" /><path clip-path=\"url(#clip890)\" d=\"M 0 0 M1254.15 44.2197 Q1256.78 45.1109 1259.25 48.0275 Q1261.76 50.9442 1264.27 56.0483 L1272.58 72.576 L1263.79 72.576 L1256.05 57.061 Q1253.05 50.9847 1250.22 48.9997 Q1247.42 47.0148 1242.56 47.0148 L1233.65 47.0148 L1233.65 72.576 L1225.47 72.576 L1225.47 12.096 L1243.94 12.096 Q1254.31 12.096 1259.41 16.4305 Q1264.52 20.7649 1264.52 29.5149 Q1264.52 35.2267 1261.84 38.994 Q1259.21 42.7613 1254.15 44.2197 M1233.65 18.8205 L1233.65 40.2903 L1243.94 40.2903 Q1249.85 40.2903 1252.85 37.5762 Q1255.89 34.8216 1255.89 29.5149 Q1255.89 24.2082 1252.85 21.5346 Q1249.85 18.8205 1243.94 18.8205 L1233.65 18.8205 Z\" fill=\"#000000\" fill-rule=\"evenodd\" fill-opacity=\"1\" /><path clip-path=\"url(#clip890)\" d=\"M 0 0 M1315.48 48.0275 L1315.48 51.6733 L1281.21 51.6733 Q1281.69 59.3701 1285.83 63.421 Q1290 67.4314 1297.41 67.4314 Q1301.71 67.4314 1305.72 66.3781 Q1309.77 65.3249 1313.74 63.2184 L1313.74 70.267 Q1309.73 71.9684 1305.51 72.8596 Q1301.3 73.7508 1296.97 73.7508 Q1286.11 73.7508 1279.75 67.4314 Q1273.43 61.1119 1273.43 50.3365 Q1273.43 39.1965 1279.43 32.6746 Q1285.46 26.1121 1295.67 26.1121 Q1304.82 26.1121 1310.13 32.0264 Q1315.48 37.9003 1315.48 48.0275 M1308.02 45.84 Q1307.94 39.7232 1304.58 36.0774 Q1301.26 32.4315 1295.75 32.4315 Q1289.51 32.4315 1285.74 35.9558 Q1282.02 39.4801 1281.45 45.8805 L1308.02 45.84 Z\" fill=\"#000000\" fill-rule=\"evenodd\" fill-opacity=\"1\" /><path clip-path=\"url(#clip890)\" d=\"M 0 0 M1323.3 9.54393 L1330.75 9.54393 L1330.75 72.576 L1323.3 72.576 L1323.3 9.54393 Z\" fill=\"#000000\" fill-rule=\"evenodd\" fill-opacity=\"1\" /><path clip-path=\"url(#clip890)\" d=\"M 0 0 M1359.19 49.7694 Q1350.15 49.7694 1346.67 51.8354 Q1343.19 53.9013 1343.19 58.8839 Q1343.19 62.8538 1345.78 65.2034 Q1348.41 67.5124 1352.91 67.5124 Q1359.11 67.5124 1362.83 63.1374 Q1366.6 58.7219 1366.6 51.4303 L1366.6 49.7694 L1359.19 49.7694 M1374.05 46.6907 L1374.05 72.576 L1366.6 72.576 L1366.6 65.6895 Q1364.05 69.8214 1360.24 71.8063 Q1356.43 73.7508 1350.92 73.7508 Q1343.96 73.7508 1339.82 69.8619 Q1335.73 65.9325 1335.73 59.3701 Q1335.73 51.7138 1340.84 47.825 Q1345.98 43.9361 1356.15 43.9361 L1366.6 43.9361 L1366.6 43.2069 Q1366.6 38.0623 1363.2 35.2672 Q1359.84 32.4315 1353.72 32.4315 Q1349.83 32.4315 1346.14 33.3632 Q1342.46 34.295 1339.05 36.1584 L1339.05 29.2718 Q1343.15 27.692 1346.99 26.9223 Q1350.84 26.1121 1354.49 26.1121 Q1364.33 26.1121 1369.19 31.2163 Q1374.05 36.3204 1374.05 46.6907 Z\" fill=\"#000000\" fill-rule=\"evenodd\" fill-opacity=\"1\" /><path clip-path=\"url(#clip890)\" d=\"M 0 0 M1389.25 14.324 L1389.25 27.2059 L1404.6 27.2059 L1404.6 32.9987 L1389.25 32.9987 L1389.25 57.6282 Q1389.25 63.1779 1390.74 64.7578 Q1392.28 66.3376 1396.94 66.3376 L1404.6 66.3376 L1404.6 72.576 L1396.94 72.576 Q1388.31 72.576 1385.03 69.3758 Q1381.75 66.1351 1381.75 57.6282 L1381.75 32.9987 L1376.28 32.9987 L1376.28 27.2059 L1381.75 27.2059 L1381.75 14.324 L1389.25 14.324 Z\" fill=\"#000000\" fill-rule=\"evenodd\" fill-opacity=\"1\" /><path clip-path=\"url(#clip890)\" d=\"M 0 0 M1412.42 27.2059 L1419.87 27.2059 L1419.87 72.576 L1412.42 72.576 L1412.42 27.2059 M1412.42 9.54393 L1419.87 9.54393 L1419.87 18.9825 L1412.42 18.9825 L1412.42 9.54393 Z\" fill=\"#000000\" fill-rule=\"evenodd\" fill-opacity=\"1\" /><path clip-path=\"url(#clip890)\" d=\"M 0 0 M1422.34 27.2059 L1430.24 27.2059 L1444.42 65.2844 L1458.6 27.2059 L1466.5 27.2059 L1449.48 72.576 L1439.35 72.576 L1422.34 27.2059 Z\" fill=\"#000000\" fill-rule=\"evenodd\" fill-opacity=\"1\" /><path clip-path=\"url(#clip890)\" d=\"M 0 0 M1491.9 32.4315 Q1485.9 32.4315 1482.42 37.1306 Q1478.93 41.7891 1478.93 49.9314 Q1478.93 58.0738 1482.38 62.7728 Q1485.86 67.4314 1491.9 67.4314 Q1497.85 67.4314 1501.33 62.7323 Q1504.82 58.0333 1504.82 49.9314 Q1504.82 41.8701 1501.33 37.1711 Q1497.85 32.4315 1491.9 32.4315 M1491.9 26.1121 Q1501.62 26.1121 1507.17 32.4315 Q1512.72 38.7509 1512.72 49.9314 Q1512.72 61.0714 1507.17 67.4314 Q1501.62 73.7508 1491.9 73.7508 Q1482.13 73.7508 1476.58 67.4314 Q1471.07 61.0714 1471.07 49.9314 Q1471.07 38.7509 1476.58 32.4315 Q1482.13 26.1121 1491.9 26.1121 Z\" fill=\"#000000\" fill-rule=\"evenodd\" fill-opacity=\"1\" /><circle clip-path=\"url(#clip892)\" cx=\"261.693\" cy=\"160.256\" r=\"14\" fill=\"#009af9\" fill-rule=\"evenodd\" fill-opacity=\"1\" stroke=\"#000000\" stroke-opacity=\"1\" stroke-width=\"3.2\"/>\n",
       "<circle clip-path=\"url(#clip892)\" cx=\"368.543\" cy=\"201.959\" r=\"14\" fill=\"#009af9\" fill-rule=\"evenodd\" fill-opacity=\"1\" stroke=\"#000000\" stroke-opacity=\"1\" stroke-width=\"3.2\"/>\n",
       "<circle clip-path=\"url(#clip892)\" cx=\"475.393\" cy=\"252.447\" r=\"14\" fill=\"#009af9\" fill-rule=\"evenodd\" fill-opacity=\"1\" stroke=\"#000000\" stroke-opacity=\"1\" stroke-width=\"3.2\"/>\n",
       "<circle clip-path=\"url(#clip892)\" cx=\"582.244\" cy=\"310.092\" r=\"14\" fill=\"#009af9\" fill-rule=\"evenodd\" fill-opacity=\"1\" stroke=\"#000000\" stroke-opacity=\"1\" stroke-width=\"3.2\"/>\n",
       "<circle clip-path=\"url(#clip892)\" cx=\"689.094\" cy=\"373.745\" r=\"14\" fill=\"#009af9\" fill-rule=\"evenodd\" fill-opacity=\"1\" stroke=\"#000000\" stroke-opacity=\"1\" stroke-width=\"3.2\"/>\n",
       "<circle clip-path=\"url(#clip892)\" cx=\"795.945\" cy=\"442.561\" r=\"14\" fill=\"#009af9\" fill-rule=\"evenodd\" fill-opacity=\"1\" stroke=\"#000000\" stroke-opacity=\"1\" stroke-width=\"3.2\"/>\n",
       "<circle clip-path=\"url(#clip892)\" cx=\"902.795\" cy=\"515.897\" r=\"14\" fill=\"#009af9\" fill-rule=\"evenodd\" fill-opacity=\"1\" stroke=\"#000000\" stroke-opacity=\"1\" stroke-width=\"3.2\"/>\n",
       "<circle clip-path=\"url(#clip892)\" cx=\"1009.65\" cy=\"593.249\" r=\"14\" fill=\"#009af9\" fill-rule=\"evenodd\" fill-opacity=\"1\" stroke=\"#000000\" stroke-opacity=\"1\" stroke-width=\"3.2\"/>\n",
       "<circle clip-path=\"url(#clip892)\" cx=\"1116.5\" cy=\"674.212\" r=\"14\" fill=\"#009af9\" fill-rule=\"evenodd\" fill-opacity=\"1\" stroke=\"#000000\" stroke-opacity=\"1\" stroke-width=\"3.2\"/>\n",
       "<circle clip-path=\"url(#clip892)\" cx=\"1223.35\" cy=\"758.453\" r=\"14\" fill=\"#009af9\" fill-rule=\"evenodd\" fill-opacity=\"1\" stroke=\"#000000\" stroke-opacity=\"1\" stroke-width=\"3.2\"/>\n",
       "<circle clip-path=\"url(#clip892)\" cx=\"1330.2\" cy=\"845.696\" r=\"14\" fill=\"#009af9\" fill-rule=\"evenodd\" fill-opacity=\"1\" stroke=\"#000000\" stroke-opacity=\"1\" stroke-width=\"3.2\"/>\n",
       "<circle clip-path=\"url(#clip892)\" cx=\"1437.05\" cy=\"935.707\" r=\"14\" fill=\"#009af9\" fill-rule=\"evenodd\" fill-opacity=\"1\" stroke=\"#000000\" stroke-opacity=\"1\" stroke-width=\"3.2\"/>\n",
       "<circle clip-path=\"url(#clip892)\" cx=\"1543.9\" cy=\"1028.29\" r=\"14\" fill=\"#009af9\" fill-rule=\"evenodd\" fill-opacity=\"1\" stroke=\"#000000\" stroke-opacity=\"1\" stroke-width=\"3.2\"/>\n",
       "<circle clip-path=\"url(#clip892)\" cx=\"1650.75\" cy=\"1123.28\" r=\"14\" fill=\"#009af9\" fill-rule=\"evenodd\" fill-opacity=\"1\" stroke=\"#000000\" stroke-opacity=\"1\" stroke-width=\"3.2\"/>\n",
       "<circle clip-path=\"url(#clip892)\" cx=\"1757.6\" cy=\"1220.88\" r=\"14\" fill=\"#009af9\" fill-rule=\"evenodd\" fill-opacity=\"1\" stroke=\"#000000\" stroke-opacity=\"1\" stroke-width=\"3.2\"/>\n",
       "<circle clip-path=\"url(#clip892)\" cx=\"1864.45\" cy=\"1330.04\" r=\"14\" fill=\"#009af9\" fill-rule=\"evenodd\" fill-opacity=\"1\" stroke=\"#000000\" stroke-opacity=\"1\" stroke-width=\"3.2\"/>\n",
       "<circle clip-path=\"url(#clip892)\" cx=\"1971.3\" cy=\"1386.4\" r=\"14\" fill=\"#009af9\" fill-rule=\"evenodd\" fill-opacity=\"1\" stroke=\"#000000\" stroke-opacity=\"1\" stroke-width=\"3.2\"/>\n",
       "<circle clip-path=\"url(#clip892)\" cx=\"2078.15\" cy=\"1386.4\" r=\"14\" fill=\"#009af9\" fill-rule=\"evenodd\" fill-opacity=\"1\" stroke=\"#000000\" stroke-opacity=\"1\" stroke-width=\"3.2\"/>\n",
       "<circle clip-path=\"url(#clip892)\" cx=\"2185\" cy=\"1386.4\" r=\"14\" fill=\"#009af9\" fill-rule=\"evenodd\" fill-opacity=\"1\" stroke=\"#000000\" stroke-opacity=\"1\" stroke-width=\"3.2\"/>\n",
       "<circle clip-path=\"url(#clip892)\" cx=\"2291.85\" cy=\"1386.4\" r=\"14\" fill=\"#009af9\" fill-rule=\"evenodd\" fill-opacity=\"1\" stroke=\"#000000\" stroke-opacity=\"1\" stroke-width=\"3.2\"/>\n",
       "<path clip-path=\"url(#clip890)\" d=\"\n",
       "M1990.9 287.756 L2281.02 287.756 L2281.02 166.796 L1990.9 166.796  Z\n",
       "  \" fill=\"#ffffff\" fill-rule=\"evenodd\" fill-opacity=\"1\"/>\n",
       "<polyline clip-path=\"url(#clip890)\" style=\"stroke:#000000; stroke-width:4; stroke-opacity:1; fill:none\" points=\"\n",
       "  1990.9,287.756 2281.02,287.756 2281.02,166.796 1990.9,166.796 1990.9,287.756 \n",
       "  \"/>\n",
       "<circle clip-path=\"url(#clip890)\" cx=\"2086.54\" cy=\"227.276\" r=\"23\" fill=\"#009af9\" fill-rule=\"evenodd\" fill-opacity=\"1\" stroke=\"#000000\" stroke-opacity=\"1\" stroke-width=\"5.12\"/>\n",
       "<path clip-path=\"url(#clip890)\" d=\"M 0 0 M2196.03 246.963 Q2194.22 251.593 2192.51 253.005 Q2190.79 254.417 2187.92 254.417 L2184.52 254.417 L2184.52 250.852 L2187.02 250.852 Q2188.78 250.852 2189.75 250.019 Q2190.73 249.185 2191.91 246.083 L2192.67 244.139 L2182.18 218.63 L2186.7 218.63 L2194.8 238.908 L2202.9 218.63 L2207.42 218.63 L2196.03 246.963 Z\" fill=\"#000000\" fill-rule=\"evenodd\" fill-opacity=\"1\" /><path clip-path=\"url(#clip890)\" d=\"M 0 0 M2213.29 240.621 L2220.93 240.621 L2220.93 214.255 L2212.62 215.922 L2212.62 211.662 L2220.89 209.996 L2225.56 209.996 L2225.56 240.621 L2233.2 240.621 L2233.2 244.556 L2213.29 244.556 L2213.29 240.621 Z\" fill=\"#000000\" fill-rule=\"evenodd\" fill-opacity=\"1\" /></svg>\n"
      ]
     },
     "execution_count": 121,
     "metadata": {},
     "output_type": "execute_result"
    }
   ],
   "source": [
    "# vamos plotar o erro da nossa função\n",
    "# podemos ver que ele vai diminuindo conforme aumentamos a quantidade de iterações\n",
    "\n",
    "using Plots\n",
    "N = collect(1:20)\n",
    "Erro = [abs(exp_sem_overflow(1.0, n) - exp(1.0)) / exp(1.0) for n in N]\n",
    "\n",
    "scatter(N, Erro, yaxis=:log)\n",
    "xlabel!(\"n\")\n",
    "title!(\"Erro Relativo\")"
   ]
  },
  {
   "cell_type": "code",
   "execution_count": 122,
   "metadata": {},
   "outputs": [
    {
     "data": {
      "text/plain": [
       "exp3 (generic function with 1 method)"
      ]
     },
     "execution_count": 122,
     "metadata": {},
     "output_type": "execute_result"
    }
   ],
   "source": [
    "# agora queremos fazer o cálculo sem precisar passar pra função a quantidade de iterações\n",
    "# para isso, só precisamos ver quando adicionamos um termo e ele não faz mais diferença no resultado final\n",
    "\n",
    "function exp3(x; tolerância = 1e-14)\n",
    "    s = 1.0\n",
    "    a = 1.0\n",
    "    k = 1\n",
    "    \n",
    "    while a > tolerância # preferi fazer desse jeito, em vez do jeito do vídeo pra evitar testar igualdade entre floats\n",
    "            a = a * x / k\n",
    "            s += a\n",
    "            k += 1\n",
    "    end\n",
    "\n",
    "    return s\n",
    "end"
   ]
  },
  {
   "cell_type": "code",
   "execution_count": 123,
   "metadata": {},
   "outputs": [
    {
     "data": {
      "text/plain": [
       "148.41315910257654"
      ]
     },
     "execution_count": 123,
     "metadata": {},
     "output_type": "execute_result"
    }
   ],
   "source": [
    "exp3(5.0)"
   ]
  },
  {
   "cell_type": "code",
   "execution_count": 124,
   "metadata": {},
   "outputs": [
    {
     "data": {
      "image/svg+xml": [
       "<?xml version=\"1.0\" encoding=\"utf-8\"?>\n",
       "<svg xmlns=\"http://www.w3.org/2000/svg\" xmlns:xlink=\"http://www.w3.org/1999/xlink\" width=\"600\" height=\"400\" viewBox=\"0 0 2400 1600\">\n",
       "<defs>\n",
       "  <clipPath id=\"clip930\">\n",
       "    <rect x=\"0\" y=\"0\" width=\"2400\" height=\"1600\"/>\n",
       "  </clipPath>\n",
       "</defs>\n",
       "<path clip-path=\"url(#clip930)\" d=\"\n",
       "M0 1600 L2400 1600 L2400 0 L0 0  Z\n",
       "  \" fill=\"#ffffff\" fill-rule=\"evenodd\" fill-opacity=\"1\"/>\n",
       "<defs>\n",
       "  <clipPath id=\"clip931\">\n",
       "    <rect x=\"480\" y=\"0\" width=\"1681\" height=\"1600\"/>\n",
       "  </clipPath>\n",
       "</defs>\n",
       "<path clip-path=\"url(#clip930)\" d=\"\n",
       "M201.597 1423.18 L2352.76 1423.18 L2352.76 123.472 L201.597 123.472  Z\n",
       "  \" fill=\"#ffffff\" fill-rule=\"evenodd\" fill-opacity=\"1\"/>\n",
       "<defs>\n",
       "  <clipPath id=\"clip932\">\n",
       "    <rect x=\"201\" y=\"123\" width=\"2152\" height=\"1301\"/>\n",
       "  </clipPath>\n",
       "</defs>\n",
       "<polyline clip-path=\"url(#clip932)\" style=\"stroke:#000000; stroke-width:2; stroke-opacity:0.1; fill:none\" points=\"\n",
       "  465.418,1423.18 465.418,123.472 \n",
       "  \"/>\n",
       "<polyline clip-path=\"url(#clip932)\" style=\"stroke:#000000; stroke-width:2; stroke-opacity:0.1; fill:none\" points=\"\n",
       "  871.297,1423.18 871.297,123.472 \n",
       "  \"/>\n",
       "<polyline clip-path=\"url(#clip932)\" style=\"stroke:#000000; stroke-width:2; stroke-opacity:0.1; fill:none\" points=\"\n",
       "  1277.18,1423.18 1277.18,123.472 \n",
       "  \"/>\n",
       "<polyline clip-path=\"url(#clip932)\" style=\"stroke:#000000; stroke-width:2; stroke-opacity:0.1; fill:none\" points=\"\n",
       "  1683.06,1423.18 1683.06,123.472 \n",
       "  \"/>\n",
       "<polyline clip-path=\"url(#clip932)\" style=\"stroke:#000000; stroke-width:2; stroke-opacity:0.1; fill:none\" points=\"\n",
       "  2088.93,1423.18 2088.93,123.472 \n",
       "  \"/>\n",
       "<polyline clip-path=\"url(#clip930)\" style=\"stroke:#000000; stroke-width:4; stroke-opacity:1; fill:none\" points=\"\n",
       "  201.597,1423.18 2352.76,1423.18 \n",
       "  \"/>\n",
       "<polyline clip-path=\"url(#clip930)\" style=\"stroke:#000000; stroke-width:4; stroke-opacity:1; fill:none\" points=\"\n",
       "  465.418,1423.18 465.418,1407.58 \n",
       "  \"/>\n",
       "<polyline clip-path=\"url(#clip930)\" style=\"stroke:#000000; stroke-width:4; stroke-opacity:1; fill:none\" points=\"\n",
       "  871.297,1423.18 871.297,1407.58 \n",
       "  \"/>\n",
       "<polyline clip-path=\"url(#clip930)\" style=\"stroke:#000000; stroke-width:4; stroke-opacity:1; fill:none\" points=\"\n",
       "  1277.18,1423.18 1277.18,1407.58 \n",
       "  \"/>\n",
       "<polyline clip-path=\"url(#clip930)\" style=\"stroke:#000000; stroke-width:4; stroke-opacity:1; fill:none\" points=\"\n",
       "  1683.06,1423.18 1683.06,1407.58 \n",
       "  \"/>\n",
       "<polyline clip-path=\"url(#clip930)\" style=\"stroke:#000000; stroke-width:4; stroke-opacity:1; fill:none\" points=\"\n",
       "  2088.93,1423.18 2088.93,1407.58 \n",
       "  \"/>\n",
       "<path clip-path=\"url(#clip930)\" d=\"M 0 0 M436.83 1467.02 L466.506 1467.02 L466.506 1470.96 L436.83 1470.96 L436.83 1467.02 Z\" fill=\"#000000\" fill-rule=\"evenodd\" fill-opacity=\"1\" /><path clip-path=\"url(#clip930)\" d=\"M 0 0 M484.423 1453.37 L472.617 1471.81 L484.423 1471.81 L484.423 1453.37 M483.196 1449.29 L489.075 1449.29 L489.075 1471.81 L494.006 1471.81 L494.006 1475.7 L489.075 1475.7 L489.075 1483.85 L484.423 1483.85 L484.423 1475.7 L468.821 1475.7 L468.821 1471.19 L483.196 1449.29 Z\" fill=\"#000000\" fill-rule=\"evenodd\" fill-opacity=\"1\" /><path clip-path=\"url(#clip930)\" d=\"M 0 0 M843.751 1467.02 L873.427 1467.02 L873.427 1470.96 L843.751 1470.96 L843.751 1467.02 Z\" fill=\"#000000\" fill-rule=\"evenodd\" fill-opacity=\"1\" /><path clip-path=\"url(#clip930)\" d=\"M 0 0 M882.524 1479.92 L898.843 1479.92 L898.843 1483.85 L876.899 1483.85 L876.899 1479.92 Q879.561 1477.16 884.144 1472.53 Q888.751 1467.88 889.931 1466.54 Q892.177 1464.01 893.056 1462.28 Q893.959 1460.52 893.959 1458.83 Q893.959 1456.07 892.015 1454.34 Q890.093 1452.6 886.991 1452.6 Q884.792 1452.6 882.339 1453.37 Q879.908 1454.13 877.13 1455.68 L877.13 1450.96 Q879.954 1449.82 882.408 1449.25 Q884.862 1448.67 886.899 1448.67 Q892.269 1448.67 895.464 1451.35 Q898.658 1454.04 898.658 1458.53 Q898.658 1460.66 897.848 1462.58 Q897.061 1464.48 894.954 1467.07 Q894.376 1467.74 891.274 1470.96 Q888.172 1474.15 882.524 1479.92 Z\" fill=\"#000000\" fill-rule=\"evenodd\" fill-opacity=\"1\" /><path clip-path=\"url(#clip930)\" d=\"M 0 0 M1277.18 1452.37 Q1273.57 1452.37 1271.74 1455.94 Q1269.93 1459.48 1269.93 1466.61 Q1269.93 1473.71 1271.74 1477.28 Q1273.57 1480.82 1277.18 1480.82 Q1280.81 1480.82 1282.62 1477.28 Q1284.44 1473.71 1284.44 1466.61 Q1284.44 1459.48 1282.62 1455.94 Q1280.81 1452.37 1277.18 1452.37 M1277.18 1448.67 Q1282.99 1448.67 1286.04 1453.27 Q1289.12 1457.86 1289.12 1466.61 Q1289.12 1475.33 1286.04 1479.94 Q1282.99 1484.52 1277.18 1484.52 Q1271.37 1484.52 1268.29 1479.94 Q1265.23 1475.33 1265.23 1466.61 Q1265.23 1457.86 1268.29 1453.27 Q1271.37 1448.67 1277.18 1448.67 Z\" fill=\"#000000\" fill-rule=\"evenodd\" fill-opacity=\"1\" /><path clip-path=\"url(#clip930)\" d=\"M 0 0 M1677.71 1479.92 L1694.03 1479.92 L1694.03 1483.85 L1672.08 1483.85 L1672.08 1479.92 Q1674.75 1477.16 1679.33 1472.53 Q1683.93 1467.88 1685.12 1466.54 Q1687.36 1464.01 1688.24 1462.28 Q1689.14 1460.52 1689.14 1458.83 Q1689.14 1456.07 1687.2 1454.34 Q1685.28 1452.6 1682.18 1452.6 Q1679.98 1452.6 1677.52 1453.37 Q1675.09 1454.13 1672.31 1455.68 L1672.31 1450.96 Q1675.14 1449.82 1677.59 1449.25 Q1680.05 1448.67 1682.08 1448.67 Q1687.45 1448.67 1690.65 1451.35 Q1693.84 1454.04 1693.84 1458.53 Q1693.84 1460.66 1693.03 1462.58 Q1692.25 1464.48 1690.14 1467.07 Q1689.56 1467.74 1686.46 1470.96 Q1683.36 1474.15 1677.71 1479.92 Z\" fill=\"#000000\" fill-rule=\"evenodd\" fill-opacity=\"1\" /><path clip-path=\"url(#clip930)\" d=\"M 0 0 M2091.94 1453.37 L2080.14 1471.81 L2091.94 1471.81 L2091.94 1453.37 M2090.72 1449.29 L2096.6 1449.29 L2096.6 1471.81 L2101.53 1471.81 L2101.53 1475.7 L2096.6 1475.7 L2096.6 1483.85 L2091.94 1483.85 L2091.94 1475.7 L2076.34 1475.7 L2076.34 1471.19 L2090.72 1449.29 Z\" fill=\"#000000\" fill-rule=\"evenodd\" fill-opacity=\"1\" /><path clip-path=\"url(#clip930)\" d=\"M 0 0 M1292.1 1534.53 L1292.1 1556.04 L1286.25 1556.04 L1286.25 1534.72 Q1286.25 1529.66 1284.27 1527.14 Q1282.3 1524.63 1278.35 1524.63 Q1273.61 1524.63 1270.87 1527.65 Q1268.14 1530.68 1268.14 1535.9 L1268.14 1556.04 L1262.25 1556.04 L1262.25 1520.4 L1268.14 1520.4 L1268.14 1525.93 Q1270.24 1522.72 1273.07 1521.13 Q1275.93 1519.54 1279.66 1519.54 Q1285.8 1519.54 1288.95 1523.36 Q1292.1 1527.14 1292.1 1534.53 Z\" fill=\"#000000\" fill-rule=\"evenodd\" fill-opacity=\"1\" /><polyline clip-path=\"url(#clip932)\" style=\"stroke:#000000; stroke-width:2; stroke-opacity:0.1; fill:none\" points=\"\n",
       "  201.597,1321.09 2352.76,1321.09 \n",
       "  \"/>\n",
       "<polyline clip-path=\"url(#clip932)\" style=\"stroke:#000000; stroke-width:2; stroke-opacity:0.1; fill:none\" points=\"\n",
       "  201.597,994.538 2352.76,994.538 \n",
       "  \"/>\n",
       "<polyline clip-path=\"url(#clip932)\" style=\"stroke:#000000; stroke-width:2; stroke-opacity:0.1; fill:none\" points=\"\n",
       "  201.597,667.99 2352.76,667.99 \n",
       "  \"/>\n",
       "<polyline clip-path=\"url(#clip932)\" style=\"stroke:#000000; stroke-width:2; stroke-opacity:0.1; fill:none\" points=\"\n",
       "  201.597,341.442 2352.76,341.442 \n",
       "  \"/>\n",
       "<polyline clip-path=\"url(#clip930)\" style=\"stroke:#000000; stroke-width:4; stroke-opacity:1; fill:none\" points=\"\n",
       "  201.597,1423.18 201.597,123.472 \n",
       "  \"/>\n",
       "<polyline clip-path=\"url(#clip930)\" style=\"stroke:#000000; stroke-width:4; stroke-opacity:1; fill:none\" points=\"\n",
       "  201.597,1321.09 227.41,1321.09 \n",
       "  \"/>\n",
       "<polyline clip-path=\"url(#clip930)\" style=\"stroke:#000000; stroke-width:4; stroke-opacity:1; fill:none\" points=\"\n",
       "  201.597,994.538 227.41,994.538 \n",
       "  \"/>\n",
       "<polyline clip-path=\"url(#clip930)\" style=\"stroke:#000000; stroke-width:4; stroke-opacity:1; fill:none\" points=\"\n",
       "  201.597,667.99 227.41,667.99 \n",
       "  \"/>\n",
       "<polyline clip-path=\"url(#clip930)\" style=\"stroke:#000000; stroke-width:4; stroke-opacity:1; fill:none\" points=\"\n",
       "  201.597,341.442 227.41,341.442 \n",
       "  \"/>\n",
       "<path clip-path=\"url(#clip930)\" d=\"M 0 0 M52.4722 1340.88 L60.111 1340.88 L60.111 1314.51 L51.8009 1316.18 L51.8009 1311.92 L60.0647 1310.25 L64.7406 1310.25 L64.7406 1340.88 L72.3795 1340.88 L72.3795 1344.81 L52.4722 1344.81 L52.4722 1340.88 Z\" fill=\"#000000\" fill-rule=\"evenodd\" fill-opacity=\"1\" /><path clip-path=\"url(#clip930)\" d=\"M 0 0 M87.4488 1313.33 Q83.8377 1313.33 82.009 1316.9 Q80.2035 1320.44 80.2035 1327.57 Q80.2035 1334.67 82.009 1338.24 Q83.8377 1341.78 87.4488 1341.78 Q91.0831 1341.78 92.8886 1338.24 Q94.7173 1334.67 94.7173 1327.57 Q94.7173 1320.44 92.8886 1316.9 Q91.0831 1313.33 87.4488 1313.33 M87.4488 1309.63 Q93.259 1309.63 96.3145 1314.24 Q99.3932 1318.82 99.3932 1327.57 Q99.3932 1336.3 96.3145 1340.9 Q93.259 1345.48 87.4488 1345.48 Q81.6387 1345.48 78.56 1340.9 Q75.5044 1336.3 75.5044 1327.57 Q75.5044 1318.82 78.56 1314.24 Q81.6387 1309.63 87.4488 1309.63 Z\" fill=\"#000000\" fill-rule=\"evenodd\" fill-opacity=\"1\" /><path clip-path=\"url(#clip930)\" d=\"M 0 0 M99.3932 1303.73 L123.505 1303.73 L123.505 1306.93 L99.3932 1306.93 L99.3932 1303.73 Z\" fill=\"#000000\" fill-rule=\"evenodd\" fill-opacity=\"1\" /><path clip-path=\"url(#clip930)\" d=\"M 0 0 M128.282 1314.21 L134.488 1314.21 L134.488 1292.78 L127.737 1294.14 L127.737 1290.68 L134.451 1289.32 L138.25 1289.32 L138.25 1314.21 L144.457 1314.21 L144.457 1317.4 L128.282 1317.4 L128.282 1314.21 Z\" fill=\"#000000\" fill-rule=\"evenodd\" fill-opacity=\"1\" /><path clip-path=\"url(#clip930)\" d=\"M 0 0 M148.613 1289.32 L163.528 1289.32 L163.528 1292.52 L152.093 1292.52 L152.093 1299.4 Q152.92 1299.12 153.748 1298.99 Q154.575 1298.84 155.403 1298.84 Q160.105 1298.84 162.851 1301.42 Q165.597 1303.99 165.597 1308.39 Q165.597 1312.93 162.775 1315.45 Q159.954 1317.95 154.82 1317.95 Q153.052 1317.95 151.209 1317.65 Q149.384 1317.35 147.428 1316.75 L147.428 1312.93 Q149.121 1313.85 150.926 1314.3 Q152.732 1314.75 154.744 1314.75 Q157.998 1314.75 159.898 1313.04 Q161.797 1311.33 161.797 1308.39 Q161.797 1305.46 159.898 1303.75 Q157.998 1302.04 154.744 1302.04 Q153.221 1302.04 151.698 1302.38 Q150.193 1302.71 148.613 1303.43 L148.613 1289.32 Z\" fill=\"#000000\" fill-rule=\"evenodd\" fill-opacity=\"1\" /><path clip-path=\"url(#clip930)\" d=\"M 0 0 M51.6634 1014.33 L59.3023 1014.33 L59.3023 987.965 L50.9921 989.632 L50.9921 985.372 L59.256 983.706 L63.9319 983.706 L63.9319 1014.33 L71.5707 1014.33 L71.5707 1018.27 L51.6634 1018.27 L51.6634 1014.33 Z\" fill=\"#000000\" fill-rule=\"evenodd\" fill-opacity=\"1\" /><path clip-path=\"url(#clip930)\" d=\"M 0 0 M86.6401 986.784 Q83.029 986.784 81.2003 990.349 Q79.3948 993.891 79.3948 1001.02 Q79.3948 1008.13 81.2003 1011.69 Q83.029 1015.23 86.6401 1015.23 Q90.2743 1015.23 92.0799 1011.69 Q93.9086 1008.13 93.9086 1001.02 Q93.9086 993.891 92.0799 990.349 Q90.2743 986.784 86.6401 986.784 M86.6401 983.081 Q92.4502 983.081 95.5058 987.687 Q98.5845 992.271 98.5845 1001.02 Q98.5845 1009.75 95.5058 1014.35 Q92.4502 1018.94 86.6401 1018.94 Q80.8299 1018.94 77.7512 1014.35 Q74.6957 1009.75 74.6957 1001.02 Q74.6957 992.271 77.7512 987.687 Q80.8299 983.081 86.6401 983.081 Z\" fill=\"#000000\" fill-rule=\"evenodd\" fill-opacity=\"1\" /><path clip-path=\"url(#clip930)\" d=\"M 0 0 M98.5845 977.182 L122.696 977.182 L122.696 980.379 L98.5845 980.379 L98.5845 977.182 Z\" fill=\"#000000\" fill-rule=\"evenodd\" fill-opacity=\"1\" /><path clip-path=\"url(#clip930)\" d=\"M 0 0 M127.473 987.658 L133.68 987.658 L133.68 966.236 L126.928 967.59 L126.928 964.13 L133.642 962.775 L137.441 962.775 L137.441 987.658 L143.648 987.658 L143.648 990.855 L127.473 990.855 L127.473 987.658 Z\" fill=\"#000000\" fill-rule=\"evenodd\" fill-opacity=\"1\" /><path clip-path=\"url(#clip930)\" d=\"M 0 0 M155.892 965.277 Q152.958 965.277 151.472 968.173 Q150.005 971.051 150.005 976.844 Q150.005 982.618 151.472 985.514 Q152.958 988.392 155.892 988.392 Q158.845 988.392 160.312 985.514 Q161.797 982.618 161.797 976.844 Q161.797 971.051 160.312 968.173 Q158.845 965.277 155.892 965.277 M155.892 962.268 Q160.612 962.268 163.095 966.01 Q165.597 969.734 165.597 976.844 Q165.597 983.934 163.095 987.677 Q160.612 991.401 155.892 991.401 Q151.171 991.401 148.67 987.677 Q146.187 983.934 146.187 976.844 Q146.187 969.734 148.67 966.01 Q151.171 962.268 155.892 962.268 Z\" fill=\"#000000\" fill-rule=\"evenodd\" fill-opacity=\"1\" /><path clip-path=\"url(#clip930)\" d=\"M 0 0 M73.424 687.783 L81.0629 687.783 L81.0629 661.417 L72.7527 663.084 L72.7527 658.824 L81.0166 657.158 L85.6925 657.158 L85.6925 687.783 L93.3313 687.783 L93.3313 691.718 L73.424 691.718 L73.424 687.783 Z\" fill=\"#000000\" fill-rule=\"evenodd\" fill-opacity=\"1\" /><path clip-path=\"url(#clip930)\" d=\"M 0 0 M108.401 660.237 Q104.79 660.237 102.961 663.801 Q101.155 667.343 101.155 674.473 Q101.155 681.579 102.961 685.144 Q104.79 688.685 108.401 688.685 Q112.035 688.685 113.84 685.144 Q115.669 681.579 115.669 674.473 Q115.669 667.343 113.84 663.801 Q112.035 660.237 108.401 660.237 M108.401 656.533 Q114.211 656.533 117.266 661.139 Q120.345 665.723 120.345 674.473 Q120.345 683.199 117.266 687.806 Q114.211 692.389 108.401 692.389 Q102.591 692.389 99.5118 687.806 Q96.4563 683.199 96.4563 674.473 Q96.4563 665.723 99.5118 661.139 Q102.591 656.533 108.401 656.533 Z\" fill=\"#000000\" fill-rule=\"evenodd\" fill-opacity=\"1\" /><path clip-path=\"url(#clip930)\" d=\"M 0 0 M120.345 650.634 L144.457 650.634 L144.457 653.831 L120.345 653.831 L120.345 650.634 Z\" fill=\"#000000\" fill-rule=\"evenodd\" fill-opacity=\"1\" /><path clip-path=\"url(#clip930)\" d=\"M 0 0 M148.613 636.227 L163.528 636.227 L163.528 639.425 L152.093 639.425 L152.093 646.308 Q152.92 646.026 153.748 645.895 Q154.575 645.744 155.403 645.744 Q160.105 645.744 162.851 648.321 Q165.597 650.897 165.597 655.299 Q165.597 659.831 162.775 662.351 Q159.954 664.853 154.82 664.853 Q153.052 664.853 151.209 664.552 Q149.384 664.251 147.428 663.649 L147.428 659.831 Q149.121 660.753 150.926 661.204 Q152.732 661.656 154.744 661.656 Q157.998 661.656 159.898 659.944 Q161.797 658.233 161.797 655.299 Q161.797 652.364 159.898 650.653 Q157.998 648.941 154.744 648.941 Q153.221 648.941 151.698 649.28 Q150.193 649.619 148.613 650.333 L148.613 636.227 Z\" fill=\"#000000\" fill-rule=\"evenodd\" fill-opacity=\"1\" /><path clip-path=\"url(#clip930)\" d=\"M 0 0 M99.2659 361.235 L106.905 361.235 L106.905 334.869 L98.5946 336.536 L98.5946 332.277 L106.858 330.61 L111.534 330.61 L111.534 361.235 L119.173 361.235 L119.173 365.17 L99.2659 365.17 L99.2659 361.235 Z\" fill=\"#000000\" fill-rule=\"evenodd\" fill-opacity=\"1\" /><path clip-path=\"url(#clip930)\" d=\"M 0 0 M134.243 333.689 Q130.631 333.689 128.803 337.253 Q126.997 340.795 126.997 347.925 Q126.997 355.031 128.803 358.596 Q130.631 362.138 134.243 362.138 Q137.877 362.138 139.682 358.596 Q141.511 355.031 141.511 347.925 Q141.511 340.795 139.682 337.253 Q137.877 333.689 134.243 333.689 M134.243 329.985 Q140.053 329.985 143.108 334.591 Q146.187 339.175 146.187 347.925 Q146.187 356.651 143.108 361.258 Q140.053 365.841 134.243 365.841 Q128.432 365.841 125.354 361.258 Q122.298 356.651 122.298 347.925 Q122.298 339.175 125.354 334.591 Q128.432 329.985 134.243 329.985 Z\" fill=\"#000000\" fill-rule=\"evenodd\" fill-opacity=\"1\" /><path clip-path=\"url(#clip930)\" d=\"M 0 0 M155.892 312.181 Q152.958 312.181 151.472 315.077 Q150.005 317.955 150.005 323.748 Q150.005 329.522 151.472 332.418 Q152.958 335.296 155.892 335.296 Q158.845 335.296 160.312 332.418 Q161.797 329.522 161.797 323.748 Q161.797 317.955 160.312 315.077 Q158.845 312.181 155.892 312.181 M155.892 309.172 Q160.612 309.172 163.095 312.914 Q165.597 316.638 165.597 323.748 Q165.597 330.838 163.095 334.581 Q160.612 338.305 155.892 338.305 Q151.171 338.305 148.67 334.581 Q146.187 330.838 146.187 323.748 Q146.187 316.638 148.67 312.914 Q151.171 309.172 155.892 309.172 Z\" fill=\"#000000\" fill-rule=\"evenodd\" fill-opacity=\"1\" /><path clip-path=\"url(#clip930)\" d=\"M 0 0 M1041.23 12.096 L1079.47 12.096 L1079.47 18.9825 L1049.41 18.9825 L1049.41 36.8875 L1078.22 36.8875 L1078.22 43.7741 L1049.41 43.7741 L1049.41 65.6895 L1080.2 65.6895 L1080.2 72.576 L1041.23 72.576 L1041.23 12.096 Z\" fill=\"#000000\" fill-rule=\"evenodd\" fill-opacity=\"1\" /><path clip-path=\"url(#clip930)\" d=\"M 0 0 M1114.31 34.1734 Q1113.05 33.4443 1111.56 33.1202 Q1110.1 32.7556 1108.31 32.7556 Q1101.99 32.7556 1098.59 36.8875 Q1095.23 40.9789 1095.23 48.6757 L1095.23 72.576 L1087.74 72.576 L1087.74 27.2059 L1095.23 27.2059 L1095.23 34.2544 Q1097.58 30.1225 1101.35 28.1376 Q1105.11 26.1121 1110.5 26.1121 Q1111.27 26.1121 1112.2 26.2337 Q1113.13 26.3147 1114.27 26.5172 L1114.31 34.1734 Z\" fill=\"#000000\" fill-rule=\"evenodd\" fill-opacity=\"1\" /><path clip-path=\"url(#clip930)\" d=\"M 0 0 M1146.96 34.1734 Q1145.7 33.4443 1144.21 33.1202 Q1142.75 32.7556 1140.96 32.7556 Q1134.65 32.7556 1131.24 36.8875 Q1127.88 40.9789 1127.88 48.6757 L1127.88 72.576 L1120.39 72.576 L1120.39 27.2059 L1127.88 27.2059 L1127.88 34.2544 Q1130.23 30.1225 1134 28.1376 Q1137.76 26.1121 1143.15 26.1121 Q1143.92 26.1121 1144.85 26.2337 Q1145.79 26.3147 1146.92 26.5172 L1146.96 34.1734 Z\" fill=\"#000000\" fill-rule=\"evenodd\" fill-opacity=\"1\" /><path clip-path=\"url(#clip930)\" d=\"M 0 0 M1170.54 32.4315 Q1164.54 32.4315 1161.06 37.1306 Q1157.57 41.7891 1157.57 49.9314 Q1157.57 58.0738 1161.02 62.7728 Q1164.5 67.4314 1170.54 67.4314 Q1176.49 67.4314 1179.97 62.7323 Q1183.46 58.0333 1183.46 49.9314 Q1183.46 41.8701 1179.97 37.1711 Q1176.49 32.4315 1170.54 32.4315 M1170.54 26.1121 Q1180.26 26.1121 1185.81 32.4315 Q1191.36 38.7509 1191.36 49.9314 Q1191.36 61.0714 1185.81 67.4314 Q1180.26 73.7508 1170.54 73.7508 Q1160.77 73.7508 1155.22 67.4314 Q1149.71 61.0714 1149.71 49.9314 Q1149.71 38.7509 1155.22 32.4315 Q1160.77 26.1121 1170.54 26.1121 Z\" fill=\"#000000\" fill-rule=\"evenodd\" fill-opacity=\"1\" /><path clip-path=\"url(#clip930)\" d=\"M 0 0 M1254.55 44.2197 Q1257.19 45.1109 1259.66 48.0275 Q1262.17 50.9442 1264.68 56.0483 L1272.98 72.576 L1264.19 72.576 L1256.46 57.061 Q1253.46 50.9847 1250.62 48.9997 Q1247.83 47.0148 1242.97 47.0148 L1234.05 47.0148 L1234.05 72.576 L1225.87 72.576 L1225.87 12.096 L1244.34 12.096 Q1254.71 12.096 1259.82 16.4305 Q1264.92 20.7649 1264.92 29.5149 Q1264.92 35.2267 1262.25 38.994 Q1259.62 42.7613 1254.55 44.2197 M1234.05 18.8205 L1234.05 40.2903 L1244.34 40.2903 Q1250.26 40.2903 1253.26 37.5762 Q1256.29 34.8216 1256.29 29.5149 Q1256.29 24.2082 1253.26 21.5346 Q1250.26 18.8205 1244.34 18.8205 L1234.05 18.8205 Z\" fill=\"#000000\" fill-rule=\"evenodd\" fill-opacity=\"1\" /><path clip-path=\"url(#clip930)\" d=\"M 0 0 M1315.88 48.0275 L1315.88 51.6733 L1281.61 51.6733 Q1282.1 59.3701 1286.23 63.421 Q1290.4 67.4314 1297.82 67.4314 Q1302.11 67.4314 1306.12 66.3781 Q1310.17 65.3249 1314.14 63.2184 L1314.14 70.267 Q1310.13 71.9684 1305.92 72.8596 Q1301.7 73.7508 1297.37 73.7508 Q1286.51 73.7508 1280.15 67.4314 Q1273.83 61.1119 1273.83 50.3365 Q1273.83 39.1965 1279.83 32.6746 Q1285.87 26.1121 1296.07 26.1121 Q1305.23 26.1121 1310.54 32.0264 Q1315.88 37.9003 1315.88 48.0275 M1308.43 45.84 Q1308.35 39.7232 1304.99 36.0774 Q1301.66 32.4315 1296.15 32.4315 Q1289.92 32.4315 1286.15 35.9558 Q1282.42 39.4801 1281.86 45.8805 L1308.43 45.84 Z\" fill=\"#000000\" fill-rule=\"evenodd\" fill-opacity=\"1\" /><path clip-path=\"url(#clip930)\" d=\"M 0 0 M1323.7 9.54393 L1331.15 9.54393 L1331.15 72.576 L1323.7 72.576 L1323.7 9.54393 Z\" fill=\"#000000\" fill-rule=\"evenodd\" fill-opacity=\"1\" /><path clip-path=\"url(#clip930)\" d=\"M 0 0 M1359.59 49.7694 Q1350.56 49.7694 1347.07 51.8354 Q1343.59 53.9013 1343.59 58.8839 Q1343.59 62.8538 1346.18 65.2034 Q1348.82 67.5124 1353.31 67.5124 Q1359.51 67.5124 1363.24 63.1374 Q1367.01 58.7219 1367.01 51.4303 L1367.01 49.7694 L1359.59 49.7694 M1374.46 46.6907 L1374.46 72.576 L1367.01 72.576 L1367.01 65.6895 Q1364.45 69.8214 1360.65 71.8063 Q1356.84 73.7508 1351.33 73.7508 Q1344.36 73.7508 1340.23 69.8619 Q1336.14 65.9325 1336.14 59.3701 Q1336.14 51.7138 1341.24 47.825 Q1346.39 43.9361 1356.55 43.9361 L1367.01 43.9361 L1367.01 43.2069 Q1367.01 38.0623 1363.6 35.2672 Q1360.24 32.4315 1354.12 32.4315 Q1350.23 32.4315 1346.55 33.3632 Q1342.86 34.295 1339.46 36.1584 L1339.46 29.2718 Q1343.55 27.692 1347.4 26.9223 Q1351.25 26.1121 1354.89 26.1121 Q1364.74 26.1121 1369.6 31.2163 Q1374.46 36.3204 1374.46 46.6907 Z\" fill=\"#000000\" fill-rule=\"evenodd\" fill-opacity=\"1\" /><path clip-path=\"url(#clip930)\" d=\"M 0 0 M1389.65 14.324 L1389.65 27.2059 L1405 27.2059 L1405 32.9987 L1389.65 32.9987 L1389.65 57.6282 Q1389.65 63.1779 1391.15 64.7578 Q1392.69 66.3376 1397.35 66.3376 L1405 66.3376 L1405 72.576 L1397.35 72.576 Q1388.72 72.576 1385.44 69.3758 Q1382.16 66.1351 1382.16 57.6282 L1382.16 32.9987 L1376.69 32.9987 L1376.69 27.2059 L1382.16 27.2059 L1382.16 14.324 L1389.65 14.324 Z\" fill=\"#000000\" fill-rule=\"evenodd\" fill-opacity=\"1\" /><path clip-path=\"url(#clip930)\" d=\"M 0 0 M1412.82 27.2059 L1420.27 27.2059 L1420.27 72.576 L1412.82 72.576 L1412.82 27.2059 M1412.82 9.54393 L1420.27 9.54393 L1420.27 18.9825 L1412.82 18.9825 L1412.82 9.54393 Z\" fill=\"#000000\" fill-rule=\"evenodd\" fill-opacity=\"1\" /><path clip-path=\"url(#clip930)\" d=\"M 0 0 M1422.75 27.2059 L1430.64 27.2059 L1444.82 65.2844 L1459 27.2059 L1466.9 27.2059 L1449.89 72.576 L1439.76 72.576 L1422.75 27.2059 Z\" fill=\"#000000\" fill-rule=\"evenodd\" fill-opacity=\"1\" /><path clip-path=\"url(#clip930)\" d=\"M 0 0 M1492.3 32.4315 Q1486.3 32.4315 1482.82 37.1306 Q1479.34 41.7891 1479.34 49.9314 Q1479.34 58.0738 1482.78 62.7728 Q1486.26 67.4314 1492.3 67.4314 Q1498.25 67.4314 1501.74 62.7323 Q1505.22 58.0333 1505.22 49.9314 Q1505.22 41.8701 1501.74 37.1711 Q1498.25 32.4315 1492.3 32.4315 M1492.3 26.1121 Q1502.02 26.1121 1507.57 32.4315 Q1513.12 38.7509 1513.12 49.9314 Q1513.12 61.0714 1507.57 67.4314 Q1502.02 73.7508 1492.3 73.7508 Q1482.54 73.7508 1476.99 67.4314 Q1471.48 61.0714 1471.48 49.9314 Q1471.48 38.7509 1476.99 32.4315 Q1482.54 26.1121 1492.3 26.1121 Z\" fill=\"#000000\" fill-rule=\"evenodd\" fill-opacity=\"1\" /><polyline clip-path=\"url(#clip932)\" style=\"stroke:#009af9; stroke-width:4; stroke-opacity:1; fill:none\" points=\"\n",
       "  262.478,160.256 282.977,163.84 303.476,167.442 323.975,171.064 344.474,174.705 364.973,178.367 385.472,182.051 405.971,185.759 426.47,189.491 446.969,193.249 \n",
       "  467.468,197.035 487.967,200.849 508.466,204.694 528.965,208.572 549.464,212.485 569.963,216.435 590.462,220.424 610.96,224.455 631.459,228.532 651.958,232.657 \n",
       "  672.457,236.834 692.956,241.067 713.455,245.36 733.954,249.719 754.453,254.149 774.952,258.656 795.451,263.248 815.95,267.931 836.449,272.717 856.948,277.614 \n",
       "  877.447,282.635 897.946,287.794 918.445,293.108 938.944,298.595 959.443,304.279 979.942,310.187 1000.44,316.353 1020.94,322.818 1041.44,329.634 1061.94,336.867 \n",
       "  1082.44,344.604 1102.94,352.959 1123.43,362.09 1143.93,372.225 1164.43,383.704 1184.93,397.075 1205.43,413.304 1225.93,434.348 1246.43,465.268 1266.93,529.515 \n",
       "  1287.43,1386.4 1307.92,1386.4 1328.42,1370.93 1348.92,1386.4 1369.42,1376.66 1389.92,1359.87 1410.42,1362.73 1430.92,1365.6 1451.42,1348.8 1471.92,1371.33 \n",
       "  1492.42,1374.19 1512.91,1377.06 1533.41,1360.26 1553.91,1386.4 1574.41,1346.33 1594.91,1349.2 1615.41,1352.06 1635.91,1386.4 1656.41,1338.13 1676.91,1360.66 \n",
       "  1697.4,1386.4 1717.9,1366.39 1738.4,1386.4 1758.9,1352.46 1779.4,1386.4 1799.9,1386.4 1820.4,1361.05 1840.9,1386.4 1861.4,1335.62 1881.9,1349.99 \n",
       "  1902.39,1386.4 1922.89,1375.38 1943.39,1378.24 1963.89,1361.45 1984.39,1333.15 2004.89,1347.52 2025.39,1370.04 2045.89,1386.4 2066.39,1375.77 2086.88,1378.64 \n",
       "  2107.38,1361.84 2127.88,1364.71 2148.38,1386.4 2168.88,1350.78 2189.38,1386.4 2209.88,1376.17 2230.38,1379.03 2250.88,1381.9 2271.38,1345.44 2291.87,1348.31 \n",
       "  \n",
       "  \"/>\n",
       "<path clip-path=\"url(#clip930)\" d=\"\n",
       "M1991.01 287.756 L2281.05 287.756 L2281.05 166.796 L1991.01 166.796  Z\n",
       "  \" fill=\"#ffffff\" fill-rule=\"evenodd\" fill-opacity=\"1\"/>\n",
       "<polyline clip-path=\"url(#clip930)\" style=\"stroke:#000000; stroke-width:4; stroke-opacity:1; fill:none\" points=\"\n",
       "  1991.01,287.756 2281.05,287.756 2281.05,166.796 1991.01,166.796 1991.01,287.756 \n",
       "  \"/>\n",
       "<polyline clip-path=\"url(#clip930)\" style=\"stroke:#009af9; stroke-width:4; stroke-opacity:1; fill:none\" points=\"\n",
       "  2014.92,227.276 2158.33,227.276 \n",
       "  \"/>\n",
       "<path clip-path=\"url(#clip930)\" d=\"M 0 0 M2196.07 246.963 Q2194.27 251.593 2192.55 253.005 Q2190.84 254.417 2187.97 254.417 L2184.57 254.417 L2184.57 250.852 L2187.07 250.852 Q2188.83 250.852 2189.8 250.019 Q2190.77 249.185 2191.95 246.083 L2192.71 244.139 L2182.23 218.63 L2186.74 218.63 L2194.84 238.908 L2202.95 218.63 L2207.46 218.63 L2196.07 246.963 Z\" fill=\"#000000\" fill-rule=\"evenodd\" fill-opacity=\"1\" /><path clip-path=\"url(#clip930)\" d=\"M 0 0 M2213.34 240.621 L2220.98 240.621 L2220.98 214.255 L2212.67 215.922 L2212.67 211.662 L2220.93 209.996 L2225.61 209.996 L2225.61 240.621 L2233.25 240.621 L2233.25 244.556 L2213.34 244.556 L2213.34 240.621 Z\" fill=\"#000000\" fill-rule=\"evenodd\" fill-opacity=\"1\" /></svg>\n"
      ]
     },
     "execution_count": 124,
     "metadata": {},
     "output_type": "execute_result"
    }
   ],
   "source": [
    "# vamos plotar o erro da nossa função\n",
    "# podemos perceber que o erro é enorme para valores negativos de x\n",
    "\n",
    "using Plots\n",
    "X = range(-5.0, 5.0, length=100)\n",
    "Erro = [max(abs(exp3(x) - exp(x)) / exp(x), 1e-16) for x in X]\n",
    "\n",
    "plot(X, Erro, yaxis=:log)\n",
    "xlabel!(\"n\")\n",
    "title!(\"Erro Relativo\")"
   ]
  },
  {
   "cell_type": "code",
   "execution_count": 125,
   "metadata": {},
   "outputs": [
    {
     "data": {
      "text/plain": [
       "exp4 (generic function with 1 method)"
      ]
     },
     "execution_count": 125,
     "metadata": {},
     "output_type": "execute_result"
    }
   ],
   "source": [
    "# como a expansão de taylor da função e^x acumula muitos erros para x < 0\n",
    "# devido a grande quantidade de subtrações, podemos usar um truque para calcular\n",
    "# a ideia é calcular o valor da função para um x positivo e depois inverter, já que e^-x = 1 / e^x\n",
    "\n",
    "function exp4(x)\n",
    "    if x >= 0\n",
    "        return exp3(x)\n",
    "    else\n",
    "        return 1.0 / exp3(-x)\n",
    "    end\n",
    "end"
   ]
  },
  {
   "cell_type": "code",
   "execution_count": 126,
   "metadata": {},
   "outputs": [
    {
     "data": {
      "image/svg+xml": [
       "<?xml version=\"1.0\" encoding=\"utf-8\"?>\n",
       "<svg xmlns=\"http://www.w3.org/2000/svg\" xmlns:xlink=\"http://www.w3.org/1999/xlink\" width=\"600\" height=\"400\" viewBox=\"0 0 2400 1600\">\n",
       "<defs>\n",
       "  <clipPath id=\"clip970\">\n",
       "    <rect x=\"0\" y=\"0\" width=\"2400\" height=\"1600\"/>\n",
       "  </clipPath>\n",
       "</defs>\n",
       "<path clip-path=\"url(#clip970)\" d=\"\n",
       "M0 1600 L2400 1600 L2400 0 L0 0  Z\n",
       "  \" fill=\"#ffffff\" fill-rule=\"evenodd\" fill-opacity=\"1\"/>\n",
       "<defs>\n",
       "  <clipPath id=\"clip971\">\n",
       "    <rect x=\"480\" y=\"0\" width=\"1681\" height=\"1600\"/>\n",
       "  </clipPath>\n",
       "</defs>\n",
       "<path clip-path=\"url(#clip970)\" d=\"\n",
       "M231.764 1423.18 L2352.76 1423.18 L2352.76 123.472 L231.764 123.472  Z\n",
       "  \" fill=\"#ffffff\" fill-rule=\"evenodd\" fill-opacity=\"1\"/>\n",
       "<defs>\n",
       "  <clipPath id=\"clip972\">\n",
       "    <rect x=\"231\" y=\"123\" width=\"2122\" height=\"1301\"/>\n",
       "  </clipPath>\n",
       "</defs>\n",
       "<polyline clip-path=\"url(#clip972)\" style=\"stroke:#000000; stroke-width:2; stroke-opacity:0.1; fill:none\" points=\"\n",
       "  291.792,1423.18 291.792,123.472 \n",
       "  \"/>\n",
       "<polyline clip-path=\"url(#clip972)\" style=\"stroke:#000000; stroke-width:2; stroke-opacity:0.1; fill:none\" points=\"\n",
       "  792.026,1423.18 792.026,123.472 \n",
       "  \"/>\n",
       "<polyline clip-path=\"url(#clip972)\" style=\"stroke:#000000; stroke-width:2; stroke-opacity:0.1; fill:none\" points=\"\n",
       "  1292.26,1423.18 1292.26,123.472 \n",
       "  \"/>\n",
       "<polyline clip-path=\"url(#clip972)\" style=\"stroke:#000000; stroke-width:2; stroke-opacity:0.1; fill:none\" points=\"\n",
       "  1792.49,1423.18 1792.49,123.472 \n",
       "  \"/>\n",
       "<polyline clip-path=\"url(#clip972)\" style=\"stroke:#000000; stroke-width:2; stroke-opacity:0.1; fill:none\" points=\"\n",
       "  2292.73,1423.18 2292.73,123.472 \n",
       "  \"/>\n",
       "<polyline clip-path=\"url(#clip970)\" style=\"stroke:#000000; stroke-width:4; stroke-opacity:1; fill:none\" points=\"\n",
       "  231.764,1423.18 2352.76,1423.18 \n",
       "  \"/>\n",
       "<polyline clip-path=\"url(#clip970)\" style=\"stroke:#000000; stroke-width:4; stroke-opacity:1; fill:none\" points=\"\n",
       "  291.792,1423.18 291.792,1407.58 \n",
       "  \"/>\n",
       "<polyline clip-path=\"url(#clip970)\" style=\"stroke:#000000; stroke-width:4; stroke-opacity:1; fill:none\" points=\"\n",
       "  792.026,1423.18 792.026,1407.58 \n",
       "  \"/>\n",
       "<polyline clip-path=\"url(#clip970)\" style=\"stroke:#000000; stroke-width:4; stroke-opacity:1; fill:none\" points=\"\n",
       "  1292.26,1423.18 1292.26,1407.58 \n",
       "  \"/>\n",
       "<polyline clip-path=\"url(#clip970)\" style=\"stroke:#000000; stroke-width:4; stroke-opacity:1; fill:none\" points=\"\n",
       "  1792.49,1423.18 1792.49,1407.58 \n",
       "  \"/>\n",
       "<polyline clip-path=\"url(#clip970)\" style=\"stroke:#000000; stroke-width:4; stroke-opacity:1; fill:none\" points=\"\n",
       "  2292.73,1423.18 2292.73,1407.58 \n",
       "  \"/>\n",
       "<path clip-path=\"url(#clip970)\" d=\"M 0 0 M250.554 1467.02 L280.23 1467.02 L280.23 1470.96 L250.554 1470.96 L250.554 1467.02 Z\" fill=\"#000000\" fill-rule=\"evenodd\" fill-opacity=\"1\" /><path clip-path=\"url(#clip970)\" d=\"M 0 0 M286.109 1479.92 L293.748 1479.92 L293.748 1453.55 L285.438 1455.22 L285.438 1450.96 L293.702 1449.29 L298.378 1449.29 L298.378 1479.92 L306.017 1479.92 L306.017 1483.85 L286.109 1483.85 L286.109 1479.92 Z\" fill=\"#000000\" fill-rule=\"evenodd\" fill-opacity=\"1\" /><path clip-path=\"url(#clip970)\" d=\"M 0 0 M321.086 1452.37 Q317.475 1452.37 315.646 1455.94 Q313.841 1459.48 313.841 1466.61 Q313.841 1473.71 315.646 1477.28 Q317.475 1480.82 321.086 1480.82 Q324.72 1480.82 326.526 1477.28 Q328.355 1473.71 328.355 1466.61 Q328.355 1459.48 326.526 1455.94 Q324.72 1452.37 321.086 1452.37 M321.086 1448.67 Q326.896 1448.67 329.952 1453.27 Q333.03 1457.86 333.03 1466.61 Q333.03 1475.33 329.952 1479.94 Q326.896 1484.52 321.086 1484.52 Q315.276 1484.52 312.197 1479.94 Q309.142 1475.33 309.142 1466.61 Q309.142 1457.86 312.197 1453.27 Q315.276 1448.67 321.086 1448.67 Z\" fill=\"#000000\" fill-rule=\"evenodd\" fill-opacity=\"1\" /><path clip-path=\"url(#clip970)\" d=\"M 0 0 M764.179 1467.02 L793.855 1467.02 L793.855 1470.96 L764.179 1470.96 L764.179 1467.02 Z\" fill=\"#000000\" fill-rule=\"evenodd\" fill-opacity=\"1\" /><path clip-path=\"url(#clip970)\" d=\"M 0 0 M798.971 1449.29 L817.327 1449.29 L817.327 1453.23 L803.253 1453.23 L803.253 1461.7 Q804.271 1461.35 805.29 1461.19 Q806.308 1461 807.327 1461 Q813.114 1461 816.494 1464.18 Q819.873 1467.35 819.873 1472.76 Q819.873 1478.34 816.401 1481.44 Q812.929 1484.52 806.609 1484.52 Q804.434 1484.52 802.165 1484.15 Q799.92 1483.78 797.512 1483.04 L797.512 1478.34 Q799.596 1479.48 801.818 1480.03 Q804.04 1480.59 806.517 1480.59 Q810.521 1480.59 812.859 1478.48 Q815.197 1476.38 815.197 1472.76 Q815.197 1469.15 812.859 1467.05 Q810.521 1464.94 806.517 1464.94 Q804.642 1464.94 802.767 1465.36 Q800.915 1465.77 798.971 1466.65 L798.971 1449.29 Z\" fill=\"#000000\" fill-rule=\"evenodd\" fill-opacity=\"1\" /><path clip-path=\"url(#clip970)\" d=\"M 0 0 M1292.26 1452.37 Q1288.65 1452.37 1286.82 1455.94 Q1285.01 1459.48 1285.01 1466.61 Q1285.01 1473.71 1286.82 1477.28 Q1288.65 1480.82 1292.26 1480.82 Q1295.89 1480.82 1297.7 1477.28 Q1299.53 1473.71 1299.53 1466.61 Q1299.53 1459.48 1297.7 1455.94 Q1295.89 1452.37 1292.26 1452.37 M1292.26 1448.67 Q1298.07 1448.67 1301.13 1453.27 Q1304.2 1457.86 1304.2 1466.61 Q1304.2 1475.33 1301.13 1479.94 Q1298.07 1484.52 1292.26 1484.52 Q1286.45 1484.52 1283.37 1479.94 Q1280.32 1475.33 1280.32 1466.61 Q1280.32 1457.86 1283.37 1453.27 Q1286.45 1448.67 1292.26 1448.67 Z\" fill=\"#000000\" fill-rule=\"evenodd\" fill-opacity=\"1\" /><path clip-path=\"url(#clip970)\" d=\"M 0 0 M1782.77 1449.29 L1801.13 1449.29 L1801.13 1453.23 L1787.05 1453.23 L1787.05 1461.7 Q1788.07 1461.35 1789.09 1461.19 Q1790.11 1461 1791.13 1461 Q1796.92 1461 1800.29 1464.18 Q1803.67 1467.35 1803.67 1472.76 Q1803.67 1478.34 1800.2 1481.44 Q1796.73 1484.52 1790.41 1484.52 Q1788.23 1484.52 1785.97 1484.15 Q1783.72 1483.78 1781.31 1483.04 L1781.31 1478.34 Q1783.4 1479.48 1785.62 1480.03 Q1787.84 1480.59 1790.32 1480.59 Q1794.32 1480.59 1796.66 1478.48 Q1799 1476.38 1799 1472.76 Q1799 1469.15 1796.66 1467.05 Q1794.32 1464.94 1790.32 1464.94 Q1788.44 1464.94 1786.57 1465.36 Q1784.72 1465.77 1782.77 1466.65 L1782.77 1449.29 Z\" fill=\"#000000\" fill-rule=\"evenodd\" fill-opacity=\"1\" /><path clip-path=\"url(#clip970)\" d=\"M 0 0 M2269.6 1479.92 L2277.24 1479.92 L2277.24 1453.55 L2268.93 1455.22 L2268.93 1450.96 L2277.2 1449.29 L2281.87 1449.29 L2281.87 1479.92 L2289.51 1479.92 L2289.51 1483.85 L2269.6 1483.85 L2269.6 1479.92 Z\" fill=\"#000000\" fill-rule=\"evenodd\" fill-opacity=\"1\" /><path clip-path=\"url(#clip970)\" d=\"M 0 0 M2304.58 1452.37 Q2300.97 1452.37 2299.14 1455.94 Q2297.33 1459.48 2297.33 1466.61 Q2297.33 1473.71 2299.14 1477.28 Q2300.97 1480.82 2304.58 1480.82 Q2308.21 1480.82 2310.02 1477.28 Q2311.85 1473.71 2311.85 1466.61 Q2311.85 1459.48 2310.02 1455.94 Q2308.21 1452.37 2304.58 1452.37 M2304.58 1448.67 Q2310.39 1448.67 2313.45 1453.27 Q2316.52 1457.86 2316.52 1466.61 Q2316.52 1475.33 2313.45 1479.94 Q2310.39 1484.52 2304.58 1484.52 Q2298.77 1484.52 2295.69 1479.94 Q2292.64 1475.33 2292.64 1466.61 Q2292.64 1457.86 2295.69 1453.27 Q2298.77 1448.67 2304.58 1448.67 Z\" fill=\"#000000\" fill-rule=\"evenodd\" fill-opacity=\"1\" /><path clip-path=\"url(#clip970)\" d=\"M 0 0 M1307.19 1534.53 L1307.19 1556.04 L1301.33 1556.04 L1301.33 1534.72 Q1301.33 1529.66 1299.36 1527.14 Q1297.38 1524.63 1293.44 1524.63 Q1288.7 1524.63 1285.96 1527.65 Q1283.22 1530.68 1283.22 1535.9 L1283.22 1556.04 L1277.33 1556.04 L1277.33 1520.4 L1283.22 1520.4 L1283.22 1525.93 Q1285.32 1522.72 1288.15 1521.13 Q1291.02 1519.54 1294.74 1519.54 Q1300.89 1519.54 1304.04 1523.36 Q1307.19 1527.14 1307.19 1534.53 Z\" fill=\"#000000\" fill-rule=\"evenodd\" fill-opacity=\"1\" /><polyline clip-path=\"url(#clip972)\" style=\"stroke:#000000; stroke-width:2; stroke-opacity:0.1; fill:none\" points=\"\n",
       "  231.764,1386.4 2352.76,1386.4 \n",
       "  \"/>\n",
       "<polyline clip-path=\"url(#clip972)\" style=\"stroke:#000000; stroke-width:2; stroke-opacity:0.1; fill:none\" points=\"\n",
       "  231.764,1097.98 2352.76,1097.98 \n",
       "  \"/>\n",
       "<polyline clip-path=\"url(#clip972)\" style=\"stroke:#000000; stroke-width:2; stroke-opacity:0.1; fill:none\" points=\"\n",
       "  231.764,809.563 2352.76,809.563 \n",
       "  \"/>\n",
       "<polyline clip-path=\"url(#clip972)\" style=\"stroke:#000000; stroke-width:2; stroke-opacity:0.1; fill:none\" points=\"\n",
       "  231.764,521.147 2352.76,521.147 \n",
       "  \"/>\n",
       "<polyline clip-path=\"url(#clip972)\" style=\"stroke:#000000; stroke-width:2; stroke-opacity:0.1; fill:none\" points=\"\n",
       "  231.764,232.731 2352.76,232.731 \n",
       "  \"/>\n",
       "<polyline clip-path=\"url(#clip970)\" style=\"stroke:#000000; stroke-width:4; stroke-opacity:1; fill:none\" points=\"\n",
       "  231.764,1423.18 231.764,123.472 \n",
       "  \"/>\n",
       "<polyline clip-path=\"url(#clip970)\" style=\"stroke:#000000; stroke-width:4; stroke-opacity:1; fill:none\" points=\"\n",
       "  231.764,1386.4 257.216,1386.4 \n",
       "  \"/>\n",
       "<polyline clip-path=\"url(#clip970)\" style=\"stroke:#000000; stroke-width:4; stroke-opacity:1; fill:none\" points=\"\n",
       "  231.764,1097.98 257.216,1097.98 \n",
       "  \"/>\n",
       "<polyline clip-path=\"url(#clip970)\" style=\"stroke:#000000; stroke-width:4; stroke-opacity:1; fill:none\" points=\"\n",
       "  231.764,809.563 257.216,809.563 \n",
       "  \"/>\n",
       "<polyline clip-path=\"url(#clip970)\" style=\"stroke:#000000; stroke-width:4; stroke-opacity:1; fill:none\" points=\"\n",
       "  231.764,521.147 257.216,521.147 \n",
       "  \"/>\n",
       "<polyline clip-path=\"url(#clip970)\" style=\"stroke:#000000; stroke-width:4; stroke-opacity:1; fill:none\" points=\"\n",
       "  231.764,232.731 257.216,232.731 \n",
       "  \"/>\n",
       "<path clip-path=\"url(#clip970)\" d=\"M 0 0 M51.6634 1406.19 L59.3023 1406.19 L59.3023 1379.82 L50.9921 1381.49 L50.9921 1377.23 L59.256 1375.56 L63.9319 1375.56 L63.9319 1406.19 L71.5707 1406.19 L71.5707 1410.12 L51.6634 1410.12 L51.6634 1406.19 Z\" fill=\"#000000\" fill-rule=\"evenodd\" fill-opacity=\"1\" /><path clip-path=\"url(#clip970)\" d=\"M 0 0 M86.6401 1378.64 Q83.029 1378.64 81.2003 1382.21 Q79.3948 1385.75 79.3948 1392.88 Q79.3948 1399.98 81.2003 1403.55 Q83.029 1407.09 86.6401 1407.09 Q90.2743 1407.09 92.0799 1403.55 Q93.9086 1399.98 93.9086 1392.88 Q93.9086 1385.75 92.0799 1382.21 Q90.2743 1378.64 86.6401 1378.64 M86.6401 1374.94 Q92.4502 1374.94 95.5058 1379.54 Q98.5845 1384.13 98.5845 1392.88 Q98.5845 1401.6 95.5058 1406.21 Q92.4502 1410.79 86.6401 1410.79 Q80.8299 1410.79 77.7512 1406.21 Q74.6957 1401.6 74.6957 1392.88 Q74.6957 1384.13 77.7512 1379.54 Q80.8299 1374.94 86.6401 1374.94 Z\" fill=\"#000000\" fill-rule=\"evenodd\" fill-opacity=\"1\" /><path clip-path=\"url(#clip970)\" d=\"M 0 0 M98.5845 1369.04 L122.696 1369.04 L122.696 1372.24 L98.5845 1372.24 L98.5845 1369.04 Z\" fill=\"#000000\" fill-rule=\"evenodd\" fill-opacity=\"1\" /><path clip-path=\"url(#clip970)\" d=\"M 0 0 M127.473 1379.52 L133.68 1379.52 L133.68 1358.09 L126.928 1359.45 L126.928 1355.99 L133.642 1354.63 L137.441 1354.63 L137.441 1379.52 L143.648 1379.52 L143.648 1382.71 L127.473 1382.71 L127.473 1379.52 Z\" fill=\"#000000\" fill-rule=\"evenodd\" fill-opacity=\"1\" /><path clip-path=\"url(#clip970)\" d=\"M 0 0 M156.362 1367.16 Q153.804 1367.16 152.299 1368.91 Q150.814 1370.66 150.814 1373.7 Q150.814 1376.73 152.299 1378.5 Q153.804 1380.25 156.362 1380.25 Q158.92 1380.25 160.406 1378.5 Q161.91 1376.73 161.91 1373.7 Q161.91 1370.66 160.406 1368.91 Q158.92 1367.16 156.362 1367.16 M163.904 1355.25 L163.904 1358.71 Q162.474 1358.04 161.007 1357.68 Q159.559 1357.32 158.13 1357.32 Q154.368 1357.32 152.375 1359.86 Q150.4 1362.4 150.118 1367.53 Q151.227 1365.9 152.901 1365.03 Q154.575 1364.15 156.588 1364.15 Q160.819 1364.15 163.264 1366.73 Q165.728 1369.28 165.728 1373.7 Q165.728 1378.03 163.17 1380.64 Q160.612 1383.26 156.362 1383.26 Q151.491 1383.26 148.914 1379.53 Q146.337 1375.79 146.337 1368.7 Q146.337 1362.04 149.497 1358.09 Q152.657 1354.13 157.979 1354.13 Q159.409 1354.13 160.857 1354.41 Q162.324 1354.69 163.904 1355.25 Z\" fill=\"#000000\" fill-rule=\"evenodd\" fill-opacity=\"1\" /><path clip-path=\"url(#clip970)\" d=\"M 0 0 M169.847 1377.94 L173.816 1377.94 L173.816 1382.71 L169.847 1382.71 L169.847 1377.94 Z\" fill=\"#000000\" fill-rule=\"evenodd\" fill-opacity=\"1\" /><path clip-path=\"url(#clip970)\" d=\"M 0 0 M186.059 1357.13 Q183.125 1357.13 181.64 1360.03 Q180.173 1362.91 180.173 1368.7 Q180.173 1374.48 181.64 1377.37 Q183.125 1380.25 186.059 1380.25 Q189.012 1380.25 190.479 1377.37 Q191.965 1374.48 191.965 1368.7 Q191.965 1362.91 190.479 1360.03 Q189.012 1357.13 186.059 1357.13 M186.059 1354.13 Q190.78 1354.13 193.263 1357.87 Q195.764 1361.59 195.764 1368.7 Q195.764 1375.79 193.263 1379.53 Q190.78 1383.26 186.059 1383.26 Q181.339 1383.26 178.837 1379.53 Q176.355 1375.79 176.355 1368.7 Q176.355 1361.59 178.837 1357.87 Q181.339 1354.13 186.059 1354.13 Z\" fill=\"#000000\" fill-rule=\"evenodd\" fill-opacity=\"1\" /><path clip-path=\"url(#clip970)\" d=\"M 0 0 M52.679 1117.77 L60.3179 1117.77 L60.3179 1091.41 L52.0077 1093.07 L52.0077 1088.81 L60.2716 1087.15 L64.9475 1087.15 L64.9475 1117.77 L72.5863 1117.77 L72.5863 1121.71 L52.679 1121.71 L52.679 1117.77 Z\" fill=\"#000000\" fill-rule=\"evenodd\" fill-opacity=\"1\" /><path clip-path=\"url(#clip970)\" d=\"M 0 0 M87.6557 1090.23 Q84.0446 1090.23 82.2159 1093.79 Q80.4104 1097.33 80.4104 1104.46 Q80.4104 1111.57 82.2159 1115.13 Q84.0446 1118.67 87.6557 1118.67 Q91.2899 1118.67 93.0955 1115.13 Q94.9242 1111.57 94.9242 1104.46 Q94.9242 1097.33 93.0955 1093.79 Q91.2899 1090.23 87.6557 1090.23 M87.6557 1086.52 Q93.4659 1086.52 96.5214 1091.13 Q99.6001 1095.71 99.6001 1104.46 Q99.6001 1113.19 96.5214 1117.8 Q93.4659 1122.38 87.6557 1122.38 Q81.8455 1122.38 78.7669 1117.8 Q75.7113 1113.19 75.7113 1104.46 Q75.7113 1095.71 78.7669 1091.13 Q81.8455 1086.52 87.6557 1086.52 Z\" fill=\"#000000\" fill-rule=\"evenodd\" fill-opacity=\"1\" /><path clip-path=\"url(#clip970)\" d=\"M 0 0 M99.6001 1080.62 L123.712 1080.62 L123.712 1083.82 L99.6001 1083.82 L99.6001 1080.62 Z\" fill=\"#000000\" fill-rule=\"evenodd\" fill-opacity=\"1\" /><path clip-path=\"url(#clip970)\" d=\"M 0 0 M128.489 1091.1 L134.695 1091.1 L134.695 1069.68 L127.943 1071.03 L127.943 1067.57 L134.658 1066.22 L138.457 1066.22 L138.457 1091.1 L144.663 1091.1 L144.663 1094.3 L128.489 1094.3 L128.489 1091.1 Z\" fill=\"#000000\" fill-rule=\"evenodd\" fill-opacity=\"1\" /><path clip-path=\"url(#clip970)\" d=\"M 0 0 M148.82 1066.22 L163.735 1066.22 L163.735 1069.41 L152.299 1069.41 L152.299 1076.3 Q153.127 1076.02 153.955 1075.88 Q154.782 1075.73 155.61 1075.73 Q160.312 1075.73 163.057 1078.31 Q165.803 1080.89 165.803 1085.29 Q165.803 1089.82 162.982 1092.34 Q160.161 1094.84 155.027 1094.84 Q153.259 1094.84 151.415 1094.54 Q149.591 1094.24 147.635 1093.64 L147.635 1089.82 Q149.328 1090.74 151.133 1091.19 Q152.939 1091.64 154.951 1091.64 Q158.205 1091.64 160.105 1089.93 Q162.004 1088.22 162.004 1085.29 Q162.004 1082.35 160.105 1080.64 Q158.205 1078.93 154.951 1078.93 Q153.428 1078.93 151.904 1079.27 Q150.4 1079.61 148.82 1080.32 L148.82 1066.22 Z\" fill=\"#000000\" fill-rule=\"evenodd\" fill-opacity=\"1\" /><path clip-path=\"url(#clip970)\" d=\"M 0 0 M169.922 1089.52 L173.891 1089.52 L173.891 1094.3 L169.922 1094.3 L169.922 1089.52 Z\" fill=\"#000000\" fill-rule=\"evenodd\" fill-opacity=\"1\" /><path clip-path=\"url(#clip970)\" d=\"M 0 0 M186.135 1080.96 Q183.426 1080.96 181.865 1082.41 Q180.323 1083.86 180.323 1086.4 Q180.323 1088.94 181.865 1090.38 Q183.426 1091.83 186.135 1091.83 Q188.843 1091.83 190.404 1090.38 Q191.965 1088.92 191.965 1086.4 Q191.965 1083.86 190.404 1082.41 Q188.862 1080.96 186.135 1080.96 M182.335 1079.34 Q179.89 1078.74 178.517 1077.07 Q177.163 1075.39 177.163 1072.99 Q177.163 1069.62 179.552 1067.66 Q181.959 1065.71 186.135 1065.71 Q190.329 1065.71 192.717 1067.66 Q195.106 1069.62 195.106 1072.99 Q195.106 1075.39 193.733 1077.07 Q192.379 1078.74 189.953 1079.34 Q192.699 1079.98 194.222 1081.85 Q195.764 1083.71 195.764 1086.4 Q195.764 1090.48 193.263 1092.66 Q190.78 1094.84 186.135 1094.84 Q181.489 1094.84 178.988 1092.66 Q176.505 1090.48 176.505 1086.4 Q176.505 1083.71 178.047 1081.85 Q179.59 1079.98 182.335 1079.34 M180.944 1073.34 Q180.944 1075.53 182.298 1076.75 Q183.671 1077.97 186.135 1077.97 Q188.58 1077.97 189.953 1076.75 Q191.344 1075.53 191.344 1073.34 Q191.344 1071.16 189.953 1069.94 Q188.58 1068.72 186.135 1068.72 Q183.671 1068.72 182.298 1069.94 Q180.944 1071.16 180.944 1073.34 Z\" fill=\"#000000\" fill-rule=\"evenodd\" fill-opacity=\"1\" /><path clip-path=\"url(#clip970)\" d=\"M 0 0 M52.4722 829.356 L60.111 829.356 L60.111 802.99 L51.8009 804.657 L51.8009 800.398 L60.0647 798.731 L64.7406 798.731 L64.7406 829.356 L72.3795 829.356 L72.3795 833.291 L52.4722 833.291 L52.4722 829.356 Z\" fill=\"#000000\" fill-rule=\"evenodd\" fill-opacity=\"1\" /><path clip-path=\"url(#clip970)\" d=\"M 0 0 M87.4488 801.81 Q83.8377 801.81 82.009 805.375 Q80.2035 808.916 80.2035 816.046 Q80.2035 823.152 82.009 826.717 Q83.8377 830.259 87.4488 830.259 Q91.0831 830.259 92.8886 826.717 Q94.7173 823.152 94.7173 816.046 Q94.7173 808.916 92.8886 805.375 Q91.0831 801.81 87.4488 801.81 M87.4488 798.106 Q93.259 798.106 96.3145 802.713 Q99.3932 807.296 99.3932 816.046 Q99.3932 824.773 96.3145 829.379 Q93.259 833.962 87.4488 833.962 Q81.6387 833.962 78.56 829.379 Q75.5044 824.773 75.5044 816.046 Q75.5044 807.296 78.56 802.713 Q81.6387 798.106 87.4488 798.106 Z\" fill=\"#000000\" fill-rule=\"evenodd\" fill-opacity=\"1\" /><path clip-path=\"url(#clip970)\" d=\"M 0 0 M99.3932 792.207 L123.505 792.207 L123.505 795.405 L99.3932 795.405 L99.3932 792.207 Z\" fill=\"#000000\" fill-rule=\"evenodd\" fill-opacity=\"1\" /><path clip-path=\"url(#clip970)\" d=\"M 0 0 M128.282 802.683 L134.488 802.683 L134.488 781.261 L127.737 782.615 L127.737 779.155 L134.451 777.801 L138.25 777.801 L138.25 802.683 L144.457 802.683 L144.457 805.881 L128.282 805.881 L128.282 802.683 Z\" fill=\"#000000\" fill-rule=\"evenodd\" fill-opacity=\"1\" /><path clip-path=\"url(#clip970)\" d=\"M 0 0 M148.613 777.801 L163.528 777.801 L163.528 780.998 L152.093 780.998 L152.093 787.882 Q152.92 787.6 153.748 787.468 Q154.575 787.317 155.403 787.317 Q160.105 787.317 162.851 789.894 Q165.597 792.471 165.597 796.872 Q165.597 801.404 162.775 803.925 Q159.954 806.426 154.82 806.426 Q153.052 806.426 151.209 806.125 Q149.384 805.824 147.428 805.222 L147.428 801.404 Q149.121 802.326 150.926 802.777 Q152.732 803.229 154.744 803.229 Q157.998 803.229 159.898 801.517 Q161.797 799.806 161.797 796.872 Q161.797 793.938 159.898 792.226 Q157.998 790.515 154.744 790.515 Q153.221 790.515 151.698 790.853 Q150.193 791.192 148.613 791.906 L148.613 777.801 Z\" fill=\"#000000\" fill-rule=\"evenodd\" fill-opacity=\"1\" /><path clip-path=\"url(#clip970)\" d=\"M 0 0 M169.715 801.103 L173.684 801.103 L173.684 805.881 L169.715 805.881 L169.715 801.103 Z\" fill=\"#000000\" fill-rule=\"evenodd\" fill-opacity=\"1\" /><path clip-path=\"url(#clip970)\" d=\"M 0 0 M186.398 790.327 Q183.84 790.327 182.335 792.076 Q180.85 793.825 180.85 796.872 Q180.85 799.9 182.335 801.668 Q183.84 803.417 186.398 803.417 Q188.956 803.417 190.442 801.668 Q191.946 799.9 191.946 796.872 Q191.946 793.825 190.442 792.076 Q188.956 790.327 186.398 790.327 M193.94 778.421 L193.94 781.882 Q192.51 781.205 191.043 780.848 Q189.595 780.49 188.166 780.49 Q184.404 780.49 182.411 783.029 Q180.436 785.568 180.154 790.703 Q181.263 789.067 182.937 788.201 Q184.611 787.317 186.624 787.317 Q190.855 787.317 193.3 789.894 Q195.764 792.452 195.764 796.872 Q195.764 801.198 193.206 803.812 Q190.648 806.426 186.398 806.426 Q181.527 806.426 178.95 802.702 Q176.373 798.959 176.373 791.869 Q176.373 785.211 179.533 781.261 Q182.693 777.293 188.015 777.293 Q189.445 777.293 190.893 777.575 Q192.36 777.857 193.94 778.421 Z\" fill=\"#000000\" fill-rule=\"evenodd\" fill-opacity=\"1\" /><path clip-path=\"url(#clip970)\" d=\"M 0 0 M52.2088 540.94 L59.8477 540.94 L59.8477 514.574 L51.5376 516.241 L51.5376 511.982 L59.8014 510.315 L64.4773 510.315 L64.4773 540.94 L72.1161 540.94 L72.1161 544.875 L52.2088 544.875 L52.2088 540.94 Z\" fill=\"#000000\" fill-rule=\"evenodd\" fill-opacity=\"1\" /><path clip-path=\"url(#clip970)\" d=\"M 0 0 M87.1855 513.394 Q83.5744 513.394 81.7457 516.958 Q79.9402 520.5 79.9402 527.63 Q79.9402 534.736 81.7457 538.301 Q83.5744 541.843 87.1855 541.843 Q90.8197 541.843 92.6253 538.301 Q94.454 534.736 94.454 527.63 Q94.454 520.5 92.6253 516.958 Q90.8197 513.394 87.1855 513.394 M87.1855 509.69 Q92.9957 509.69 96.0512 514.296 Q99.1299 518.88 99.1299 527.63 Q99.1299 536.356 96.0512 540.963 Q92.9957 545.546 87.1855 545.546 Q81.3754 545.546 78.2967 540.963 Q75.2411 536.356 75.2411 527.63 Q75.2411 518.88 78.2967 514.296 Q81.3754 509.69 87.1855 509.69 Z\" fill=\"#000000\" fill-rule=\"evenodd\" fill-opacity=\"1\" /><path clip-path=\"url(#clip970)\" d=\"M 0 0 M99.1299 503.791 L123.241 503.791 L123.241 506.989 L99.1299 506.989 L99.1299 503.791 Z\" fill=\"#000000\" fill-rule=\"evenodd\" fill-opacity=\"1\" /><path clip-path=\"url(#clip970)\" d=\"M 0 0 M128.019 514.267 L134.225 514.267 L134.225 492.845 L127.473 494.199 L127.473 490.739 L134.188 489.385 L137.987 489.385 L137.987 514.267 L144.193 514.267 L144.193 517.465 L128.019 517.465 L128.019 514.267 Z\" fill=\"#000000\" fill-rule=\"evenodd\" fill-opacity=\"1\" /><path clip-path=\"url(#clip970)\" d=\"M 0 0 M148.35 489.385 L163.264 489.385 L163.264 492.582 L151.829 492.582 L151.829 499.466 Q152.657 499.183 153.484 499.052 Q154.312 498.901 155.139 498.901 Q159.841 498.901 162.587 501.478 Q165.333 504.055 165.333 508.456 Q165.333 512.988 162.512 515.509 Q159.691 518.01 154.556 518.01 Q152.788 518.01 150.945 517.709 Q149.121 517.408 147.165 516.806 L147.165 512.988 Q148.858 513.91 150.663 514.361 Q152.469 514.813 154.481 514.813 Q157.735 514.813 159.634 513.101 Q161.534 511.39 161.534 508.456 Q161.534 505.522 159.634 503.81 Q157.735 502.099 154.481 502.099 Q152.958 502.099 151.434 502.437 Q149.93 502.776 148.35 503.49 L148.35 489.385 Z\" fill=\"#000000\" fill-rule=\"evenodd\" fill-opacity=\"1\" /><path clip-path=\"url(#clip970)\" d=\"M 0 0 M169.452 512.687 L173.421 512.687 L173.421 517.465 L169.452 517.465 L169.452 512.687 Z\" fill=\"#000000\" fill-rule=\"evenodd\" fill-opacity=\"1\" /><path clip-path=\"url(#clip970)\" d=\"M 0 0 M187.978 492.695 L178.386 507.685 L187.978 507.685 L187.978 492.695 M186.981 489.385 L191.758 489.385 L191.758 507.685 L195.764 507.685 L195.764 510.844 L191.758 510.844 L191.758 517.465 L187.978 517.465 L187.978 510.844 L175.301 510.844 L175.301 507.177 L186.981 489.385 Z\" fill=\"#000000\" fill-rule=\"evenodd\" fill-opacity=\"1\" /><path clip-path=\"url(#clip970)\" d=\"M 0 0 M53.9015 252.524 L61.5404 252.524 L61.5404 226.158 L53.2303 227.825 L53.2303 223.566 L61.4941 221.899 L66.17 221.899 L66.17 252.524 L73.8088 252.524 L73.8088 256.459 L53.9015 256.459 L53.9015 252.524 Z\" fill=\"#000000\" fill-rule=\"evenodd\" fill-opacity=\"1\" /><path clip-path=\"url(#clip970)\" d=\"M 0 0 M88.8782 224.978 Q85.2671 224.978 83.4384 228.542 Q81.6329 232.084 81.6329 239.214 Q81.6329 246.32 83.4384 249.885 Q85.2671 253.426 88.8782 253.426 Q92.5124 253.426 94.318 249.885 Q96.1467 246.32 96.1467 239.214 Q96.1467 232.084 94.318 228.542 Q92.5124 224.978 88.8782 224.978 M88.8782 221.274 Q94.6884 221.274 97.7439 225.88 Q100.823 230.464 100.823 239.214 Q100.823 247.94 97.7439 252.547 Q94.6884 257.13 88.8782 257.13 Q83.0681 257.13 79.9894 252.547 Q76.9338 247.94 76.9338 239.214 Q76.9338 230.464 79.9894 225.88 Q83.0681 221.274 88.8782 221.274 Z\" fill=\"#000000\" fill-rule=\"evenodd\" fill-opacity=\"1\" /><path clip-path=\"url(#clip970)\" d=\"M 0 0 M100.823 215.375 L124.934 215.375 L124.934 218.573 L100.823 218.573 L100.823 215.375 Z\" fill=\"#000000\" fill-rule=\"evenodd\" fill-opacity=\"1\" /><path clip-path=\"url(#clip970)\" d=\"M 0 0 M129.711 225.851 L135.918 225.851 L135.918 204.429 L129.166 205.783 L129.166 202.323 L135.88 200.968 L139.679 200.968 L139.679 225.851 L145.886 225.851 L145.886 229.048 L129.711 229.048 L129.711 225.851 Z\" fill=\"#000000\" fill-rule=\"evenodd\" fill-opacity=\"1\" /><path clip-path=\"url(#clip970)\" d=\"M 0 0 M150.043 200.968 L164.957 200.968 L164.957 204.166 L153.522 204.166 L153.522 211.049 Q154.35 210.767 155.177 210.636 Q156.005 210.485 156.832 210.485 Q161.534 210.485 164.28 213.062 Q167.026 215.639 167.026 220.04 Q167.026 224.572 164.205 227.092 Q161.384 229.594 156.249 229.594 Q154.481 229.594 152.638 229.293 Q150.814 228.992 148.858 228.39 L148.858 224.572 Q150.55 225.494 152.356 225.945 Q154.161 226.397 156.174 226.397 Q159.428 226.397 161.327 224.685 Q163.227 222.974 163.227 220.04 Q163.227 217.106 161.327 215.394 Q159.428 213.683 156.174 213.683 Q154.65 213.683 153.127 214.021 Q151.622 214.36 150.043 215.074 L150.043 200.968 Z\" fill=\"#000000\" fill-rule=\"evenodd\" fill-opacity=\"1\" /><path clip-path=\"url(#clip970)\" d=\"M 0 0 M171.145 224.271 L175.113 224.271 L175.113 229.048 L171.145 229.048 L171.145 224.271 Z\" fill=\"#000000\" fill-rule=\"evenodd\" fill-opacity=\"1\" /><path clip-path=\"url(#clip970)\" d=\"M 0 0 M182.505 225.851 L195.764 225.851 L195.764 229.048 L177.934 229.048 L177.934 225.851 Q180.097 223.613 183.821 219.851 Q187.564 216.071 188.523 214.98 Q190.348 212.93 191.062 211.52 Q191.796 210.09 191.796 208.717 Q191.796 206.479 190.216 205.069 Q188.655 203.658 186.135 203.658 Q184.348 203.658 182.354 204.279 Q180.379 204.899 178.123 206.159 L178.123 202.323 Q180.417 201.401 182.411 200.931 Q184.404 200.461 186.059 200.461 Q190.423 200.461 193.018 202.642 Q195.614 204.824 195.614 208.473 Q195.614 210.203 194.955 211.764 Q194.316 213.306 192.605 215.413 Q192.134 215.958 189.614 218.573 Q187.094 221.168 182.505 225.851 Z\" fill=\"#000000\" fill-rule=\"evenodd\" fill-opacity=\"1\" /><path clip-path=\"url(#clip970)\" d=\"M 0 0 M1056.32 12.096 L1094.56 12.096 L1094.56 18.9825 L1064.5 18.9825 L1064.5 36.8875 L1093.3 36.8875 L1093.3 43.7741 L1064.5 43.7741 L1064.5 65.6895 L1095.28 65.6895 L1095.28 72.576 L1056.32 72.576 L1056.32 12.096 Z\" fill=\"#000000\" fill-rule=\"evenodd\" fill-opacity=\"1\" /><path clip-path=\"url(#clip970)\" d=\"M 0 0 M1129.39 34.1734 Q1128.14 33.4443 1126.64 33.1202 Q1125.18 32.7556 1123.4 32.7556 Q1117.08 32.7556 1113.68 36.8875 Q1110.31 40.9789 1110.31 48.6757 L1110.31 72.576 L1102.82 72.576 L1102.82 27.2059 L1110.31 27.2059 L1110.31 34.2544 Q1112.66 30.1225 1116.43 28.1376 Q1120.2 26.1121 1125.59 26.1121 Q1126.36 26.1121 1127.29 26.2337 Q1128.22 26.3147 1129.35 26.5172 L1129.39 34.1734 Z\" fill=\"#000000\" fill-rule=\"evenodd\" fill-opacity=\"1\" /><path clip-path=\"url(#clip970)\" d=\"M 0 0 M1162.04 34.1734 Q1160.79 33.4443 1159.29 33.1202 Q1157.83 32.7556 1156.05 32.7556 Q1149.73 32.7556 1146.33 36.8875 Q1142.96 40.9789 1142.96 48.6757 L1142.96 72.576 L1135.47 72.576 L1135.47 27.2059 L1142.96 27.2059 L1142.96 34.2544 Q1145.31 30.1225 1149.08 28.1376 Q1152.85 26.1121 1158.24 26.1121 Q1159.01 26.1121 1159.94 26.2337 Q1160.87 26.3147 1162 26.5172 L1162.04 34.1734 Z\" fill=\"#000000\" fill-rule=\"evenodd\" fill-opacity=\"1\" /><path clip-path=\"url(#clip970)\" d=\"M 0 0 M1185.62 32.4315 Q1179.62 32.4315 1176.14 37.1306 Q1172.66 41.7891 1172.66 49.9314 Q1172.66 58.0738 1176.1 62.7728 Q1179.58 67.4314 1185.62 67.4314 Q1191.57 67.4314 1195.06 62.7323 Q1198.54 58.0333 1198.54 49.9314 Q1198.54 41.8701 1195.06 37.1711 Q1191.57 32.4315 1185.62 32.4315 M1185.62 26.1121 Q1195.34 26.1121 1200.89 32.4315 Q1206.44 38.7509 1206.44 49.9314 Q1206.44 61.0714 1200.89 67.4314 Q1195.34 73.7508 1185.62 73.7508 Q1175.86 73.7508 1170.31 67.4314 Q1164.8 61.0714 1164.8 49.9314 Q1164.8 38.7509 1170.31 32.4315 Q1175.86 26.1121 1185.62 26.1121 Z\" fill=\"#000000\" fill-rule=\"evenodd\" fill-opacity=\"1\" /><path clip-path=\"url(#clip970)\" d=\"M 0 0 M1269.64 44.2197 Q1272.27 45.1109 1274.74 48.0275 Q1277.25 50.9442 1279.76 56.0483 L1288.07 72.576 L1279.28 72.576 L1271.54 57.061 Q1268.54 50.9847 1265.71 48.9997 Q1262.91 47.0148 1258.05 47.0148 L1249.14 47.0148 L1249.14 72.576 L1240.96 72.576 L1240.96 12.096 L1259.43 12.096 Q1269.8 12.096 1274.9 16.4305 Q1280.01 20.7649 1280.01 29.5149 Q1280.01 35.2267 1277.33 38.994 Q1274.7 42.7613 1269.64 44.2197 M1249.14 18.8205 L1249.14 40.2903 L1259.43 40.2903 Q1265.34 40.2903 1268.34 37.5762 Q1271.38 34.8216 1271.38 29.5149 Q1271.38 24.2082 1268.34 21.5346 Q1265.34 18.8205 1259.43 18.8205 L1249.14 18.8205 Z\" fill=\"#000000\" fill-rule=\"evenodd\" fill-opacity=\"1\" /><path clip-path=\"url(#clip970)\" d=\"M 0 0 M1330.97 48.0275 L1330.97 51.6733 L1296.7 51.6733 Q1297.18 59.3701 1301.31 63.421 Q1305.49 67.4314 1312.9 67.4314 Q1317.19 67.4314 1321.2 66.3781 Q1325.25 65.3249 1329.22 63.2184 L1329.22 70.267 Q1325.21 71.9684 1321 72.8596 Q1316.79 73.7508 1312.45 73.7508 Q1301.6 73.7508 1295.24 67.4314 Q1288.92 61.1119 1288.92 50.3365 Q1288.92 39.1965 1294.91 32.6746 Q1300.95 26.1121 1311.16 26.1121 Q1320.31 26.1121 1325.62 32.0264 Q1330.97 37.9003 1330.97 48.0275 M1323.51 45.84 Q1323.43 39.7232 1320.07 36.0774 Q1316.75 32.4315 1311.24 32.4315 Q1305 32.4315 1301.23 35.9558 Q1297.51 39.4801 1296.94 45.8805 L1323.51 45.84 Z\" fill=\"#000000\" fill-rule=\"evenodd\" fill-opacity=\"1\" /><path clip-path=\"url(#clip970)\" d=\"M 0 0 M1338.78 9.54393 L1346.24 9.54393 L1346.24 72.576 L1338.78 72.576 L1338.78 9.54393 Z\" fill=\"#000000\" fill-rule=\"evenodd\" fill-opacity=\"1\" /><path clip-path=\"url(#clip970)\" d=\"M 0 0 M1374.68 49.7694 Q1365.64 49.7694 1362.16 51.8354 Q1358.67 53.9013 1358.67 58.8839 Q1358.67 62.8538 1361.27 65.2034 Q1363.9 67.5124 1368.4 67.5124 Q1374.59 67.5124 1378.32 63.1374 Q1382.09 58.7219 1382.09 51.4303 L1382.09 49.7694 L1374.68 49.7694 M1389.54 46.6907 L1389.54 72.576 L1382.09 72.576 L1382.09 65.6895 Q1379.54 69.8214 1375.73 71.8063 Q1371.92 73.7508 1366.41 73.7508 Q1359.44 73.7508 1355.31 69.8619 Q1351.22 65.9325 1351.22 59.3701 Q1351.22 51.7138 1356.33 47.825 Q1361.47 43.9361 1371.64 43.9361 L1382.09 43.9361 L1382.09 43.2069 Q1382.09 38.0623 1378.69 35.2672 Q1375.32 32.4315 1369.21 32.4315 Q1365.32 32.4315 1361.63 33.3632 Q1357.95 34.295 1354.54 36.1584 L1354.54 29.2718 Q1358.63 27.692 1362.48 26.9223 Q1366.33 26.1121 1369.98 26.1121 Q1379.82 26.1121 1384.68 31.2163 Q1389.54 36.3204 1389.54 46.6907 Z\" fill=\"#000000\" fill-rule=\"evenodd\" fill-opacity=\"1\" /><path clip-path=\"url(#clip970)\" d=\"M 0 0 M1404.73 14.324 L1404.73 27.2059 L1420.09 27.2059 L1420.09 32.9987 L1404.73 32.9987 L1404.73 57.6282 Q1404.73 63.1779 1406.23 64.7578 Q1407.77 66.3376 1412.43 66.3376 L1420.09 66.3376 L1420.09 72.576 L1412.43 72.576 Q1403.8 72.576 1400.52 69.3758 Q1397.24 66.1351 1397.24 57.6282 L1397.24 32.9987 L1391.77 32.9987 L1391.77 27.2059 L1397.24 27.2059 L1397.24 14.324 L1404.73 14.324 Z\" fill=\"#000000\" fill-rule=\"evenodd\" fill-opacity=\"1\" /><path clip-path=\"url(#clip970)\" d=\"M 0 0 M1427.9 27.2059 L1435.36 27.2059 L1435.36 72.576 L1427.9 72.576 L1427.9 27.2059 M1427.9 9.54393 L1435.36 9.54393 L1435.36 18.9825 L1427.9 18.9825 L1427.9 9.54393 Z\" fill=\"#000000\" fill-rule=\"evenodd\" fill-opacity=\"1\" /><path clip-path=\"url(#clip970)\" d=\"M 0 0 M1437.83 27.2059 L1445.73 27.2059 L1459.91 65.2844 L1474.08 27.2059 L1481.98 27.2059 L1464.97 72.576 L1454.84 72.576 L1437.83 27.2059 Z\" fill=\"#000000\" fill-rule=\"evenodd\" fill-opacity=\"1\" /><path clip-path=\"url(#clip970)\" d=\"M 0 0 M1507.38 32.4315 Q1501.39 32.4315 1497.9 37.1306 Q1494.42 41.7891 1494.42 49.9314 Q1494.42 58.0738 1497.86 62.7728 Q1501.35 67.4314 1507.38 67.4314 Q1513.34 67.4314 1516.82 62.7323 Q1520.31 58.0333 1520.31 49.9314 Q1520.31 41.8701 1516.82 37.1711 Q1513.34 32.4315 1507.38 32.4315 M1507.38 26.1121 Q1517.11 26.1121 1522.66 32.4315 Q1528.2 38.7509 1528.2 49.9314 Q1528.2 61.0714 1522.66 67.4314 Q1517.11 73.7508 1507.38 73.7508 Q1497.62 73.7508 1492.07 67.4314 Q1486.56 61.0714 1486.56 49.9314 Q1486.56 38.7509 1492.07 32.4315 Q1497.62 26.1121 1507.38 26.1121 Z\" fill=\"#000000\" fill-rule=\"evenodd\" fill-opacity=\"1\" /><polyline clip-path=\"url(#clip972)\" style=\"stroke:#009af9; stroke-width:4; stroke-opacity:1; fill:none\" points=\"\n",
       "  291.792,701.458 312.004,1386.4 332.215,954.503 352.427,212.807 372.638,339.33 392.85,899.962 413.061,1026.48 433.273,284.789 453.484,1279.53 473.696,971.944 \n",
       "  493.907,1098.47 514.118,1386.4 534.33,483.293 554.541,1043.93 574.753,1386.4 594.964,862.861 615.176,989.384 635.387,1386.4 655.599,808.32 675.81,934.843 \n",
       "  696.022,1061.37 716.233,753.779 736.445,880.301 756.656,572.715 776.868,1386.4 797.079,825.76 817.291,264.236 837.502,1078.81 857.713,1205.33 877.925,1386.4 \n",
       "  898.136,1024.26 918.348,716.678 938.559,1277.31 958.771,969.723 978.982,1386.4 999.194,1222.77 1019.41,1386.4 1039.62,1386.4 1059.83,160.256 1080.04,1294.75 \n",
       "  1100.25,987.163 1120.46,679.577 1140.67,552.162 1160.89,932.622 1181.1,1386.4 1201.31,1185.67 1221.52,624.143 1241.73,570.494 1261.94,1386.4 1282.15,823.54 \n",
       "  1302.37,950.062 1322.58,1076.59 1342.79,768.998 1363,895.521 1383.21,1022.04 1403.42,1386.4 1423.63,1275.09 1443.85,533.393 1464.06,659.916 1484.27,1220.55 \n",
       "  1504.48,1386.4 1524.69,351.437 1544.9,1166.01 1565.11,1386.4 1585.33,984.943 1605.54,1386.4 1625.75,803.879 1645.96,1386.4 1666.17,1056.92 1686.38,749.338 \n",
       "  1706.6,1386.4 1726.81,1002.38 1747.02,1128.91 1767.23,387.21 1787.44,947.842 1807.65,1386.4 1827.86,766.778 1848.08,893.301 1868.29,1019.82 1888.5,1386.4 \n",
       "  1908.71,1272.87 1928.92,531.173 1949.13,1386.4 1969.34,1218.33 1989.56,910.741 2009.77,1386.4 2029.98,1163.79 2050.19,422.09 2070.4,1386.4 2090.61,1109.25 \n",
       "  2110.82,1235.77 2131.04,928.181 2151.25,366.657 2171.46,1181.23 2191.67,873.64 2211.88,312.115 2232.09,258.466 2252.3,1253.21 2272.52,1386.4 2292.73,638.035 \n",
       "  \n",
       "  \"/>\n",
       "<path clip-path=\"url(#clip970)\" d=\"\n",
       "M1995.37 287.756 L2282.06 287.756 L2282.06 166.796 L1995.37 166.796  Z\n",
       "  \" fill=\"#ffffff\" fill-rule=\"evenodd\" fill-opacity=\"1\"/>\n",
       "<polyline clip-path=\"url(#clip970)\" style=\"stroke:#000000; stroke-width:4; stroke-opacity:1; fill:none\" points=\"\n",
       "  1995.37,287.756 2282.06,287.756 2282.06,166.796 1995.37,166.796 1995.37,287.756 \n",
       "  \"/>\n",
       "<polyline clip-path=\"url(#clip970)\" style=\"stroke:#009af9; stroke-width:4; stroke-opacity:1; fill:none\" points=\"\n",
       "  2018.94,227.276 2160.34,227.276 \n",
       "  \"/>\n",
       "<path clip-path=\"url(#clip970)\" d=\"M 0 0 M2197.75 246.963 Q2195.94 251.593 2194.23 253.005 Q2192.52 254.417 2189.65 254.417 L2186.24 254.417 L2186.24 250.852 L2188.74 250.852 Q2190.5 250.852 2191.47 250.019 Q2192.45 249.185 2193.63 246.083 L2194.39 244.139 L2183.9 218.63 L2188.42 218.63 L2196.52 238.908 L2204.62 218.63 L2209.14 218.63 L2197.75 246.963 Z\" fill=\"#000000\" fill-rule=\"evenodd\" fill-opacity=\"1\" /><path clip-path=\"url(#clip970)\" d=\"M 0 0 M2215.02 240.621 L2222.65 240.621 L2222.65 214.255 L2214.34 215.922 L2214.34 211.662 L2222.61 209.996 L2227.28 209.996 L2227.28 240.621 L2234.92 240.621 L2234.92 244.556 L2215.02 244.556 L2215.02 240.621 Z\" fill=\"#000000\" fill-rule=\"evenodd\" fill-opacity=\"1\" /></svg>\n"
      ]
     },
     "execution_count": 126,
     "metadata": {},
     "output_type": "execute_result"
    }
   ],
   "source": [
    "# vamos plotar o erro da nossa função\n",
    "\n",
    "using Plots\n",
    "X = range(-10.0, 10.0, length=100)\n",
    "Erro = [max(abs(exp4(x) - exp(x)) / exp(x), 1e-16) for x in X]\n",
    "\n",
    "plot(X, Erro, yaxis=:log)\n",
    "xlabel!(\"n\")\n",
    "title!(\"Erro Relativo\")\n",
    "\n",
    "# o erro fica estável entre 1e-16 e 1e-15"
   ]
  },
  {
   "cell_type": "markdown",
   "metadata": {},
   "source": [
    "### Calculando PI"
   ]
  },
  {
   "cell_type": "markdown",
   "metadata": {},
   "source": [
    "$$ \\arctan 1 = \\frac{\\pi}{4} $$"
   ]
  },
  {
   "cell_type": "markdown",
   "metadata": {},
   "source": [
    "$$ \\frac{d}{dx} \\arctan x = \\frac{1}{1 + x^2} = 1 - x^2 + x^4 - x^6 - ... $$"
   ]
  },
  {
   "cell_type": "markdown",
   "metadata": {},
   "source": [
    "$$ \\arctan x = \\int_{}^{} \\frac{1}{1 + x^2}\\,dx = x - \\frac{x^3}{3} + \\frac{x^5}{5} - \\frac{x^7}{7} + ...$$"
   ]
  },
  {
   "cell_type": "code",
   "execution_count": 127,
   "metadata": {},
   "outputs": [
    {
     "data": {
      "text/plain": [
       "pi_atan (generic function with 1 method)"
      ]
     },
     "execution_count": 127,
     "metadata": {},
     "output_type": "execute_result"
    }
   ],
   "source": [
    "function pi_atan(n)\n",
    "    # π / 4 = 1 - 1/3 + 1/5 - 1/7 + 1/9 ... (-1)^n / 2n + 1\n",
    "    s = 0.0\n",
    "    \n",
    "    # pra evitar calcular exponencial de 1\n",
    "    for k = 1:n\n",
    "        s += (-1)^(k-1) / (2k - 1)\n",
    "    end\n",
    "\n",
    "    return 4s\n",
    "end"
   ]
  },
  {
   "cell_type": "code",
   "execution_count": 128,
   "metadata": {},
   "outputs": [
    {
     "data": {
      "text/plain": [
       "3.1415916535897743"
      ]
     },
     "execution_count": 128,
     "metadata": {},
     "output_type": "execute_result"
    }
   ],
   "source": [
    "pi_atan(1000000) # demora muuuito pra se aproximar de pi"
   ]
  },
  {
   "cell_type": "markdown",
   "metadata": {},
   "source": [
    "\n",
    "# Método da bisseção"
   ]
  },
  {
   "cell_type": "markdown",
   "metadata": {},
   "source": [
    "O objetivo é solucionar equações que não possuem solução analítica"
   ]
  },
  {
   "cell_type": "code",
   "execution_count": 129,
   "metadata": {},
   "outputs": [
    {
     "data": {
      "text/plain": [
       "bisseção (generic function with 1 method)"
      ]
     },
     "execution_count": 129,
     "metadata": {},
     "output_type": "execute_result"
    }
   ],
   "source": [
    "function bisseção(f, a, b; tolerância_absoluta = 1e-8, tolerância_relativa = 1e-8, max_tempo = 10.0, max_iterações = 1000)\n",
    "    fa = f(a)\n",
    "    fb = f(b)\n",
    "    \n",
    "    # critérios de parada\n",
    "    ϵ = tolerância_absoluta + tolerância_relativa * max(abs(fa), abs(fb)) # quando o valor da função chega próximo de zero, conforme as tolerâncias passadas \n",
    "    ϵ_intervalo = tolerância_absoluta + tolerância_relativa * abs(b - a) # quando o tamanho do intervalo se tornar muito curto\n",
    "    \n",
    "    # testes iniciais de parada\n",
    "    if abs(fa) <= ϵ\n",
    "        return a, fa, :sucesso # se algum dos valores passados já for o zero da função\n",
    "    elseif abs(fb) <= ϵ\n",
    "        return b, fb, :sucesso\n",
    "    elseif fa * fb >= 0\n",
    "        return a, fa, :falha_sinais_opostos # se o intervalo passado for ruim e não tiver variação de sinal\n",
    "    end\n",
    "    \n",
    "    ponto_médio = (a + b) / 2\n",
    "    fm = f(ponto_médio)\n",
    "    iterações = 0\n",
    "    \n",
    "    # calcula quanto tempo o programa está levando\n",
    "    t0 = time()\n",
    "    Δt = time() - t0\n",
    "    \n",
    "    # testa os critérios de parada\n",
    "    resolvido() = (abs(fm) <= ϵ) || (abs(b - a) <= ϵ_intervalo)\n",
    "    cansado() = (iterações >= max_iterações) || (Δt >= max_tempo)\n",
    "    \n",
    "    while !(resolvido() || cansado()) # roda enquanto nenhuma das condições de parada acima estão cumpridas\n",
    "        if fa * fm < 0 # se os sinais de fa e fm forem opostos, reduzimos o intervalo pelo lado b\n",
    "            b = ponto_médio\n",
    "            fb = fm\n",
    "        else\n",
    "            a = ponto_médio\n",
    "            fa = fm\n",
    "        end\n",
    "        \n",
    "        ponto_médio = (a + b) / 2\n",
    "        fm = f(ponto_médio)\n",
    "        \n",
    "        iterações += 1\n",
    "        Δt = time() - t0\n",
    "    end\n",
    "    \n",
    "    exitflag = :desconhecido\n",
    "    \n",
    "    # verifica qual das condições de parada foram alcançadas para retornar um feedback\n",
    "    if resolvido()\n",
    "        exitflag = :sucesso\n",
    "    else\n",
    "        if iterações >= max_iterações\n",
    "            exitflag = :max_iterações\n",
    "        else\n",
    "            exitflag = :max_tempo\n",
    "        end\n",
    "    end\n",
    "    \n",
    "    return ponto_médio, fm, iterações, exitflag\n",
    "end"
   ]
  },
  {
   "cell_type": "markdown",
   "metadata": {},
   "source": [
    "Fazendo alguns testes com funções de exemplo"
   ]
  },
  {
   "cell_type": "code",
   "execution_count": 130,
   "metadata": {},
   "outputs": [
    {
     "data": {
      "text/plain": [
       "(0.5671432912349701, 2.2801733834398874e-9, 24, :sucesso)"
      ]
     },
     "execution_count": 130,
     "metadata": {},
     "output_type": "execute_result"
    }
   ],
   "source": [
    "f(x) = exp(x)*x - 1\n",
    "a, b = 0.0, 1.0\n",
    "\n",
    "bisseção(f, a, b)"
   ]
  },
  {
   "cell_type": "code",
   "execution_count": 131,
   "metadata": {},
   "outputs": [
    {
     "data": {
      "text/plain": [
       "(1.4142135679721832, 1.583661290993632e-8, 24, :sucesso)"
      ]
     },
     "execution_count": 131,
     "metadata": {},
     "output_type": "execute_result"
    }
   ],
   "source": [
    "f(x) = x^2 - 2\n",
    "a, b = 1.0, 2.0\n",
    "\n",
    "bisseção(f, a, b)"
   ]
  },
  {
   "cell_type": "code",
   "execution_count": 132,
   "metadata": {},
   "outputs": [
    {
     "data": {
      "text/plain": [
       "(1.414213562373095, -4.440892098500626e-16, 1000, :max_iterações)"
      ]
     },
     "execution_count": 132,
     "metadata": {},
     "output_type": "execute_result"
    }
   ],
   "source": [
    "f(x) = x^2 - 2\n",
    "a, b = 1.0, 2.0\n",
    "\n",
    "bisseção(f, a, b, tolerância_absoluta= 1e-100, tolerância_relativa = 0.0)"
   ]
  },
  {
   "cell_type": "code",
   "execution_count": 133,
   "metadata": {},
   "outputs": [
    {
     "data": {
      "text/plain": [
       "(1.41421356237309504880168872420969807856967187537694807317667973799073247846210703885038753432764157270652639468506542033758106760787262467057165468733028807, -8.05746806671660898226333488788170328822662981957751925118139190326809864796976360221214459765968160100814326481116346523751935500304405689665295199347538888e-101, 330, :sucesso)"
      ]
     },
     "execution_count": 133,
     "metadata": {},
     "output_type": "execute_result"
    }
   ],
   "source": [
    "setprecision(512)\n",
    "f(x) = x^2 - 2\n",
    "a, b = big\"1.0\", big\"2.0\"\n",
    "\n",
    "bisseção(f, a, b, tolerância_absoluta= 1e-100, tolerância_relativa = 0.0)"
   ]
  },
  {
   "cell_type": "code",
   "execution_count": 134,
   "metadata": {},
   "outputs": [
    {
     "data": {
      "text/plain": [
       "1.41421356237309504880168872420969807856967187537694807317667973799073247846210703885038753432764157273501384623091229702492483605585073721264412149709993586"
      ]
     },
     "execution_count": 134,
     "metadata": {},
     "output_type": "execute_result"
    }
   ],
   "source": [
    "sqrt(big\"2\")"
   ]
  },
  {
   "cell_type": "code",
   "execution_count": 135,
   "metadata": {},
   "outputs": [
    {
     "data": {
      "text/plain": [
       "(0.015990912914276123, 0.0002747942044152296, 23, :sucesso)"
      ]
     },
     "execution_count": 135,
     "metadata": {},
     "output_type": "execute_result"
    }
   ],
   "source": [
    "n = 48\n",
    "v = 40_000\n",
    "p = 1200\n",
    "\n",
    "function eq_price(i)\n",
    "    if i == 0\n",
    "        return p - v / n\n",
    "    else\n",
    "        return p - v * (1 + i)^n * i / ((1 + i)^n - 1)\n",
    "    end\n",
    "end\n",
    "\n",
    "bisseção(eq_price, 0.0, 1.0)"
   ]
  },
  {
   "cell_type": "code",
   "execution_count": null,
   "metadata": {},
   "outputs": [],
   "source": []
  },
  {
   "cell_type": "markdown",
   "metadata": {},
   "source": [
    "# Lista 1 - Polinômios de Taylor"
   ]
  },
  {
   "cell_type": "markdown",
   "metadata": {},
   "source": [
    "## 1)\n",
    "Considere a função f(x) = sen(πx/2) e seja Pn(x) seu polinômio de Taylor de ordem n na origem. Determine n de modo que, para todo 0 ≤ x ≤ 2π, o polinômio Pn(x) seja uma aproximação de f(x) para a qual as 6 primeiras casas decimais são corretas."
   ]
  },
  {
   "cell_type": "markdown",
   "metadata": {},
   "source": [
    "Para chegarmos nesse resultado, precisaremos que\n",
    "$ Erro(x) \\leq 10^{-6}$\n",
    "\n",
    "Pelo teorema do erro no polinômio de taylor, temos que\n",
    "\n",
    "$$ |sin(\\pi x/2) - P_{n}(x)| \\leq |\\frac{f^{n+1}(x) \\cdot (\\frac{\\pi x}{2})^{n+1}}{(n+1)!}|$$\n",
    "\n",
    "Cada vez que derivamos a função $sin(\\pi x/2)$, aparece um novo coeficiente $\\frac{\\pi}{2}$, também, como $sin(\\theta)$ e todas as suas derivadas possuem valor entre -1 e 1, podemos afirmar que todas as derivadas da função $sin(\\pi x/2)$ possuem como teto, a função $f(n) = (\\frac{\\pi}{2})^n$\n",
    "\n",
    "Portanto, para solucionar o problema, devemos achar $n$ tal que\n",
    "\n",
    "$$ |\\frac{(\\frac{\\pi}{2})^n \\cdot f^{n+1}(x) \\cdot (\\frac{\\pi x}{2})^{n+1}}{(n+1)!}| \\leq 10^{-6}$$\n",
    "\n",
    "Como queremos que esse erro valha para todos os pontos de $sin(\\pi x/2)$, podemos considerar que $x = 2\\pi$ que é o ponto mais distante em relação ao ponto que Polinômio está centrado\n",
    "\n",
    "O algoritmo abaixo testa valores de n até que o erro esteja dentro do limite proposto"
   ]
  },
  {
   "cell_type": "code",
   "execution_count": 136,
   "metadata": {},
   "outputs": [
    {
     "name": "stdout",
     "output_type": "stream",
     "text": [
      "36\n"
     ]
    }
   ],
   "source": [
    "n = 0\n",
    "x = 2π\n",
    "erro = abs(((π/2)^n * x^(n+1)) / factorial(big(n + 1)))\n",
    "\n",
    "while erro >= 1e-6\n",
    "    n += 1\n",
    "    erro = abs(((π/2)^n * x^(n+1)) / factorial(big(n + 1)))\n",
    "end\n",
    "\n",
    "println(n)"
   ]
  },
  {
   "cell_type": "markdown",
   "metadata": {},
   "source": [
    "Portanto chegamos a conclusão que n = 36"
   ]
  },
  {
   "cell_type": "markdown",
   "metadata": {},
   "source": [
    "Exercícios 3) e 4) estão em anexos pois foram feitos no papel"
   ]
  },
  {
   "cell_type": "markdown",
   "metadata": {},
   "source": [
    "# Lista 2 - Zero de Funções"
   ]
  },
  {
   "cell_type": "markdown",
   "metadata": {},
   "source": [
    "## 1) a)"
   ]
  },
  {
   "cell_type": "code",
   "execution_count": 137,
   "metadata": {},
   "outputs": [
    {
     "name": "stdout",
     "output_type": "stream",
     "text": [
      "raiz entre 0.0 e 1.0 => 0.45782470703125\n",
      "\n"
     ]
    }
   ],
   "source": [
    "f(x) = 3x - 2^x\n",
    "\n",
    "raiz, fr, n_iter, res = bisseção(f, 0.0, 1.0, tolerância_absoluta = 1e-5, tolerância_relativa = 1e-5)\n",
    "println(\"raiz entre 0.0 e 1.0 => $raiz\\n\")"
   ]
  },
  {
   "cell_type": "markdown",
   "metadata": {},
   "source": [
    "## 1) b)"
   ]
  },
  {
   "cell_type": "code",
   "execution_count": 138,
   "metadata": {},
   "outputs": [
    {
     "name": "stdout",
     "output_type": "stream",
     "text": [
      "raiz entre 0.2 e 0.3 => 0.29753417968750007\n",
      "\n",
      "raiz entre 1.2 e 1.3 => 1.256622314453125\n"
     ]
    }
   ],
   "source": [
    "f(x) = x*cos(x) - 2x^2 + 3x -1\n",
    "\n",
    "raiz, fr, n_iter, res = bisseção(f, 0.2, 0.3, tolerância_absoluta = 1e-5, tolerância_relativa = 1e-5)\n",
    "println(\"raiz entre 0.2 e 0.3 => $raiz\\n\")\n",
    "\n",
    "raiz, fr, n_iter, res = bisseção(f, 1.2, 1.3, tolerância_absoluta = 1e-5, tolerância_relativa = 1e-5)\n",
    "println(\"raiz entre 1.2 e 1.3 => $raiz\")"
   ]
  },
  {
   "cell_type": "markdown",
   "metadata": {},
   "source": [
    "## 2)"
   ]
  },
  {
   "cell_type": "code",
   "execution_count": 139,
   "metadata": {},
   "outputs": [
    {
     "name": "stdout",
     "output_type": "stream",
     "text": [
      "raiz entre 1.0 e 2.0 => 1.37890625\n",
      "\n"
     ]
    }
   ],
   "source": [
    "f(x) = x^3 + x - 4\n",
    "\n",
    "raiz, fr, n_iter, res = bisseção(f, 1.0, 2.0, tolerância_absoluta = 1e-3, tolerância_relativa = 1e-3)\n",
    "println(\"raiz entre 1.0 e 2.0 => $raiz\\n\")"
   ]
  },
  {
   "cell_type": "markdown",
   "metadata": {},
   "source": [
    "## 6)"
   ]
  },
  {
   "cell_type": "markdown",
   "metadata": {},
   "source": [
    "Pontos críticos são quando a derivada é zero ou não existe\n",
    "\n",
    "Pelo algoritmo abaixo, temos os pontos {0.0 e 0.5671432903036475}"
   ]
  },
  {
   "cell_type": "code",
   "execution_count": 140,
   "metadata": {},
   "outputs": [
    {
     "name": "stdout",
     "output_type": "stream",
     "text": [
      "raiz entre 0.0 e 1.0 => 0.5671432903036475\n",
      "\n"
     ]
    }
   ],
   "source": [
    "f(x) = x^2/2 + x*(log(x) - 1)\n",
    "df(x) = x + log(x)\n",
    "\n",
    "raiz, fr, n_iter, res = bisseção(df, 0.1, 1.0, tolerância_absoluta = 1e-10, tolerância_relativa = 1e-10)\n",
    "println(\"raiz entre 0.0 e 1.0 => $raiz\\n\")"
   ]
  },
  {
   "cell_type": "markdown",
   "metadata": {},
   "source": [
    "## 7)"
   ]
  },
  {
   "cell_type": "code",
   "execution_count": 141,
   "metadata": {},
   "outputs": [
    {
     "name": "stdout",
     "output_type": "stream",
     "text": [
      "raiz entre 0.0 e 1.0 => 0.44742187499999997\n",
      "\n"
     ]
    }
   ],
   "source": [
    "f(x) = tan(π * x) - 6\n",
    "\n",
    "raiz, fr, n_iter, res = bisseção(f, 0.0, 0.48, tolerância_absoluta = 1e-10, tolerância_relativa = 1e-10, max_iterações = 10)\n",
    "println(\"raiz entre 0.0 e 1.0 => $raiz\\n\")"
   ]
  },
  {
   "cell_type": "code",
   "execution_count": null,
   "metadata": {},
   "outputs": [],
   "source": []
  }
 ],
 "metadata": {
  "kernelspec": {
   "display_name": "Julia 1.5.3",
   "language": "julia",
   "name": "julia-1.5"
  },
  "language_info": {
   "file_extension": ".jl",
   "mimetype": "application/julia",
   "name": "julia",
   "version": "1.5.3"
  }
 },
 "nbformat": 4,
 "nbformat_minor": 4
}
