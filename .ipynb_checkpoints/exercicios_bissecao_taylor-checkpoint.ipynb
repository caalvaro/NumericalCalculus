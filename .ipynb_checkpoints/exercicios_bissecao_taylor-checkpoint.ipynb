{
 "cells": [
  {
   "cell_type": "code",
   "execution_count": 1,
   "metadata": {},
   "outputs": [
    {
     "data": {
      "text/plain": [
       "bisseção (generic function with 1 method)"
      ]
     },
     "execution_count": 1,
     "metadata": {},
     "output_type": "execute_result"
    }
   ],
   "source": [
    "sinal(n) = n > 0 ? 1 : -1\n",
    "\n",
    "\n",
    "function bisseção(f, a, b)\n",
    "    c = (a + b) / 2\n",
    "    \n",
    "    while abs(a - b) > 1e-10\n",
    "        if sinal(f(c)) == sinal(f(a))\n",
    "            a = c\n",
    "        else\n",
    "            b = c\n",
    "        end\n",
    "        \n",
    "        c = (a + b) / 2\n",
    "        \n",
    "    end\n",
    "    \n",
    "    return c\n",
    "end"
   ]
  },
  {
   "cell_type": "code",
   "execution_count": 2,
   "metadata": {},
   "outputs": [
    {
     "data": {
      "text/plain": [
       "z (generic function with 1 method)"
      ]
     },
     "execution_count": 2,
     "metadata": {},
     "output_type": "execute_result"
    }
   ],
   "source": [
    "z(x) = (x-1)*(x-3)"
   ]
  },
  {
   "cell_type": "code",
   "execution_count": 3,
   "metadata": {},
   "outputs": [
    {
     "data": {
      "text/plain": [
       "3.000000000029104"
      ]
     },
     "execution_count": 3,
     "metadata": {},
     "output_type": "execute_result"
    }
   ],
   "source": [
    "bisseção(z, 0.0, 4)"
   ]
  },
  {
   "cell_type": "code",
   "execution_count": 37,
   "metadata": {},
   "outputs": [
    {
     "data": {
      "text/plain": [
       "20.085536"
      ]
     },
     "execution_count": 37,
     "metadata": {},
     "output_type": "execute_result"
    }
   ],
   "source": [
    "exp(3)\n",
    "aprox = 20.085536"
   ]
  },
  {
   "cell_type": "code",
   "execution_count": 38,
   "metadata": {},
   "outputs": [
    {
     "data": {
      "text/plain": [
       "9.231876667570305e-7"
      ]
     },
     "execution_count": 38,
     "metadata": {},
     "output_type": "execute_result"
    }
   ],
   "source": [
    "exp(3) - aprox"
   ]
  },
  {
   "cell_type": "code",
   "execution_count": 39,
   "metadata": {},
   "outputs": [
    {
     "data": {
      "text/plain": [
       "true"
      ]
     },
     "execution_count": 39,
     "metadata": {},
     "output_type": "execute_result"
    }
   ],
   "source": [
    "exp(3) - aprox < 1e-6"
   ]
  },
  {
   "cell_type": "code",
   "execution_count": 105,
   "metadata": {},
   "outputs": [
    {
     "name": "stdout",
     "output_type": "stream",
     "text": [
      "x = 0, erro = 0.0, É menor que 10^-6? Sim\n",
      "\n",
      "x = 1, erro = 3.506047023779093378194614784701249363504389551913421696973477365720101696609909e-26, É menor que 10^-6? Sim\n",
      "\n",
      "x = 2, erro = 1.882294663171167548484503752951243393324021134739030051494738433145508534591709e-17, É menor que 10^-6? Sim\n",
      "\n",
      "x = 3, erro = 2.406213303009840815641006433559220570362413737051177692899550067823249297048466e-12, É menor que 10^-6? Sim\n",
      "\n",
      "x = 4, erro = 1.010549252469437533859679747714356732107841938114617945741387185804280195670034e-08, É menor que 10^-6? Sim\n",
      "\n",
      "x = 5, erro = 6.300626601336192105776321846070970645698392394402302101491310883960950922863018e-08, É menor que 10^-6? Sim\n",
      "\n",
      "x = 6, erro = 2.631418572869563604348616984518165420268030903947979560086408595682206608385404e-07, É menor que 10^-6? Sim\n",
      "\n"
     ]
    }
   ],
   "source": [
    "n = 28\n",
    "X = [0, 1, 2, 3, 4, 5, 6]\n",
    "\n",
    "for x in X\n",
    "    erro = abs(((π/2)^n * x^(n+1)) / factorial(big(n + 1)))\n",
    "    teste = erro <= 1e-6\n",
    "    println(\"x = $x, erro = $erro, É menor que 10^-6? $(teste ? \"Sim\" : \"Não\")\\n\")\n",
    "end\n"
   ]
  },
  {
   "cell_type": "code",
   "execution_count": 179,
   "metadata": {},
   "outputs": [
    {
     "name": "stdout",
     "output_type": "stream",
     "text": [
      "x = 6.283185307179586, erro = 2.845993010430058976639469617014675240132534302869179614567777729430942616774254e-07, É menor que 10^-6? Sim\n",
      "\n"
     ]
    }
   ],
   "source": [
    "n = 36\n",
    "#X = [0, 1, 2, 3, 4, 5, 6]\n",
    "X = [2π]\n",
    "for x in X\n",
    "    erro = abs(((π/2)^n * x^(n+1)) / factorial(big(n + 1)))\n",
    "    teste = erro <= 1e-6\n",
    "    println(\"x = $x, erro = $erro, É menor que 10^-6? $(teste ? \"Sim\" : \"Não\")\\n\")\n",
    "end"
   ]
  },
  {
   "cell_type": "code",
   "execution_count": 82,
   "metadata": {},
   "outputs": [
    {
     "data": {
      "text/plain": [
       "taylor_sen (generic function with 2 methods)"
      ]
     },
     "execution_count": 82,
     "metadata": {},
     "output_type": "execute_result"
    }
   ],
   "source": [
    "function taylor_sen(x, n)\n",
    "    s = 0.0\n",
    "    coef = 0.0\n",
    "    \n",
    "    for k = 1:n\n",
    "        if k % 2 == 0\n",
    "            coef = 0.0\n",
    "        elseif k % 4 == 1\n",
    "            coef = 1.0\n",
    "        else\n",
    "            coef = -1.0\n",
    "        end\n",
    "        \n",
    "        derivada = coef * (π/2.0)^k\n",
    "        \n",
    "        s += (x^k * derivada) / factorial(big(k))\n",
    "    end\n",
    "    \n",
    "    return s\n",
    "end"
   ]
  },
  {
   "cell_type": "code",
   "execution_count": 181,
   "metadata": {},
   "outputs": [
    {
     "name": "stdout",
     "output_type": "stream",
     "text": [
      "0.0\n",
      "0.4999999999999999470514324509014523497175359460083266487621857856186408387525784\n",
      "1.000000000000000012027628710240725418005337534588138745023800723322650650367563\n",
      "-1.00000000000369239040054577951130723030930948101507385669237821361460407598676\n",
      "-0.4303016363194555713751836937008769407200324197299223824700153095402395011452318\n",
      "-0.4303012170000917\n"
     ]
    }
   ],
   "source": [
    "println(taylor_sen(0.0, 28)) # == 0.0\n",
    "println(taylor_sen(1/3, 28)) # == 0.5\n",
    "println(taylor_sen(1.0, 28)) # == 1.0\n",
    "println(taylor_sen(3.0, 28)) # == -1.0\n",
    "println(taylor_sen(2*π, 35))\n",
    "println(sin(π*π))"
   ]
  },
  {
   "cell_type": "code",
   "execution_count": 119,
   "metadata": {},
   "outputs": [
    {
     "name": "stdout",
     "output_type": "stream",
     "text": [
      "x = 2, erro = 2.505822611642717462823282929103034923140743246563352383458203564023669843775656e-08, É menor que 10^-7? Sim\n",
      "\n"
     ]
    }
   ],
   "source": [
    "n = 14\n",
    "x = 2\n",
    "\n",
    "erro = abs((x^(n+1)) / factorial(big(n + 1)))\n",
    "teste = erro <= 1e-7\n",
    "println(\"x = $x, erro = $erro, É menor que 10^-7? $(teste ? \"Sim\" : \"Não\")\\n\")"
   ]
  },
  {
   "cell_type": "code",
   "execution_count": null,
   "metadata": {},
   "outputs": [],
   "source": []
  },
  {
   "cell_type": "code",
   "execution_count": 130,
   "metadata": {},
   "outputs": [
    {
     "name": "stdout",
     "output_type": "stream",
     "text": [
      "x = 1.01, erro = 1.666666666666671179341984003937267762770109887545307477315266927083333333333326e-07, É menor que 10^-6? Sim\n",
      "\n"
     ]
    }
   ],
   "source": [
    "n = 2\n",
    "x = 1.01\n",
    "\n",
    "erro = abs(((x-1)^(n+1)) / factorial(big(n + 1)))\n",
    "teste = erro <= 1e-6\n",
    "println(\"x = $x, erro = $erro, É menor que 10^-6? $(teste ? \"Sim\" : \"Não\")\\n\")"
   ]
  },
  {
   "cell_type": "code",
   "execution_count": 135,
   "metadata": {},
   "outputs": [
    {
     "data": {
      "text/plain": [
       "1.0049875"
      ]
     },
     "execution_count": 135,
     "metadata": {},
     "output_type": "execute_result"
    }
   ],
   "source": [
    "res = 1 + 0.01/2 - 0.01^2 / 8"
   ]
  },
  {
   "cell_type": "code",
   "execution_count": 136,
   "metadata": {},
   "outputs": [
    {
     "data": {
      "text/plain": [
       "true"
      ]
     },
     "execution_count": 136,
     "metadata": {},
     "output_type": "execute_result"
    }
   ],
   "source": [
    "sqrt(1.01) - res"
   ]
  },
  {
   "cell_type": "code",
   "execution_count": 146,
   "metadata": {},
   "outputs": [
    {
     "data": {
      "text/plain": [
       "bisseção (generic function with 1 method)"
      ]
     },
     "execution_count": 146,
     "metadata": {},
     "output_type": "execute_result"
    }
   ],
   "source": [
    "function bisseção(f, a, b; atol = 1e-8, rtol = 1e-8, max_time = 10.0, max_iter = 1000)\n",
    "    fa = f(a)\n",
    "    fb = f(b)\n",
    "    \n",
    "    ϵ = atol + rtol * max(abs(fa), abs(fb))\n",
    "    ϵba = atol + rtol * abs(b - a)\n",
    "    \n",
    "    if abs(fa) <= ϵ\n",
    "        return a, fa, :sucesso\n",
    "    elseif abs(fb) <= ϵ\n",
    "        return b, fb, :sucesso\n",
    "    elseif fa * fb >= 0\n",
    "        return a, fa, :falha_sinais_opostos\n",
    "    end\n",
    "    \n",
    "    x = (a + b) / 2\n",
    "    fx = f(x)\n",
    "    iter = 0\n",
    "    t0 = time()\n",
    "    Δt = time() - t0\n",
    "    \n",
    "    resolvido() = (abs(fx) <= ϵ || abs(b - a) <= ϵba)\n",
    "    cansado() = (iter >= max_iter || Δt >= max_time)\n",
    "    \n",
    "    while !(resolvido() || cansado())\n",
    "        if fa * fx < 0\n",
    "            b = x\n",
    "            fb = fx\n",
    "        else\n",
    "            a = x\n",
    "            fa = fx\n",
    "        end\n",
    "        \n",
    "        x = (a + b) / 2\n",
    "        fx = f(x)\n",
    "        \n",
    "        iter += 1\n",
    "        Δt = time() - t0\n",
    "    end\n",
    "    \n",
    "    exitflag = :desconhecido\n",
    "    \n",
    "    if resolvido()\n",
    "        exitflag = :sucesso\n",
    "    else\n",
    "        if iter >= max_iter\n",
    "            exitflag = :max_iter\n",
    "        else\n",
    "            exitflag = :max_time\n",
    "        end\n",
    "    end\n",
    "    \n",
    "    return x, fx, iter, exitflag\n",
    "end"
   ]
  },
  {
   "cell_type": "code",
   "execution_count": 147,
   "metadata": {},
   "outputs": [
    {
     "data": {
      "text/plain": [
       "(0.45782470703125, 4.779584270142578e-6, 13, :sucesso)"
      ]
     },
     "execution_count": 147,
     "metadata": {},
     "output_type": "execute_result"
    }
   ],
   "source": [
    "fun(x) = 3x - 2^x\n",
    "\n",
    "bisseção(fun, 0.0, 1.0, atol = 1e-5, rtol = 1e-5)"
   ]
  },
  {
   "cell_type": "code",
   "execution_count": 148,
   "metadata": {},
   "outputs": [
    {
     "data": {
      "text/plain": [
       "((0.29753417968750007, 1.0570228098139012e-5, 11, :sucesso), (1.256622314453125, 2.936027865718671e-6, 13, :sucesso))"
      ]
     },
     "execution_count": 148,
     "metadata": {},
     "output_type": "execute_result"
    }
   ],
   "source": [
    "fun(x) = x*cos(x) - 2x^2 + 3x -1\n",
    "\n",
    "bisseção(fun, 0.2, 0.3, atol = 1e-5, rtol = 1e-5), bisseção(fun, 1.2, 1.3, atol = 1e-5, rtol = 1e-5)"
   ]
  },
  {
   "cell_type": "code",
   "execution_count": 153,
   "metadata": {},
   "outputs": [
    {
     "data": {
      "text/plain": [
       "(1.37890625, 0.0007343888282775879, 7, :sucesso)"
      ]
     },
     "execution_count": 153,
     "metadata": {},
     "output_type": "execute_result"
    }
   ],
   "source": [
    "fun(x) = x^3 + x - 4\n",
    "\n",
    "bisseção(fun, 1.0, 2.0, atol = 1e-3, rtol = 1e-3)"
   ]
  },
  {
   "cell_type": "code",
   "execution_count": null,
   "metadata": {},
   "outputs": [],
   "source": []
  }
 ],
 "metadata": {
  "kernelspec": {
   "display_name": "Julia 1.5.3",
   "language": "julia",
   "name": "julia-1.5"
  },
  "language_info": {
   "file_extension": ".jl",
   "mimetype": "application/julia",
   "name": "julia",
   "version": "1.5.3"
  }
 },
 "nbformat": 4,
 "nbformat_minor": 4
}
